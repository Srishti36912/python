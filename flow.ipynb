{
 "cells": [
  {
   "cell_type": "markdown",
   "metadata": {},
   "source": [
    "# Programming flow\n",
    "- conditional flow\n",
    "   - if\n",
    "   - if else\n",
    "   - if elif else\n",
    "   - match case\n",
    "- iterative flow\n",
    "   - for loop\n",
    "   - while loop"
   ]
  },
  {
   "cell_type": "code",
   "execution_count": 2,
   "metadata": {},
   "outputs": [
    {
     "name": "stdout",
     "output_type": "stream",
     "text": [
      "Hello everyone\n"
     ]
    }
   ],
   "source": [
    "if 'hello' :\n",
    "    print('Hello everyone')"
   ]
  },
  {
   "cell_type": "code",
   "execution_count": 3,
   "metadata": {},
   "outputs": [
    {
     "name": "stdout",
     "output_type": "stream",
     "text": [
      "Hello everyone\n"
     ]
    }
   ],
   "source": [
    "x = 'hello'\n",
    "if len(x) >= 5:\n",
    "    print('Hello everyone') "
   ]
  },
  {
   "cell_type": "code",
   "execution_count": 5,
   "metadata": {},
   "outputs": [
    {
     "name": "stdout",
     "output_type": "stream",
     "text": [
      "a * 2 is greater than 100\n",
      "a + 50 is greater than 100\n"
     ]
    }
   ],
   "source": [
    "a = int(input('Enter a number:'))\n",
    "if a * 2 > 100 : \n",
    "    print('a * 2 is greater than 100')\n",
    "if a + 50 > 150 : \n",
    "    print('a + 50 is greater than 100')\n"
   ]
  },
  {
   "cell_type": "code",
   "execution_count": 6,
   "metadata": {},
   "outputs": [
    {
     "name": "stdout",
     "output_type": "stream",
     "text": [
      "x is even\n"
     ]
    }
   ],
   "source": [
    "x = int(input('Enter a number:'))\n",
    "if x % 2 == 0:\n",
    "    print('x is even')\n",
    "else:\n",
    "    print('x is odd')"
   ]
  },
  {
   "cell_type": "markdown",
   "metadata": {},
   "source": [
    "WAP to find out the total salary of the employee based on the following data\n",
    "```\n",
    "salary : user inputed\n",
    "hra = 5%\n",
    "da = 3.3 %\n",
    "ta = 2.61 %\n",
    "```\n",
    "\n",
    "`total = salary + da + ta + hra`\n",
    "\n",
    "*rule*\n",
    "`if hra is less than 1000 then don't add hra to total`"
   ]
  },
  {
   "cell_type": "code",
   "execution_count": 3,
   "metadata": {},
   "outputs": [
    {
     "name": "stdout",
     "output_type": "stream",
     "text": [
      "499095.0\n"
     ]
    }
   ],
   "source": [
    "salary = int(input('Enter your salary:'))\n",
    "da = (3.3/100) * salary \n",
    "ta = (2.61/100) * salary\n",
    "hra = (5/100) * salary\n",
    "if hra < 1000:\n",
    "    total = salary + da + ta\n",
    "    print(total)\n",
    "else :\n",
    "    total = salary + da + ta + hra\n",
    "    print(total)    "
   ]
  },
  {
   "cell_type": "code",
   "execution_count": 3,
   "metadata": {},
   "outputs": [
    {
     "name": "stdout",
     "output_type": "stream",
     "text": [
      "Movie: Wish\n",
      "⭐⭐⭐ (average)\n"
     ]
    }
   ],
   "source": [
    "name = input('What movie did you watch')\n",
    "num_str = input('Enter movie rating')\n",
    "if num_str.isnumeric():\n",
    "    num = int(num_str)\n",
    "    print(f\"Movie: {name}\")\n",
    "    if num == 1:\n",
    "        print('⭐ (terrible')\n",
    "    elif num == 2:\n",
    "        print('⭐⭐ (bad)')\n",
    "    elif num == 3:\n",
    "        print('⭐⭐⭐ (average)')\n",
    "    elif num == 4:\n",
    "        print('⭐⭐⭐⭐ (good)')\n",
    "    elif num == 5:\n",
    "        print('⭐⭐⭐⭐⭐ (excellent)')\n",
    "    else:\n",
    "        print('⚠ Invalid rating ⚠')\n",
    "else:\n",
    "    print('You are stupid, just watch movies')"
   ]
  },
  {
   "cell_type": "code",
   "execution_count": 6,
   "metadata": {},
   "outputs": [
    {
     "name": "stdout",
     "output_type": "stream",
     "text": [
      "Data science/Data analysis class\n"
     ]
    }
   ],
   "source": [
    "# match case - use this to match multiple values\n",
    "day = input('Enter a day of the week: ')\n",
    "match day.lower():\n",
    "    case 'monday'|'tuesday'|'wednesday'|'friday':\n",
    "        print('Data science/Data analysis class')\n",
    "    case 'thursday':\n",
    "        print('Class Off')\n",
    "    case 'saturday'|'sunday' :\n",
    "        print('Weekend (no class)')\n",
    "    case _: # default day\n",
    "        print('Invalid day')"
   ]
  },
  {
   "cell_type": "markdown",
   "metadata": {},
   "source": [
    "# Single line condition"
   ]
  },
  {
   "cell_type": "code",
   "execution_count": 7,
   "metadata": {},
   "outputs": [
    {
     "data": {
      "text/plain": [
       "'above 100'"
      ]
     },
     "execution_count": 7,
     "metadata": {},
     "output_type": "execute_result"
    }
   ],
   "source": [
    "x = int(input('Enter a number:'))\n",
    "\"above 100\" if x > 100 else \"below 100\""
   ]
  },
  {
   "cell_type": "markdown",
   "metadata": {},
   "source": [
    "#### for loop\n",
    "- step based\n",
    "- traversal\n",
    "```\n",
    "for var in iterable:\n",
    "   statement...\n",
    "```\n",
    "#### while loop\n",
    "- condition based"
   ]
  },
  {
   "cell_type": "code",
   "execution_count": 8,
   "metadata": {},
   "outputs": [
    {
     "name": "stdout",
     "output_type": "stream",
     "text": [
      "h\n",
      "e\n",
      "l\n",
      "l\n",
      "o\n",
      "o\n",
      "o\n",
      "o\n"
     ]
    }
   ],
   "source": [
    "for v in 'helloooo':\n",
    "    print(v)"
   ]
  },
  {
   "cell_type": "code",
   "execution_count": 9,
   "metadata": {},
   "outputs": [
    {
     "name": "stdout",
     "output_type": "stream",
     "text": [
      "red\n",
      "green\n",
      "blue\n"
     ]
    }
   ],
   "source": [
    "colors = ['red', 'green', 'blue']\n",
    "for i in colors:\n",
    "    print(i)"
   ]
  },
  {
   "cell_type": "code",
   "execution_count": 10,
   "metadata": {},
   "outputs": [
    {
     "name": "stdout",
     "output_type": "stream",
     "text": [
      "0 red\n",
      "1 green\n",
      "2 blue\n"
     ]
    }
   ],
   "source": [
    "# index and value\n",
    "for i, v in enumerate(colors):\n",
    "    print(i, v)"
   ]
  },
  {
   "cell_type": "code",
   "execution_count": 13,
   "metadata": {},
   "outputs": [
    {
     "name": "stdout",
     "output_type": "stream",
     "text": [
      "12 => 120\n",
      "56 => 560\n",
      " 7 => 70\n",
      " 2 => 20\n",
      " 6 => 60\n",
      "10 => 100\n",
      "20 => 200\n"
     ]
    }
   ],
   "source": [
    "numlist = [12, 56, 7, 2, 6, 10, 20]\n",
    "for num in numlist:\n",
    "    print(f'{num:>2} => {num * 10}')"
   ]
  },
  {
   "cell_type": "code",
   "execution_count": 18,
   "metadata": {},
   "outputs": [
    {
     "name": "stdout",
     "output_type": "stream",
     "text": [
      "13\n",
      "26\n",
      "39\n",
      "52\n",
      "65\n",
      "78\n",
      "91\n",
      "104\n",
      "117\n",
      "130\n"
     ]
    }
   ],
   "source": [
    "seq = [1, 2, 3, 4, 5, 6, 7, 8, 9, 10]\n",
    "num = 13\n",
    "for n in seq:\n",
    "    print(f'{num} * {i} = {n*i}')"
   ]
  },
  {
   "cell_type": "markdown",
   "metadata": {},
   "source": [
    "- range(value) => `start from 0 go till value -1`\n",
    "- range(a,b) => `start from a go till b-1`\n",
    "- range(a,b,c) => `start from a go till b-1 with c as step (gap)`"
   ]
  },
  {
   "cell_type": "code",
   "execution_count": 19,
   "metadata": {},
   "outputs": [
    {
     "name": "stdout",
     "output_type": "stream",
     "text": [
      "13 * 1 = 10\n",
      "13 * 2 = 20\n",
      "13 * 3 = 30\n",
      "13 * 4 = 40\n",
      "13 * 5 = 50\n",
      "13 * 6 = 60\n",
      "13 * 7 = 70\n",
      "13 * 8 = 80\n",
      "13 * 9 = 90\n",
      "13 * 10 = 100\n"
     ]
    }
   ],
   "source": [
    "num = 13\n",
    "for i in range(1,11):\n",
    "    print(f'{num} * {i} = {n*i}')"
   ]
  },
  {
   "cell_type": "code",
   "execution_count": 2,
   "metadata": {},
   "outputs": [
    {
     "name": "stdout",
     "output_type": "stream",
     "text": [
      "0\n",
      "2\n",
      "4\n",
      "6\n",
      "8\n",
      "10\n",
      "12\n",
      "14\n",
      "16\n",
      "18\n",
      "20\n",
      "22\n",
      "24\n",
      "26\n",
      "28\n",
      "30\n",
      "32\n",
      "34\n",
      "36\n",
      "38\n",
      "40\n",
      "42\n",
      "44\n",
      "46\n",
      "48\n",
      "50\n",
      "52\n",
      "54\n",
      "56\n",
      "58\n",
      "60\n",
      "62\n",
      "64\n",
      "66\n",
      "68\n",
      "70\n",
      "72\n",
      "74\n",
      "76\n",
      "78\n",
      "80\n",
      "82\n",
      "84\n",
      "86\n",
      "88\n",
      "90\n",
      "92\n",
      "94\n",
      "96\n",
      "98\n",
      "100\n"
     ]
    }
   ],
   "source": [
    "# only even numbers\n",
    "for i in range(0,101,2):\n",
    "  print(i)"
   ]
  },
  {
   "cell_type": "code",
   "execution_count": 23,
   "metadata": {},
   "outputs": [
    {
     "name": "stdout",
     "output_type": "stream",
     "text": [
      "10\n",
      "9\n",
      "8\n",
      "7\n",
      "6\n",
      "5\n",
      "4\n",
      "3\n",
      "2\n",
      "1\n"
     ]
    }
   ],
   "source": [
    "# reverse loop\n",
    "for i in range(10,0,-1):\n",
    "    print(i)"
   ]
  },
  {
   "cell_type": "markdown",
   "metadata": {},
   "source": [
    "- nested loop\n",
    "- break and continue\n",
    "- for-else"
   ]
  },
  {
   "cell_type": "code",
   "execution_count": 13,
   "metadata": {},
   "outputs": [
    {
     "name": "stdout",
     "output_type": "stream",
     "text": [
      "1 1,1 2,1 3,\n",
      "2 1,2 2,2 3,\n",
      "3 1,3 2,3 3,\n",
      "4 1,4 2,4 3,\n",
      "5 1,5 2,5 3,\n",
      "6 1,6 2,6 3,\n",
      "7 1,7 2,7 3,\n",
      "8 1,8 2,8 3,\n",
      "9 1,9 2,9 3,\n",
      "10 1,10 2,10 3,\n"
     ]
    }
   ],
   "source": [
    "for i in range(1, 11):\n",
    "    for j in range(1,4):\n",
    "        print(i, j, end = ',')\n",
    "    print()"
   ]
  },
  {
   "cell_type": "code",
   "execution_count": 16,
   "metadata": {},
   "outputs": [
    {
     "name": "stdout",
     "output_type": "stream",
     "text": [
      "1 | John | 25 | \n",
      "2 | Jane | 22 | \n",
      "3 | Doe | 30 | Engineer | \n"
     ]
    }
   ],
   "source": [
    "cdata = [\n",
    "    [1, 'John', 25],\n",
    "    [2, 'Jane', 22],\n",
    "    [3, 'Doe', 30, 'Engineer']\n",
    "]\n",
    "\n",
    "for row in cdata:\n",
    "    for item in row:\n",
    "        print(item, end=' | ')\n",
    "    print()"
   ]
  },
  {
   "cell_type": "code",
   "execution_count": 20,
   "metadata": {},
   "outputs": [
    {
     "name": "stdout",
     "output_type": "stream",
     "text": [
      "12 45 67 \n",
      "23 45 67 \n",
      "34 56 78 \n",
      "\n",
      "23 45 23 \n",
      "34 56 78 \n",
      "\n"
     ]
    }
   ],
   "source": [
    "more_data = [\n",
    "    [[12,45,67],[23,45,67],[34,56,78]],\n",
    "    [[23,45,23], [34,56,78]]\n",
    "]\n",
    "\n",
    "for i in more_data:\n",
    "    for j in i:\n",
    "        for k in j:\n",
    "           print(k, end=' ')\n",
    "        print()\n",
    "    print()"
   ]
  },
  {
   "cell_type": "code",
   "execution_count": 21,
   "metadata": {},
   "outputs": [
    {
     "name": "stdout",
     "output_type": "stream",
     "text": [
      "1\n",
      "2\n",
      "3\n",
      "4\n",
      "5\n",
      "loop executed\n"
     ]
    }
   ],
   "source": [
    "x = [1,2,3,4,5,-1,6,7,8,9,10]\n",
    "for i in x:\n",
    "    if i < 0:\n",
    "        break\n",
    "    print(i)\n",
    "print('loop executed')"
   ]
  },
  {
   "cell_type": "code",
   "execution_count": 23,
   "metadata": {},
   "outputs": [
    {
     "name": "stdout",
     "output_type": "stream",
     "text": [
      "1 2 3 6 8 9 11 13 14 15 \n",
      "alternate way\n",
      "1 2 3 6 8 9 11 13 14 15 "
     ]
    }
   ],
   "source": [
    "data_with_crap = [1,2,3,'4','5',6,'7',8,9,'10',11,'12',13,14,15]\n",
    "for i in data_with_crap:\n",
    "    if isinstance(i, str):\n",
    "        continue\n",
    "    print(i, end=' ')\n",
    "\n",
    "#########alternative########\n",
    "print('\\nalternate way')\n",
    "for i in data_with_crap:\n",
    "    if isinstance(i, int):\n",
    "        print(i, end=' ')"
   ]
  },
  {
   "cell_type": "code",
   "execution_count": 29,
   "metadata": {},
   "outputs": [
    {
     "name": "stdout",
     "output_type": "stream",
     "text": [
      "1\n",
      "2\n",
      "3\n",
      "4\n",
      "count: 4\n"
     ]
    }
   ],
   "source": [
    "# adding a check for loop completion\n",
    "data = [1,2,3,4,5,6,7,8,9,10]\n",
    "stop_val = int(input('Enter a number to stop at: '))\n",
    "counter = 0\n",
    "for i in data:\n",
    "    if stop_val == i:\n",
    "        break\n",
    "    print(i)\n",
    "    counter += 1\n",
    "print(f'count: {counter}')\n",
    "if counter == len(data):\n",
    "    print('Loop completed all steps')"
   ]
  },
  {
   "cell_type": "code",
   "execution_count": 33,
   "metadata": {},
   "outputs": [
    {
     "name": "stdout",
     "output_type": "stream",
     "text": [
      "1\n",
      "2\n",
      "3\n",
      "Loop stopped at 4\n"
     ]
    }
   ],
   "source": [
    "data = [1,2,3,4,5,6,7,8,9,10]\n",
    "stop_val = int(input('Enter a number to stop at: '))\n",
    "for i in data:\n",
    "    if stop_val == i:\n",
    "        print(f'Loop stopped at {i}')\n",
    "        break\n",
    "    print(i)\n",
    "else:\n",
    "    print('Loop completed all steps')"
   ]
  },
  {
   "cell_type": "code",
   "execution_count": null,
   "metadata": {},
   "outputs": [],
   "source": []
  }
 ],
 "metadata": {
  "kernelspec": {
   "display_name": "base",
   "language": "python",
   "name": "python3"
  },
  "language_info": {
   "codemirror_mode": {
    "name": "ipython",
    "version": 3
   },
   "file_extension": ".py",
   "mimetype": "text/x-python",
   "name": "python",
   "nbconvert_exporter": "python",
   "pygments_lexer": "ipython3",
   "version": "3.12.3"
  }
 },
 "nbformat": 4,
 "nbformat_minor": 2
}
