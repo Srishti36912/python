{
 "cells": [
  {
   "cell_type": "markdown",
   "metadata": {},
   "source": [
    "# Programming flow\n",
    "- conditional flow\n",
    "   - if\n",
    "   - if else\n",
    "   - if elif else\n",
    "   - match case\n",
    "- iterative flow\n",
    "   - for loop\n",
    "   - while loop"
   ]
  },
  {
   "cell_type": "code",
   "execution_count": 2,
   "metadata": {},
   "outputs": [
    {
     "name": "stdout",
     "output_type": "stream",
     "text": [
      "Hello everyone\n"
     ]
    }
   ],
   "source": [
    "if 'hello' :\n",
    "    print('Hello everyone')"
   ]
  },
  {
   "cell_type": "code",
   "execution_count": 3,
   "metadata": {},
   "outputs": [
    {
     "name": "stdout",
     "output_type": "stream",
     "text": [
      "Hello everyone\n"
     ]
    }
   ],
   "source": [
    "x = 'hello'\n",
    "if len(x) >= 5:\n",
    "    print('Hello everyone') "
   ]
  },
  {
   "cell_type": "code",
   "execution_count": 5,
   "metadata": {},
   "outputs": [
    {
     "name": "stdout",
     "output_type": "stream",
     "text": [
      "a * 2 is greater than 100\n",
      "a + 50 is greater than 100\n"
     ]
    }
   ],
   "source": [
    "a = int(input('Enter a number:'))\n",
    "if a * 2 > 100 : \n",
    "    print('a * 2 is greater than 100')\n",
    "if a + 50 > 150 : \n",
    "    print('a + 50 is greater than 100')\n"
   ]
  },
  {
   "cell_type": "code",
   "execution_count": 6,
   "metadata": {},
   "outputs": [
    {
     "name": "stdout",
     "output_type": "stream",
     "text": [
      "x is even\n"
     ]
    }
   ],
   "source": [
    "x = int(input('Enter a number:'))\n",
    "if x % 2 == 0:\n",
    "    print('x is even')\n",
    "else:\n",
    "    print('x is odd')"
   ]
  },
  {
   "cell_type": "markdown",
   "metadata": {},
   "source": [
    "WAP to find out the total salary of the employee based on the following data\n",
    "```\n",
    "salary : user inputed\n",
    "hra = 5%\n",
    "da = 3.3 %\n",
    "ta = 2.61 %\n",
    "```\n",
    "\n",
    "`total = salary + da + ta + hra`\n",
    "\n",
    "*rule*\n",
    "`if hra is less than 1000 then don't add hra to total`"
   ]
  },
  {
   "cell_type": "code",
   "execution_count": null,
   "metadata": {},
   "outputs": [],
   "source": [
    "salary = int(input('Enter your salary:'))\n",
    "if(hra < 1000):"
   ]
  }
 ],
 "metadata": {
  "kernelspec": {
   "display_name": "base",
   "language": "python",
   "name": "python3"
  },
  "language_info": {
   "codemirror_mode": {
    "name": "ipython",
    "version": 3
   },
   "file_extension": ".py",
   "mimetype": "text/x-python",
   "name": "python",
   "nbconvert_exporter": "python",
   "pygments_lexer": "ipython3",
   "version": "3.12.3"
  }
 },
 "nbformat": 4,
 "nbformat_minor": 2
}
