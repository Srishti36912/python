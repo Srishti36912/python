{
 "cells": [
  {
   "cell_type": "markdown",
   "metadata": {},
   "source": [
    "list- indexed, ordered, mutable, heterogenous, have duplicate, just values, [], list()\n",
    "\n",
    "tuple- indexed, ordered, immutable, heterogenous, have duplicate, just values, (), tuple()\n",
    "\n",
    "set- unindexed, unordered, mutable, heterogenous, only uniques values, just values, {}, set()\n",
    "\n",
    "dictionary- unindexed, ordered, mutable, heterogenous, have duplicate, key values pair, {}, dict()"
   ]
  },
  {
   "cell_type": "markdown",
   "metadata": {},
   "source": [
    "# list\n",
    "- creating\n",
    "- indexing n slicing (same as string)\n",
    "- methods\n",
    "- comprehension"
   ]
  },
  {
   "cell_type": "code",
   "execution_count": 1,
   "metadata": {},
   "outputs": [
    {
     "name": "stdout",
     "output_type": "stream",
     "text": [
      "[]\n",
      "[1, 2, 3, 4]\n",
      "['apple', 'banana', 'cherry']\n",
      "['apple', 1, 'banana', 2, 'cherry', 3]\n",
      "[[1, 2, 3], [4, 5, 6], [7, 8, 9]]\n",
      "[['apple', 1], ['banana', 2], ['cherry', 3, 120]]\n"
     ]
    }
   ],
   "source": [
    "a = [] # empty list\n",
    "b = [1,2,3,4] # numerical list\n",
    "c = ['apple','banana','cherry'] # string list\n",
    "d = ['apple', 1,'banana', 2,'cherry', 3] # mixed list\n",
    "e = [[1,2,3],[4,5,6],[7,8,9]] # list of lists\n",
    "f = [['apple', 1],['banana', 2],['cherry', 3, 120]] # mixed nested list\n",
    "print(a)\n",
    "print(b)\n",
    "print(c)\n",
    "print(d)\n",
    "print(e)\n",
    "print(f)\n",
    "\n"
   ]
  },
  {
   "cell_type": "code",
   "execution_count": 3,
   "metadata": {},
   "outputs": [
    {
     "name": "stdout",
     "output_type": "stream",
     "text": [
      "apple\n",
      "banana\n",
      "cherry\n",
      "apple\n",
      "1\n",
      "banana\n",
      "2\n",
      "cherry\n",
      "3\n",
      "[1, 2, 3]\n",
      "[4, 5, 6]\n",
      "[7, 8, 9]\n",
      "['apple', 1]\n",
      "['banana', 2]\n",
      "['cherry', 3, 120]\n"
     ]
    }
   ],
   "source": [
    "for i in c:\n",
    "    print(i)\n",
    "for i in d:\n",
    "    print(i)\n",
    "for i in e:\n",
    "    print(i)\n",
    "for i in f:\n",
    "    print(i)"
   ]
  },
  {
   "cell_type": "code",
   "execution_count": 5,
   "metadata": {},
   "outputs": [
    {
     "name": "stdout",
     "output_type": "stream",
     "text": [
      "['h', 'e', 'l', 'l', 'o']\n",
      "[0, 1, 2, 3, 4, 5, 6, 7, 8, 9]\n",
      "[1, 2, 3, 4, 5]\n",
      "[1, 2, 3, 1, 2, 3, 1, 2, 3, 1, 2, 3, 1, 2, 3]\n"
     ]
    }
   ],
   "source": [
    "g = list('hello')\n",
    "h = list(range(10))\n",
    "i = list((1,2,3,4,5))\n",
    "j = [1,2,3] * 5 # duplicated list\n",
    "print(g)\n",
    "print(h)\n",
    "print(i)\n",
    "print(j)"
   ]
  },
  {
   "cell_type": "code",
   "execution_count": 6,
   "metadata": {},
   "outputs": [
    {
     "name": "stdout",
     "output_type": "stream",
     "text": [
      "['wish', 'lapata ladies', 'yoddha', 'crew', 'deadpool']\n",
      "5\n",
      "first movie:  wish\n",
      "last movie:  deadpool\n",
      "second movie:  lapata ladies\n",
      "third movie:  yoddha\n"
     ]
    }
   ],
   "source": [
    "movies = ['wish', 'lapata ladies', 'yoddha','crew','deadpool']\n",
    "print(movies)\n",
    "print(len(movies))\n",
    "print('first movie: ',movies[0])\n",
    "print('last movie: ',movies[-1])\n",
    "print('second movie: ',movies[1])\n",
    "print('third movie: ',movies[2])"
   ]
  },
  {
   "cell_type": "code",
   "execution_count": 10,
   "metadata": {},
   "outputs": [
    {
     "name": "stdout",
     "output_type": "stream",
     "text": [
      "[1, 2, 3]\n",
      "[8, 9, 10]\n",
      "[3, 4, 5, 6, 7, 8]\n",
      "[10, 9, 8, 7, 6, 5, 4, 3, 2, 1]\n"
     ]
    }
   ],
   "source": [
    "numbers = [1,2,3,4,5,6,7,8,9,10]\n",
    "print(numbers[:3]) # 0,1,2\n",
    "print(numbers[-3:]) # 7,8,9\n",
    "print(numbers[2:-2]) # everything except first two and last two\n",
    "print(numbers[::-1])"
   ]
  },
  {
   "cell_type": "markdown",
   "metadata": {},
   "source": [
    "# list methods (11)\n",
    "- adding/updating\n",
    "  - `append()`\n",
    "  - `extend()`\n",
    "  - `insert()`\n",
    "- removing/deletion\n",
    "   - `remove()`\n",
    "   - `pop()`\n",
    "   - `clear()`\n",
    "- utility\n",
    "   - `sort()`\n",
    "   - `reverse()`\n",
    "   - `index()`\n",
    "   - `count()`\n",
    "   - `copy()`"
   ]
  },
  {
   "cell_type": "code",
   "execution_count": 11,
   "metadata": {},
   "outputs": [
    {
     "name": "stdout",
     "output_type": "stream",
     "text": [
      "Favorite books:  ['November 9', 'Ram', 'It ends with us', 'Reminders Of him', 'Sita']\n",
      "Hated books:  ['isc Biology', 'ICSE Chemistry', 'art book']\n"
     ]
    }
   ],
   "source": [
    "fav_books = []\n",
    "hated_books = []\n",
    "for i in range(5):\n",
    "    book = input('Enter your favorite book: ')\n",
    "    fav_books.append(book)\n",
    "for i in range(3):\n",
    "    book = input('Enter your hated book: ')\n",
    "    hated_books.append(book)\n",
    "\n",
    "print('Favorite books: ',fav_books)\n",
    "print('Hated books: ',hated_books)"
   ]
  },
  {
   "cell_type": "code",
   "execution_count": 12,
   "metadata": {},
   "outputs": [
    {
     "name": "stdout",
     "output_type": "stream",
     "text": [
      "['isc Biology', 'ICSE Chemistry', 'art book', 'Julius Caesar']\n"
     ]
    }
   ],
   "source": [
    "hated_books.append('Julius Caesar') # add to the end\n",
    "print(hated_books)"
   ]
  },
  {
   "cell_type": "code",
   "execution_count": 13,
   "metadata": {},
   "outputs": [
    {
     "name": "stdout",
     "output_type": "stream",
     "text": [
      "['November 9', 'Ram', 'It ends with us', 'Reminders Of him', 'Sita', 'isc Biology', 'ICSE Chemistry', 'art book', 'Julius Caesar']\n"
     ]
    }
   ],
   "source": [
    "# merge two lists and create a new list\n",
    "books = fav_books + hated_books\n",
    "print(books)"
   ]
  },
  {
   "cell_type": "code",
   "execution_count": 15,
   "metadata": {},
   "outputs": [
    {
     "name": "stdout",
     "output_type": "stream",
     "text": [
      "['November 9', 'Ram', 'It ends with us', 'Reminders Of him', 'Sita', 'isc Biology', 'ICSE Chemistry', 'art book', 'Julius Caesar', 'Legion', 'Rithmatist', 'Steelheart']\n",
      "Total Books:  12\n"
     ]
    }
   ],
   "source": [
    "# adding a list to existing list\n",
    "books.extend(['Legion','Rithmatist','Steelheart'])\n",
    "print(books)\n",
    "print('Total Books: ',len(books))"
   ]
  },
  {
   "cell_type": "code",
   "execution_count": 19,
   "metadata": {},
   "outputs": [
    {
     "name": "stdout",
     "output_type": "stream",
     "text": [
      "['November 9', 'Ram', 'It ends with us', 'Reminders Of him', 'King of Wrath', 'King of Wrath', 'Sita', 'isc Biology', 'ICSE Chemistry', 'art book', 'Julius Caesar', 'Legion', 'Rithmatist', 'Steelheart']\n"
     ]
    }
   ],
   "source": [
    "books.insert(4,'King of Wrath')\n",
    "print(books)"
   ]
  },
  {
   "cell_type": "code",
   "execution_count": 20,
   "metadata": {},
   "outputs": [
    {
     "data": {
      "text/plain": [
       "['November 9',\n",
       " 'Ram',\n",
       " 'It ends with us',\n",
       " 'Reminders Of him',\n",
       " 'King of Wrath',\n",
       " 'King of Wrath',\n",
       " 'Sita',\n",
       " 'isc Biology',\n",
       " 'ICSE Chemistry',\n",
       " 'art book',\n",
       " 'Pygmalion',\n",
       " 'Legion',\n",
       " 'Rithmatist',\n",
       " 'Steelheart']"
      ]
     },
     "execution_count": 20,
     "metadata": {},
     "output_type": "execute_result"
    }
   ],
   "source": [
    "books[10] = 'Pygmalion' # replace at index 10\n",
    "books"
   ]
  },
  {
   "cell_type": "code",
   "execution_count": 24,
   "metadata": {},
   "outputs": [],
   "source": [
    "books.remove('Steelheart') # remove by value"
   ]
  },
  {
   "cell_type": "code",
   "execution_count": 25,
   "metadata": {},
   "outputs": [
    {
     "data": {
      "text/plain": [
       "'ICSE Chemistry'"
      ]
     },
     "execution_count": 25,
     "metadata": {},
     "output_type": "execute_result"
    }
   ],
   "source": [
    "books.pop(8) # remove by index"
   ]
  },
  {
   "cell_type": "code",
   "execution_count": 26,
   "metadata": {},
   "outputs": [
    {
     "data": {
      "text/plain": [
       "'Legion'"
      ]
     },
     "execution_count": 26,
     "metadata": {},
     "output_type": "execute_result"
    }
   ],
   "source": [
    "books.pop() # remove last element"
   ]
  },
  {
   "cell_type": "code",
   "execution_count": 27,
   "metadata": {},
   "outputs": [
    {
     "data": {
      "text/plain": [
       "['November 9',\n",
       " 'Ram',\n",
       " 'It ends with us',\n",
       " 'Reminders Of him',\n",
       " 'King of Wrath',\n",
       " 'King of Wrath',\n",
       " 'Sita',\n",
       " 'isc Biology',\n",
       " 'art book',\n",
       " 'Pygmalion']"
      ]
     },
     "execution_count": 27,
     "metadata": {},
     "output_type": "execute_result"
    }
   ],
   "source": [
    "books"
   ]
  },
  {
   "cell_type": "code",
   "execution_count": 28,
   "metadata": {},
   "outputs": [
    {
     "data": {
      "text/plain": [
       "[]"
      ]
     },
     "execution_count": 28,
     "metadata": {},
     "output_type": "execute_result"
    }
   ],
   "source": [
    "hated_books.clear() # remove all elements\n",
    "hated_books"
   ]
  },
  {
   "cell_type": "markdown",
   "metadata": {},
   "source": [
    "### wap to create an empty list , then fill the list with 10 prime numbers using a loop, starting with two "
   ]
  },
  {
   "cell_type": "code",
   "execution_count": 24,
   "metadata": {},
   "outputs": [
    {
     "name": "stdout",
     "output_type": "stream",
     "text": [
      "[2, 3, 5, 7, 11, 13, 17, 19, 23, 29]\n"
     ]
    }
   ],
   "source": [
    "prime = []\n",
    "c = 0\n",
    "val = 0\n",
    "for i in range(2,100):\n",
    "    for j in range(1,i+1):\n",
    "        if i % j == 0:\n",
    "            c = c + 1\n",
    "    if c == 2:\n",
    "        prime.insert(val,i)\n",
    "        val = val + 1 \n",
    "    c = 0\n",
    "    if val == 10:\n",
    "        break\n",
    "print(prime)\n",
    "\n"
   ]
  },
  {
   "cell_type": "code",
   "execution_count": 1,
   "metadata": {},
   "outputs": [
    {
     "data": {
      "text/plain": [
       "[1, 98, 10, 6, 4, 14, 23, 86, 67, 45, 12]"
      ]
     },
     "execution_count": 1,
     "metadata": {},
     "output_type": "execute_result"
    }
   ],
   "source": [
    "numbers = [12,45,67,86,23,14,4,6,10,98,1]\n",
    "# reverse\n",
    "numbers[::-1] # gives the result but doesn't change the original list"
   ]
  },
  {
   "cell_type": "code",
   "execution_count": 2,
   "metadata": {},
   "outputs": [],
   "source": [
    "numbers.reverse() # changes the original list"
   ]
  },
  {
   "cell_type": "code",
   "execution_count": 3,
   "metadata": {},
   "outputs": [
    {
     "name": "stdout",
     "output_type": "stream",
     "text": [
      "[1, 98, 10, 6, 4, 14, 23, 86, 67, 45, 12]\n"
     ]
    }
   ],
   "source": [
    "print(numbers)"
   ]
  },
  {
   "cell_type": "code",
   "execution_count": 5,
   "metadata": {},
   "outputs": [
    {
     "name": "stdout",
     "output_type": "stream",
     "text": [
      "[1, 4, 6, 10, 12, 14, 23, 45, 67, 86, 98]\n",
      "[98, 86, 67, 45, 23, 14, 12, 10, 6, 4, 1]\n"
     ]
    }
   ],
   "source": [
    "numbers.sort() # ascending order, changes the original list\n",
    "print(numbers)\n",
    "numbers.sort(reverse=True) # descending order\n",
    "print(numbers)"
   ]
  },
  {
   "cell_type": "code",
   "execution_count": 6,
   "metadata": {},
   "outputs": [
    {
     "name": "stdout",
     "output_type": "stream",
     "text": [
      "[[1, 12], [2, 5], [4, 15], [5, 10]]\n"
     ]
    }
   ],
   "source": [
    "x= [[1,12],[2,5],[5,10],[4,15]]\n",
    "x.sort() # sort by first el of each sublist\n",
    "print(x)"
   ]
  },
  {
   "cell_type": "code",
   "execution_count": 10,
   "metadata": {},
   "outputs": [
    {
     "name": "stdout",
     "output_type": "stream",
     "text": [
      "[[2, 5], [5, 10], [1, 12], [4, 15]]\n"
     ]
    }
   ],
   "source": [
    "x.sort(key= lambda e: e[1])\n",
    "print(x)"
   ]
  },
  {
   "cell_type": "code",
   "execution_count": 11,
   "metadata": {},
   "outputs": [
    {
     "name": "stdout",
     "output_type": "stream",
     "text": [
      "[[2, 5], [1, 12], [5, 10], [4, 15]]\n"
     ]
    }
   ],
   "source": [
    "x.sort(key= lambda i: sum(i))\n",
    "print(x)"
   ]
  },
  {
   "cell_type": "code",
   "execution_count": 13,
   "metadata": {},
   "outputs": [
    {
     "name": "stdout",
     "output_type": "stream",
     "text": [
      "[('Bob', 19), ('Alice', 25), ('Alex', 35)]\n"
     ]
    }
   ],
   "source": [
    "users = [('Alice',25),('Bob',19),('Alex',35)]\n",
    "users.sort(key= lambda e: e[1])\n",
    "print(users)"
   ]
  },
  {
   "cell_type": "code",
   "execution_count": 15,
   "metadata": {},
   "outputs": [
    {
     "name": "stdout",
     "output_type": "stream",
     "text": [
      "[['laptop', 60000, 1], ['mobile', 25000, 2], ['headphones', 1500, 2], ['watch', 3000, 3]]\n"
     ]
    }
   ],
   "source": [
    "cart = [['mobile', 25000, 2],\n",
    "        ['laptop',60000, 1],\n",
    "        ['watch',3000, 3],\n",
    "        ['headphones', 1500, 2]]\n",
    "cart.sort(key= lambda i: i[-1]) \n",
    "print(cart)"
   ]
  },
  {
   "cell_type": "code",
   "execution_count": 16,
   "metadata": {},
   "outputs": [
    {
     "name": "stdout",
     "output_type": "stream",
     "text": [
      "1 occurs: 2\n",
      "5 occurs: 2\n",
      "10 occurs: 0\n"
     ]
    }
   ],
   "source": [
    "a = [1,2,3,4,23,1,2,4,4,5,5,6,7]\n",
    "print(\"1 occurs:\",a.count(1))\n",
    "print(\"5 occurs:\",a.count(5))\n",
    "print(\"10 occurs:\",a.count(10))"
   ]
  },
  {
   "cell_type": "code",
   "execution_count": 18,
   "metadata": {},
   "outputs": [
    {
     "data": {
      "text/plain": [
       "6"
      ]
     },
     "execution_count": 18,
     "metadata": {},
     "output_type": "execute_result"
    }
   ],
   "source": [
    "numbers.index(12) # gives the index of 12 (first occurence)"
   ]
  },
  {
   "cell_type": "code",
   "execution_count": 19,
   "metadata": {},
   "outputs": [
    {
     "name": "stdout",
     "output_type": "stream",
     "text": [
      "[1, 2, 3, 4, 5]\n",
      "[1, 2, 3, 4, 5]\n",
      "[1, 2, 3, 4, 5]\n",
      "[1, 2, 3, 4, 5, 6, 20]\n",
      "[1, 2, 3, 4, 5, 10]\n",
      "[1, 2, 3, 4, 5, 6, 20]\n"
     ]
    }
   ],
   "source": [
    "a = [1,2,3,4,5]\n",
    "b = a.copy() # shallow copy (new list with same element)\n",
    "c = a # reference copy (both a and c refer to same list)\n",
    "print(a)\n",
    "print(b)\n",
    "print(c)\n",
    "a.append(6)\n",
    "b.append(10)\n",
    "c.append(20)\n",
    "print(a)\n",
    "print(b)\n",
    "print(c)\n"
   ]
  },
  {
   "cell_type": "markdown",
   "metadata": {},
   "source": [
    "## comprehension\n",
    "\n",
    "syntax: new_list = [operation loop(condition)]"
   ]
  },
  {
   "cell_type": "code",
   "execution_count": 21,
   "metadata": {},
   "outputs": [
    {
     "name": "stdout",
     "output_type": "stream",
     "text": [
      "[1, 9, 4, 25]\n"
     ]
    }
   ],
   "source": [
    "x = [1,3,2,5]\n",
    "x2 = [i**2 for i in x]\n",
    "print(x2)"
   ]
  },
  {
   "cell_type": "code",
   "execution_count": 30,
   "metadata": {},
   "outputs": [
    {
     "name": "stdout",
     "output_type": "stream",
     "text": [
      "[1, 2, 3, 4, 5]\n",
      "[1, 8, 27, 64, 125]\n",
      "[-4, -3, -2, -1, 0]\n"
     ]
    }
   ],
   "source": [
    "a = [1,2,3,4,5]\n",
    "a3 = [i**3 for i in a]\n",
    "print(a) \n",
    "print(a3)\n",
    "a5 = [i-5 for i in a]\n",
    "print(a5)"
   ]
  },
  {
   "cell_type": "code",
   "execution_count": 28,
   "metadata": {},
   "outputs": [
    {
     "name": "stdout",
     "output_type": "stream",
     "text": [
      "[4, 16]\n"
     ]
    }
   ],
   "source": [
    "# rookie way\n",
    "aodd2 = []\n",
    "for i in a:\n",
    "    if i%2 !=0:\n",
    "        aodd2.append(i**2)\n",
    "# pythonic way\n",
    "aeven2 = [i**2 for i in a if i%2==0]\n",
    "print(aeven2)\n",
    "# map and filter\n",
    "# aodd2 = list(map(lambda i: i**2, filter(lambda i: i%2!=0,a))) # not good\n"
   ]
  },
  {
   "cell_type": "code",
   "execution_count": 35,
   "metadata": {},
   "outputs": [
    {
     "name": "stdout",
     "output_type": "stream",
     "text": [
      "['AS']\n",
      "['AS', 'BB']\n",
      "['AS', 'BB', 'CG']\n",
      "['AS', 'BB', 'CG', 'DW']\n",
      "['AS', 'BB', 'CG', 'DW']\n"
     ]
    }
   ],
   "source": [
    "names = ['Alice Smith','Bob Brown','Charlie Green','David White']\n",
    "initials = []\n",
    "for i in names:\n",
    "    initials.append(f\"{i.split()[0][0]}{i.split()[1][0]}\")\n",
    "    print(initials)\n",
    "\n",
    "# comprehension\n",
    "initials = [f\"{i.split()[0][0]}{i.split()[1][0]}\" for i in names]\n",
    "print(initials)"
   ]
  },
  {
   "cell_type": "markdown",
   "metadata": {},
   "source": [
    "## tuples\n",
    "- creating\n",
    "- indexing and slicing\n",
    "- methods\n",
    "- packing and unpacking"
   ]
  },
  {
   "cell_type": "code",
   "execution_count": 3,
   "metadata": {},
   "outputs": [
    {
     "name": "stdout",
     "output_type": "stream",
     "text": [
      "() (1,) (1, 2, 3, 4, 5)\n",
      "((1, 2), (3, 4), (5, 6))\n",
      "('a', 1, 'b', 2, 'c', 3)\n",
      "(1, 1, 1, 1, 1)\n",
      "('s', 't', 'o', 'r', 'm', 'l', 'i', 'g', 'h', 't', ' ', 'a', 'r', 'c', 'h', 'i', 'v', 'e', 's')\n",
      "(0, 1, 2, 3, 4, 5, 6, 7, 8, 9)\n"
     ]
    }
   ],
   "source": [
    "x = () # empty tuple\n",
    "y = (1,) # single element tuple\n",
    "z = (1,2,3,4,5) # multiple element tuple\n",
    "a = ((1,2),(3,4),(5,6)) # nested tuple\n",
    "b = ('a',1,'b',2,'c',3) # mixed tuple\n",
    "c = (1,) * 5 # duplicated tuple\n",
    "d = tuple('stormlight archives') # tuple from string\n",
    "e = tuple(range(10)) # sequence to tuple\n",
    "print(x,y,z)\n",
    "print(a)\n",
    "print(b)\n",
    "print(c)\n",
    "print(d)\n",
    "print(e)"
   ]
  },
  {
   "cell_type": "code",
   "execution_count": 6,
   "metadata": {},
   "outputs": [
    {
     "name": "stdout",
     "output_type": "stream",
     "text": [
      "(0, 1, 2, 3, 4, 5, 6, 7, 8, 9)\n",
      "(4, 3, 2, 1, 0)\n",
      "(4, 5, 6, 7, 8, 9)\n"
     ]
    }
   ],
   "source": [
    "print(e)\n",
    "print(e[4::-1]) # -1 makes this go in reverse order\n",
    "print(e[4:])"
   ]
  },
  {
   "cell_type": "code",
   "execution_count": 7,
   "metadata": {},
   "outputs": [
    {
     "name": "stdout",
     "output_type": "stream",
     "text": [
      "0\n",
      "3\n",
      "2\n",
      "1\n",
      "0\n"
     ]
    }
   ],
   "source": [
    "# index (search) and count methods\n",
    "fruits = ('apple','banana','cherry','apple','cherry')\n",
    "print(fruits.index('apple'))\n",
    "print(fruits.index('apple',1)) # search starts from index 1\n",
    "print(fruits.count('apple')) # counts the occurences of apple\n",
    "print(fruits.count('banana')) # counts the occurences of banana\n",
    "print(fruits.count('mango')) # counts the occurences of mango"
   ]
  },
  {
   "cell_type": "code",
   "execution_count": 8,
   "metadata": {},
   "outputs": [
    {
     "name": "stdout",
     "output_type": "stream",
     "text": [
      "(1, 2, 3)\n"
     ]
    }
   ],
   "source": [
    "x = 1,2,3 # tuple packing\n",
    "print(x)"
   ]
  },
  {
   "cell_type": "code",
   "execution_count": 10,
   "metadata": {},
   "outputs": [],
   "source": [
    "def stats(*data):\n",
    "    total = sum(data)\n",
    "    avg = total/ len(data)\n",
    "    return total, round(avg,2) # round method to round off to 2 decimal places"
   ]
  },
  {
   "cell_type": "code",
   "execution_count": 11,
   "metadata": {},
   "outputs": [
    {
     "name": "stdout",
     "output_type": "stream",
     "text": [
      "(203, 33.83)\n"
     ]
    }
   ],
   "source": [
    "s = stats(12,35,29,59,23,45)\n",
    "print(s)"
   ]
  },
  {
   "cell_type": "code",
   "execution_count": 12,
   "metadata": {},
   "outputs": [
    {
     "name": "stdout",
     "output_type": "stream",
     "text": [
      "12 45\n"
     ]
    }
   ],
   "source": [
    "a,b = 12, 45 # tuple unpacking\n",
    "print(a,b)"
   ]
  },
  {
   "cell_type": "code",
   "execution_count": null,
   "metadata": {},
   "outputs": [],
   "source": [
    "# unpacking error\n",
    "\n",
    "# a,b,c = 12,45 # error\n",
    "# a,b = 12,45,78 # error\n",
    "# total , mean, max = stats(12,35,29,59,23,45) # error"
   ]
  },
  {
   "cell_type": "code",
   "execution_count": 13,
   "metadata": {},
   "outputs": [
    {
     "name": "stdout",
     "output_type": "stream",
     "text": [
      "1\n",
      "2\n",
      "[3, 4, 5, 5, 5]\n"
     ]
    }
   ],
   "source": [
    "a,b,*c = (1,2,3,4,5,5,5) # c is a list\n",
    "print(a)\n",
    "print(b)\n",
    "print(c)"
   ]
  },
  {
   "cell_type": "code",
   "execution_count": 15,
   "metadata": {},
   "outputs": [
    {
     "name": "stdout",
     "output_type": "stream",
     "text": [
      "1\n",
      "[2, 3, 4, 5, 5]\n",
      "5\n"
     ]
    }
   ],
   "source": [
    "a,*b,c = (1,2,3,4,5,5,5) # b is a list\n",
    "print(a)\n",
    "print(b)\n",
    "print(c)"
   ]
  },
  {
   "cell_type": "code",
   "execution_count": 16,
   "metadata": {},
   "outputs": [
    {
     "name": "stdout",
     "output_type": "stream",
     "text": [
      "[1, 2, 3, 4, 5]\n",
      "5\n",
      "5\n"
     ]
    }
   ],
   "source": [
    "*a,b,c = (1,2,3,4,5,5,5) # a is a list\n",
    "print(a)\n",
    "print(b)\n",
    "print(c)"
   ]
  },
  {
   "cell_type": "markdown",
   "metadata": {},
   "source": [
    "# set\n",
    "- creating\n",
    "- methods\n",
    "- set operations\n",
    "  - union\n",
    "  - intersection\n",
    "  - difference\n",
    "  - symmetric difference\n",
    "  - issubset\n",
    "  - issuperset"
   ]
  },
  {
   "cell_type": "code",
   "execution_count": 20,
   "metadata": {},
   "outputs": [
    {
     "name": "stdout",
     "output_type": "stream",
     "text": [
      "set()\n",
      "{1, 2, 3, 4, 5}\n",
      "{1, 2, 3, 4, 5}\n"
     ]
    }
   ],
   "source": [
    "x = set() # empty set\n",
    "y = {1,2,3,4,5} # set with elements\n",
    "z= {1,2,2,3,3,4,4,5,5,5} # set removes duplicates\n",
    "print(x)\n",
    "print(y)\n",
    "print(z)"
   ]
  },
  {
   "cell_type": "code",
   "execution_count": 21,
   "metadata": {},
   "outputs": [
    {
     "name": "stdout",
     "output_type": "stream",
     "text": [
      "{'l', 'o', 'e', 'h'}\n"
     ]
    }
   ],
   "source": [
    "a = set('hello') # set from string\n",
    "print(a)"
   ]
  },
  {
   "cell_type": "code",
   "execution_count": 22,
   "metadata": {},
   "outputs": [
    {
     "name": "stdout",
     "output_type": "stream",
     "text": [
      "{65, 5, 6, 12, 45, 23}\n",
      "0 1 2 3 4 5 6 7 8 9 "
     ]
    }
   ],
   "source": [
    "b = set([23,5,45,65,45,12,45,6])\n",
    "print(b)\n",
    "c = set(range(10))\n",
    "for i in c:\n",
    "    print(i, end =' ')"
   ]
  },
  {
   "cell_type": "code",
   "execution_count": 23,
   "metadata": {},
   "outputs": [
    {
     "name": "stdout",
     "output_type": "stream",
     "text": [
      "{2, 12, 5}\n"
     ]
    }
   ],
   "source": [
    "data = set() # empty set\n",
    "data.add(12) # add element\n",
    "data.add(2) # add element\n",
    "data.add(12) # add element\n",
    "data.add(5) # add element\n",
    "print(data)"
   ]
  },
  {
   "cell_type": "code",
   "execution_count": 24,
   "metadata": {},
   "outputs": [
    {
     "name": "stdout",
     "output_type": "stream",
     "text": [
      "{2, 67, 5, 12, 45, 23, 89}\n"
     ]
    }
   ],
   "source": [
    "data.update([23,45,67,89]) # add multiple elements\n",
    "print(data)"
   ]
  },
  {
   "cell_type": "code",
   "execution_count": 26,
   "metadata": {},
   "outputs": [
    {
     "name": "stdout",
     "output_type": "stream",
     "text": [
      "{2, 67, 5, 12, 89}\n"
     ]
    }
   ],
   "source": [
    "data.discard(23) # remove element\n",
    "data.remove(45) # remove element (error if not present)\n",
    "print(data)"
   ]
  },
  {
   "cell_type": "code",
   "execution_count": 27,
   "metadata": {},
   "outputs": [
    {
     "name": "stdout",
     "output_type": "stream",
     "text": [
      "{67, 5, 12, 89}\n",
      "set()\n"
     ]
    }
   ],
   "source": [
    "data.pop() # remove random element\n",
    "print(data)\n",
    "data.clear() # remove all elements\n",
    "print(data)"
   ]
  },
  {
   "cell_type": "code",
   "execution_count": 28,
   "metadata": {},
   "outputs": [
    {
     "name": "stdout",
     "output_type": "stream",
     "text": [
      "{1, 2, 3, 4, 5, 6, 7, 8}\n",
      "{1, 2, 3, 4, 5, 6, 7, 8}\n"
     ]
    }
   ],
   "source": [
    "# operations\n",
    "a = {1,2,3,4,5}\n",
    "b = {4,5,6,7,8}\n",
    "c = {11,12,13}\n",
    "print(a.union(b))\n",
    "print(a | b) # | is a union operator"
   ]
  },
  {
   "cell_type": "code",
   "execution_count": null,
   "metadata": {},
   "outputs": [],
   "source": [
    "print(a.intersection(b))\n",
    "print(a & b) # & is a union operator"
   ]
  },
  {
   "cell_type": "code",
   "execution_count": 29,
   "metadata": {},
   "outputs": [
    {
     "name": "stdout",
     "output_type": "stream",
     "text": [
      "{1, 2, 3}\n",
      "{1, 2, 3}\n",
      "{8, 6, 7}\n",
      "{8, 6, 7}\n"
     ]
    }
   ],
   "source": [
    "print(a.difference(b))\n",
    "print(a - b) # - is a union operator\n",
    "print(b - a)\n",
    "print(b.difference(a))"
   ]
  },
  {
   "cell_type": "code",
   "execution_count": 30,
   "metadata": {},
   "outputs": [
    {
     "name": "stdout",
     "output_type": "stream",
     "text": [
      "{1, 2, 3, 6, 7, 8}\n",
      "{1, 2, 3, 6, 7, 8}\n"
     ]
    }
   ],
   "source": [
    "print(a.symmetric_difference(b))\n",
    "print(a ^ b) # ^ is symmetric difference operator "
   ]
  },
  {
   "cell_type": "code",
   "execution_count": 31,
   "metadata": {},
   "outputs": [
    {
     "name": "stdout",
     "output_type": "stream",
     "text": [
      "{1, 2, 3, 4, 5, 11, 12, 13}\n",
      "set()\n",
      "{1, 2, 3, 4, 5}\n",
      "{1, 2, 3, 4, 5, 11, 12, 13}\n"
     ]
    }
   ],
   "source": [
    "print(a|c)\n",
    "print(a&c)\n",
    "print(a-c)\n",
    "print(a^c)"
   ]
  },
  {
   "cell_type": "code",
   "execution_count": 34,
   "metadata": {},
   "outputs": [
    {
     "name": "stdout",
     "output_type": "stream",
     "text": [
      "False\n",
      "False\n",
      "True\n"
     ]
    }
   ],
   "source": [
    "d = {1,2,3}\n",
    "print(a.issuperset(b))\n",
    "print(a.issuperset(c))\n",
    "print(a.issuperset(d))"
   ]
  },
  {
   "cell_type": "code",
   "execution_count": 35,
   "metadata": {},
   "outputs": [
    {
     "name": "stdout",
     "output_type": "stream",
     "text": [
      "True\n",
      "False\n",
      "False\n"
     ]
    }
   ],
   "source": [
    "print(d.issubset(a))\n",
    "print(d.issubset(b))\n",
    "print(d.issubset(c))"
   ]
  },
  {
   "cell_type": "code",
   "execution_count": 36,
   "metadata": {},
   "outputs": [
    {
     "name": "stdout",
     "output_type": "stream",
     "text": [
      "False\n",
      "True\n",
      "False\n"
     ]
    }
   ],
   "source": [
    "print(a.isdisjoint(b))\n",
    "print(a.isdisjoint(c))\n",
    "print(a.isdisjoint(d))"
   ]
  },
  {
   "cell_type": "markdown",
   "metadata": {},
   "source": [
    "# conversion"
   ]
  },
  {
   "cell_type": "code",
   "execution_count": 37,
   "metadata": {},
   "outputs": [
    {
     "name": "stdout",
     "output_type": "stream",
     "text": [
      "[1, 2, 3, 4, 5]\n",
      "{1, 2, 3, 4, 5}\n",
      "(1, 2, 3, 4, 5)\n"
     ]
    }
   ],
   "source": [
    "a = [1,2,3,4,5]\n",
    "a_set = set(a)\n",
    "a_tuple = tuple(a)\n",
    "print(a)\n",
    "print(a_set)\n",
    "print(a_tuple)"
   ]
  },
  {
   "cell_type": "code",
   "execution_count": 38,
   "metadata": {},
   "outputs": [
    {
     "name": "stdout",
     "output_type": "stream",
     "text": [
      "[1, 2, 3, 4, 5]\n"
     ]
    }
   ],
   "source": [
    "a_list = list(a_set)\n",
    "print(a_list)"
   ]
  },
  {
   "cell_type": "code",
   "execution_count": 40,
   "metadata": {},
   "outputs": [
    {
     "name": "stdout",
     "output_type": "stream",
     "text": [
      "[1, 2, 3, 3, 4, 5, 5, 6, 5, 1, 1, 1, 1, 1]\n",
      "[1, 2, 3, 4, 5, 6]\n"
     ]
    }
   ],
   "source": [
    "x = [1,2,3,3,4,5,5,6,5,1,1,1,1,1]\n",
    "print(x)\n",
    "x = list(set(x)) # set -> remove duplicates -> list -> x\n",
    "print(x)"
   ]
  },
  {
   "cell_type": "markdown",
   "metadata": {},
   "source": [
    "# dictionary\n",
    "- creation\n",
    "- traversal\n",
    "- method\n",
    "- sorting\n",
    "- comprehension"
   ]
  },
  {
   "cell_type": "markdown",
   "metadata": {},
   "source": [
    "syntax:\n",
    "```\n",
    "{\n",
    "    key: value, \n",
    "    key: value,\n",
    "    key: value,\n",
    "}\n",
    "```"
   ]
  },
  {
   "cell_type": "code",
   "execution_count": 2,
   "metadata": {},
   "outputs": [
    {
     "name": "stdout",
     "output_type": "stream",
     "text": [
      "{'apple': 'red', 'banana': 'yellow', 'cherry': 'red', 'orange': 'orange'}\n"
     ]
    }
   ],
   "source": [
    "fruits = {\n",
    "    'apple':'red',\n",
    "    'banana':'yellow',\n",
    "    'cherry':'red',\n",
    "    'orange':'orange'\n",
    "}\n",
    "print(fruits)"
   ]
  },
  {
   "cell_type": "code",
   "execution_count": 3,
   "metadata": {},
   "outputs": [
    {
     "name": "stdout",
     "output_type": "stream",
     "text": [
      "{'lucknow': [25, 30, 35], 'delhi': [30, 35, 40], 'chennai': [24, 23, 22]}\n"
     ]
    }
   ],
   "source": [
    "temp= {\n",
    "    'lucknow':[25,30,35],\n",
    "    'delhi': [30,35,40],\n",
    "    'chennai': [24,23,22]\n",
    "}\n",
    "print(temp)"
   ]
  },
  {
   "cell_type": "code",
   "execution_count": 4,
   "metadata": {},
   "outputs": [
    {
     "name": "stdout",
     "output_type": "stream",
     "text": [
      "{1: 'ichi', 10: 'ju', 100: 'hyaku', 1000: 'sen'}\n"
     ]
    }
   ],
   "source": [
    "nums = {\n",
    "    1: 'ichi',\n",
    "    10: 'ju',\n",
    "    100: 'hyaku',\n",
    "    1000: 'sen'\n",
    "}\n",
    "print(nums)"
   ]
  },
  {
   "cell_type": "code",
   "execution_count": 5,
   "metadata": {},
   "outputs": [
    {
     "name": "stdout",
     "output_type": "stream",
     "text": [
      "{(1, 2): 'double', (1, 3, 4): 'triple', (1, 2, 3, 4): 'quadruple'}\n"
     ]
    }
   ],
   "source": [
    "complicated = {\n",
    "    (1,2):'double',\n",
    "    (1,3,4):'triple',\n",
    "    (1,2,3,4):'quadruple',\n",
    "}\n",
    "print(complicated)"
   ]
  },
  {
   "cell_type": "code",
   "execution_count": 6,
   "metadata": {},
   "outputs": [
    {
     "name": "stdout",
     "output_type": "stream",
     "text": [
      "{'name': 'raju', 'age': 25, 'marks': [56, 73, 67]}\n"
     ]
    }
   ],
   "source": [
    "info = dict(name = 'raju', age=25, marks=[56,73,67])\n",
    "print(info)"
   ]
  },
  {
   "cell_type": "code",
   "execution_count": 7,
   "metadata": {},
   "outputs": [],
   "source": [
    "info2 = dict(name = input(), age=int(input()), city = input())"
   ]
  },
  {
   "cell_type": "code",
   "execution_count": 8,
   "metadata": {},
   "outputs": [
    {
     "name": "stdout",
     "output_type": "stream",
     "text": [
      "{'name': 'hi', 'age': 23, 'city': 'lucknow'}\n"
     ]
    }
   ],
   "source": [
    "print(info2)"
   ]
  },
  {
   "cell_type": "code",
   "execution_count": 9,
   "metadata": {},
   "outputs": [
    {
     "name": "stdout",
     "output_type": "stream",
     "text": [
      "{'Alex': {'English': 85, 'Maths': 90, 'Science': 78}, 'Rahul': {'English': 80, 'Maths': 85, 'Science': 90}}\n"
     ]
    }
   ],
   "source": [
    "# nested dictionary\n",
    "report = {\n",
    "    'Alex' : {\n",
    "        'English': 85,\n",
    "        'Maths': 90,\n",
    "        'Science': 78,\n",
    "    },\n",
    "    'Rahul' : {\n",
    "        'English': 80,\n",
    "        'Maths': 85,\n",
    "        'Science': 90,\n",
    "    },\n",
    "}\n",
    "print(report)"
   ]
  },
  {
   "cell_type": "code",
   "execution_count": 10,
   "metadata": {},
   "outputs": [],
   "source": [
    "from pprint import pp # pretty print"
   ]
  },
  {
   "cell_type": "code",
   "execution_count": 11,
   "metadata": {},
   "outputs": [
    {
     "name": "stdout",
     "output_type": "stream",
     "text": [
      "{'Alex': {'English': 85, 'Maths': 90, 'Science': 78},\n",
      " 'Rahul': {'English': 80, 'Maths': 85, 'Science': 90}}\n"
     ]
    }
   ],
   "source": [
    "pp(report)"
   ]
  },
  {
   "cell_type": "code",
   "execution_count": 12,
   "metadata": {},
   "outputs": [
    {
     "data": {
      "text/plain": [
       "'orange'"
      ]
     },
     "execution_count": 12,
     "metadata": {},
     "output_type": "execute_result"
    }
   ],
   "source": [
    "fruits['orange']"
   ]
  },
  {
   "cell_type": "code",
   "execution_count": 13,
   "metadata": {},
   "outputs": [
    {
     "data": {
      "text/plain": [
       "{'English': 85, 'Maths': 90, 'Science': 78}"
      ]
     },
     "execution_count": 13,
     "metadata": {},
     "output_type": "execute_result"
    }
   ],
   "source": [
    "report['Alex']"
   ]
  },
  {
   "cell_type": "code",
   "execution_count": 14,
   "metadata": {},
   "outputs": [
    {
     "data": {
      "text/plain": [
       "[25, 30, 35]"
      ]
     },
     "execution_count": 14,
     "metadata": {},
     "output_type": "execute_result"
    }
   ],
   "source": [
    "temp['lucknow']"
   ]
  },
  {
   "cell_type": "code",
   "execution_count": 15,
   "metadata": {},
   "outputs": [
    {
     "data": {
      "text/plain": [
       "90"
      ]
     },
     "execution_count": 15,
     "metadata": {},
     "output_type": "execute_result"
    }
   ],
   "source": [
    "report['Alex']['Maths']"
   ]
  },
  {
   "cell_type": "code",
   "execution_count": 18,
   "metadata": {},
   "outputs": [
    {
     "name": "stdout",
     "output_type": "stream",
     "text": [
      "30\n",
      "40\n",
      "avg temp of delhi 35.0\n"
     ]
    }
   ],
   "source": [
    "print(temp['delhi'][0])\n",
    "print(temp['delhi'][-1])\n",
    "print('avg temp of delhi',sum(temp['delhi'])/(len(temp['delhi'])))"
   ]
  },
  {
   "cell_type": "code",
   "execution_count": 19,
   "metadata": {},
   "outputs": [
    {
     "name": "stdout",
     "output_type": "stream",
     "text": [
      "dict_keys(['apple', 'banana', 'cherry', 'orange'])\n",
      "dict_keys(['lucknow', 'delhi', 'chennai'])\n"
     ]
    }
   ],
   "source": [
    "# all keys of a dictionary\n",
    "print(fruits.keys())\n",
    "print(temp.keys())"
   ]
  },
  {
   "cell_type": "code",
   "execution_count": 20,
   "metadata": {},
   "outputs": [
    {
     "name": "stdout",
     "output_type": "stream",
     "text": [
      "['apple', 'banana', 'cherry', 'orange']\n"
     ]
    }
   ],
   "source": [
    "fruit_names = list(fruits.keys())\n",
    "print(fruit_names)"
   ]
  },
  {
   "cell_type": "code",
   "execution_count": 21,
   "metadata": {},
   "outputs": [
    {
     "name": "stdout",
     "output_type": "stream",
     "text": [
      "dict_values(['red', 'yellow', 'red', 'orange'])\n",
      "dict_values([[25, 30, 35], [30, 35, 40], [24, 23, 22]])\n",
      "dict_values([{'English': 85, 'Maths': 90, 'Science': 78}, {'English': 80, 'Maths': 85, 'Science': 90}])\n"
     ]
    }
   ],
   "source": [
    "# all values of a dictionary\n",
    "print(fruits.values())\n",
    "print(temp.values())\n",
    "print(report.values())"
   ]
  },
  {
   "cell_type": "code",
   "execution_count": 22,
   "metadata": {},
   "outputs": [
    {
     "name": "stdout",
     "output_type": "stream",
     "text": [
      "apple\n",
      "banana\n",
      "cherry\n",
      "orange\n"
     ]
    }
   ],
   "source": [
    "# traverse through keys\n",
    "for item in fruits:\n",
    "    print(item)"
   ]
  },
  {
   "cell_type": "code",
   "execution_count": 23,
   "metadata": {},
   "outputs": [
    {
     "name": "stdout",
     "output_type": "stream",
     "text": [
      "apple red\n",
      "banana yellow\n",
      "cherry red\n",
      "orange orange\n"
     ]
    }
   ],
   "source": [
    "# access values using keys\n",
    "for key in fruits:\n",
    "    print(key, fruits[key])"
   ]
  },
  {
   "cell_type": "code",
   "execution_count": 24,
   "metadata": {},
   "outputs": [
    {
     "name": "stdout",
     "output_type": "stream",
     "text": [
      "apple red\n",
      "banana yellow\n",
      "cherry red\n",
      "orange orange\n"
     ]
    }
   ],
   "source": [
    "# traverse using .items() method\n",
    "for k,v in fruits.items():\n",
    "    print(k,v)"
   ]
  },
  {
   "cell_type": "code",
   "execution_count": 25,
   "metadata": {},
   "outputs": [
    {
     "name": "stdout",
     "output_type": "stream",
     "text": [
      "red\n",
      "yellow\n",
      "red\n",
      "orange\n"
     ]
    }
   ],
   "source": [
    "# traverse only values\n",
    "for v in fruits.values():\n",
    "    print(v)"
   ]
  },
  {
   "cell_type": "code",
   "execution_count": 26,
   "metadata": {},
   "outputs": [
    {
     "name": "stdout",
     "output_type": "stream",
     "text": [
      "Alex\n",
      "->\t English 85\n",
      "->Total marks 253\n",
      "->\t Maths 90\n",
      "->Total marks 253\n",
      "->\t Science 78\n",
      "->Total marks 253\n",
      "Rahul\n",
      "->\t English 80\n",
      "->Total marks 255\n",
      "->\t Maths 85\n",
      "->Total marks 255\n",
      "->\t Science 90\n",
      "->Total marks 255\n"
     ]
    }
   ],
   "source": [
    "# total marks of all students\n",
    "for student, marks in report.items():\n",
    "    print(student)\n",
    "    for subject, mark in marks.items():\n",
    "        print(\"->\\t\",subject, mark)\n",
    "        print(\"->Total marks\",sum(marks.values()))"
   ]
  },
  {
   "cell_type": "code",
   "execution_count": 27,
   "metadata": {},
   "outputs": [
    {
     "name": "stdout",
     "output_type": "stream",
     "text": [
      "{'apple': 'green',\n",
      " 'banana': 'yellow',\n",
      " 'cherry': 'red',\n",
      " 'orange': 'orange',\n",
      " 'mango': 'yellow',\n",
      " 'grapes': 'green'}\n"
     ]
    }
   ],
   "source": [
    "# there is no method to add a single value to a dictionary(just a simple assignment)\n",
    "fruits['mango'] = 'yellow' # add\n",
    "fruits['grapes'] = 'green' # add\n",
    "fruits['apple'] = 'green' # update\n",
    "pp(fruits)"
   ]
  },
  {
   "cell_type": "code",
   "execution_count": 28,
   "metadata": {},
   "outputs": [
    {
     "name": "stdout",
     "output_type": "stream",
     "text": [
      "{'apple': 'green',\n",
      " 'banana': 'yellow',\n",
      " 'cherry': 'red',\n",
      " 'orange': 'orange',\n",
      " 'mango': 'yellow',\n",
      " 'grapes': 'green',\n",
      " 'Date': 'Brown',\n",
      " 'Almond': 'Brown',\n",
      " 'Cashew': 'White'}\n"
     ]
    }
   ],
   "source": [
    "# adding small dictionary to a big dictionary\n",
    "dry_fruits = {'Date':'Brown','Almond':'Brown','Cashew':'White'}\n",
    "fruits.update(dry_fruits) # merge the dry_fruits dicitonary to fruits \n",
    "pp(fruits)"
   ]
  },
  {
   "cell_type": "code",
   "execution_count": 29,
   "metadata": {},
   "outputs": [
    {
     "name": "stdout",
     "output_type": "stream",
     "text": [
      "None\n",
      "None\n",
      "Brown\n",
      "green\n",
      "no value found\n"
     ]
    }
   ],
   "source": [
    "# get-method -> error free way to access dictionary values\n",
    "# fruits['Raisin] # error if key not present\n",
    "print(fruits.get('raisin'))\n",
    "print(fruits.get('date'))\n",
    "print(fruits.get('Date'))\n",
    "print(fruits.get('apple','no value found'))\n",
    "print(fruits.get('gauva','no value found'))"
   ]
  },
  {
   "cell_type": "code",
   "execution_count": 30,
   "metadata": {},
   "outputs": [
    {
     "data": {
      "text/plain": [
       "'yellow'"
      ]
     },
     "execution_count": 30,
     "metadata": {},
     "output_type": "execute_result"
    }
   ],
   "source": [
    "# remove\n",
    "fruits.pop('banana') # remove by key => returns the value"
   ]
  },
  {
   "cell_type": "code",
   "execution_count": 31,
   "metadata": {},
   "outputs": [
    {
     "name": "stdout",
     "output_type": "stream",
     "text": [
      "{'apple': 'green',\n",
      " 'cherry': 'red',\n",
      " 'orange': 'orange',\n",
      " 'mango': 'yellow',\n",
      " 'grapes': 'green',\n",
      " 'Date': 'Brown',\n",
      " 'Almond': 'Brown',\n",
      " 'Cashew': 'White'}\n"
     ]
    }
   ],
   "source": [
    "pp(fruits)"
   ]
  },
  {
   "cell_type": "code",
   "execution_count": 34,
   "metadata": {},
   "outputs": [
    {
     "data": {
      "text/plain": [
       "[('Almond', 'Brown'),\n",
       " ('Cashew', 'White'),\n",
       " ('Date', 'Brown'),\n",
       " ('apple', 'green'),\n",
       " ('cherry', 'red'),\n",
       " ('grapes', 'green'),\n",
       " ('mango', 'yellow'),\n",
       " ('orange', 'orange')]"
      ]
     },
     "execution_count": 34,
     "metadata": {},
     "output_type": "execute_result"
    }
   ],
   "source": [
    "# sorting on keys\n",
    "sorted(fruits.items())"
   ]
  },
  {
   "cell_type": "code",
   "execution_count": 38,
   "metadata": {},
   "outputs": [
    {
     "data": {
      "text/plain": [
       "[('Date', 'Brown'),\n",
       " ('Almond', 'Brown'),\n",
       " ('Cashew', 'White'),\n",
       " ('apple', 'green'),\n",
       " ('grapes', 'green'),\n",
       " ('orange', 'orange'),\n",
       " ('cherry', 'red'),\n",
       " ('mango', 'yellow')]"
      ]
     },
     "execution_count": 38,
     "metadata": {},
     "output_type": "execute_result"
    }
   ],
   "source": [
    "sorted(fruits.items(), key= lambda i:i[1])"
   ]
  },
  {
   "cell_type": "code",
   "execution_count": 36,
   "metadata": {},
   "outputs": [
    {
     "data": {
      "text/plain": [
       "[('mango', 'yellow'),\n",
       " ('cherry', 'red'),\n",
       " ('orange', 'orange'),\n",
       " ('apple', 'green'),\n",
       " ('grapes', 'green'),\n",
       " ('Cashew', 'White'),\n",
       " ('Date', 'Brown'),\n",
       " ('Almond', 'Brown')]"
      ]
     },
     "execution_count": 36,
     "metadata": {},
     "output_type": "execute_result"
    }
   ],
   "source": [
    "sorted(fruits.items(), key= lambda i:i[1], reverse=True)"
   ]
  },
  {
   "cell_type": "code",
   "execution_count": 37,
   "metadata": {},
   "outputs": [
    {
     "data": {
      "text/plain": [
       "{'mango': 'yellow',\n",
       " 'cherry': 'red',\n",
       " 'orange': 'orange',\n",
       " 'apple': 'green',\n",
       " 'grapes': 'green',\n",
       " 'Cashew': 'White',\n",
       " 'Date': 'Brown',\n",
       " 'Almond': 'Brown'}"
      ]
     },
     "execution_count": 37,
     "metadata": {},
     "output_type": "execute_result"
    }
   ],
   "source": [
    "dict(sorted(fruits.items(), key= lambda i:i[1], reverse=True)) # sorted dictionary"
   ]
  },
  {
   "cell_type": "code",
   "execution_count": 39,
   "metadata": {},
   "outputs": [
    {
     "name": "stdout",
     "output_type": "stream",
     "text": [
      "{'apple': 'GREEN',\n",
      " 'cherry': 'RED',\n",
      " 'orange': 'ORANGE',\n",
      " 'mango': 'YELLOW',\n",
      " 'grapes': 'GREEN',\n",
      " 'date': 'BROWN',\n",
      " 'almond': 'BROWN',\n",
      " 'cashew': 'WHITE'}\n"
     ]
    }
   ],
   "source": [
    "clean_fruits = {}\n",
    "for k,v in fruits.items():\n",
    "    clean_fruits[k.lower()] = v.upper()\n",
    "pp(clean_fruits)\n"
   ]
  },
  {
   "cell_type": "code",
   "execution_count": 40,
   "metadata": {},
   "outputs": [
    {
     "name": "stdout",
     "output_type": "stream",
     "text": [
      "{'apple': 'GREEN',\n",
      " 'cherry': 'RED',\n",
      " 'orange': 'ORANGE',\n",
      " 'mango': 'YELLOW',\n",
      " 'grapes': 'GREEN',\n",
      " 'date': 'BROWN',\n",
      " 'almond': 'BROWN',\n",
      " 'cashew': 'WHITE'}\n"
     ]
    }
   ],
   "source": [
    "# the comprehension way\n",
    "clean_fruits = {k.lower():v.upper() for k,v in fruits.items()}\n",
    "pp(clean_fruits)"
   ]
  },
  {
   "cell_type": "code",
   "execution_count": 41,
   "metadata": {},
   "outputs": [
    {
     "name": "stdout",
     "output_type": "stream",
     "text": [
      "{'lucknow': 30.0, 'delhi': 35.0, 'chennai': 23.0}\n"
     ]
    }
   ],
   "source": [
    "avg_temp = {city: sum(data)/len(data) for city, data in temp.items()}\n",
    "pp(avg_temp)"
   ]
  },
  {
   "cell_type": "code",
   "execution_count": null,
   "metadata": {},
   "outputs": [],
   "source": []
  }
 ],
 "metadata": {
  "kernelspec": {
   "display_name": "base",
   "language": "python",
   "name": "python3"
  },
  "language_info": {
   "codemirror_mode": {
    "name": "ipython",
    "version": 3
   },
   "file_extension": ".py",
   "mimetype": "text/x-python",
   "name": "python",
   "nbconvert_exporter": "python",
   "pygments_lexer": "ipython3",
   "version": "3.12.3"
  }
 },
 "nbformat": 4,
 "nbformat_minor": 2
}
