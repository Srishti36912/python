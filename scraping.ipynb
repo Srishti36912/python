{
 "cells": [
  {
   "cell_type": "code",
   "execution_count": 1,
   "metadata": {},
   "outputs": [],
   "source": [
    "from dputils.scrape import Scraper, Tag"
   ]
  },
  {
   "cell_type": "code",
   "execution_count": 2,
   "metadata": {},
   "outputs": [],
   "source": [
    "url = 'https://www.flipkart.com/motorola-edge-50-pro-5g-68w-charger-black-beauty-256-gb/p/itmb3f6625c5c896?pid=MOBGXFXYDG8YRZU4&lid=LSTMOBGXFXYDG8YRZU4SAX9WW&marketplace=FLIPKART&store=tyy%2F4io&srno=b_1_1&otracker=browse&fm=organic&iid=ace38f80-151a-41b0-a079-b620b88b8ec9.MOBGXFXYDG8YRZU4.SEARCH&ppt=hp&ppn=homepage&ssid=vj43l0oe680000001721542596100'\n",
    "s1 = Scraper(url)"
   ]
  },
  {
   "cell_type": "code",
   "execution_count": 3,
   "metadata": {},
   "outputs": [],
   "source": [
    "heading= Tag('h1', cls='_6EBuvT')\n",
    "price = Tag(cls='Nx9bqj CxhGGd')\n",
    "desc = Tag(cls='U+9u4y')\n",
    "review = Tag(cls='RcXBOT')\n",
    "results = s1.get_data_from_page(heading=heading, price=price, desc=desc, review=review)"
   ]
  },
  {
   "cell_type": "markdown",
   "metadata": {},
   "source": [
    "multiple items from a single page"
   ]
  },
  {
   "cell_type": "code",
   "execution_count": 4,
   "metadata": {},
   "outputs": [],
   "source": [
    "items = Tag(cls='cPHDOP col-12-12')\n",
    "url = \"https://www.flipkart.com/tyy/4io/~cs-33irmtdz82/pr?sid=tyy%2C4io&collection-tab-name=Moto+Edge+50+pro+5g&param=279892&ctx=eyJjYXJkQ29udGV4dCI6eyJhdHRyaWJ1dGVzIjp7InZhbHVlQ2FsbG91dCI6eyJtdWx0aVZhbHVlZEF0dHJpYnV0ZSI6eyJrZXkiOiJ2YWx1ZUNhbGxvdXQiLCJpbmZlcmVuY2VUeXBlIjoiVkFMVUVfQ0FMTE9VVCIsInZhbHVlcyI6WyJGcm9tIOKCuTI3LDk5OSoiXSwidmFsdWVUeXBlIjoiTVVMVElfVkFMVUVEIn19LCJ0aXRsZSI6eyJtdWx0aVZhbHVlZEF0dHJpYnV0ZSI6eyJrZXkiOiJ0aXRsZSIsImluZmVyZW5jZVR5cGUiOiJUSVRMRSIsInZhbHVlcyI6WyJtb3Rvcm9sYSBlZGdlIDUwIFBybyJdLCJ2YWx1ZVR5cGUiOiJNVUxUSV9WQUxVRUQifX0sImhlcm9QaWQiOnsic2luZ2xlVmFsdWVBdHRyaWJ1dGUiOnsia2V5IjoiaGVyb1BpZCIsImluZmVyZW5jZVR5cGUiOiJQSUQiLCJ2YWx1ZSI6Ik1PQkdYRlhZTVRLQU1QVFMiLCJ2YWx1ZVR5cGUiOiJTSU5HTEVfVkFMVUVEIn19fX19\"\n",
    "s2 = Scraper(url)\n",
    "results = s2.get_repeating_date_from_page(\n",
    "    target = Tag('body'),\n",
    "    items = items,\n",
    "    title = Tag(cls='KzDlHZ'),\n",
    "    price = Tag(cls='Nx9bqj _4b5DiR'),\n",
    "    ratings = Tag('span', cls='Wphh3N')\n",
    ")"
   ]
  },
  {
   "cell_type": "code",
   "execution_count": 5,
   "metadata": {},
   "outputs": [
    {
     "data": {
      "text/html": [
       "<div>\n",
       "<style scoped>\n",
       "    .dataframe tbody tr th:only-of-type {\n",
       "        vertical-align: middle;\n",
       "    }\n",
       "\n",
       "    .dataframe tbody tr th {\n",
       "        vertical-align: top;\n",
       "    }\n",
       "\n",
       "    .dataframe thead th {\n",
       "        text-align: right;\n",
       "    }\n",
       "</style>\n",
       "<table border=\"1\" class=\"dataframe\">\n",
       "  <thead>\n",
       "    <tr style=\"text-align: right;\">\n",
       "      <th></th>\n",
       "      <th>title</th>\n",
       "      <th>price</th>\n",
       "      <th>ratings</th>\n",
       "    </tr>\n",
       "  </thead>\n",
       "  <tbody>\n",
       "    <tr>\n",
       "      <th>0</th>\n",
       "      <td>None</td>\n",
       "      <td>None</td>\n",
       "      <td>None</td>\n",
       "    </tr>\n",
       "    <tr>\n",
       "      <th>1</th>\n",
       "      <td>None</td>\n",
       "      <td>None</td>\n",
       "      <td>None</td>\n",
       "    </tr>\n",
       "    <tr>\n",
       "      <th>2</th>\n",
       "      <td>Motorola Edge 50 Pro 5G with 125W Charger (Can...</td>\n",
       "      <td>₹31,999</td>\n",
       "      <td>52,273 Ratings &amp; 3,487 Reviews</td>\n",
       "    </tr>\n",
       "    <tr>\n",
       "      <th>3</th>\n",
       "      <td>Motorola Edge 50 Pro 5G with 125W Charger (Lux...</td>\n",
       "      <td>₹31,999</td>\n",
       "      <td>52,273 Ratings &amp; 3,487 Reviews</td>\n",
       "    </tr>\n",
       "    <tr>\n",
       "      <th>4</th>\n",
       "      <td>Motorola Edge 50 Pro 5G with 125W Charger (Moo...</td>\n",
       "      <td>₹31,999</td>\n",
       "      <td>52,273 Ratings &amp; 3,487 Reviews</td>\n",
       "    </tr>\n",
       "    <tr>\n",
       "      <th>5</th>\n",
       "      <td>Motorola Edge 50 Pro 5G with 125W Charger (Bla...</td>\n",
       "      <td>₹31,999</td>\n",
       "      <td>52,273 Ratings &amp; 3,487 Reviews</td>\n",
       "    </tr>\n",
       "    <tr>\n",
       "      <th>6</th>\n",
       "      <td>Motorola Edge 50 Pro 5G with 125W Charger (Van...</td>\n",
       "      <td>₹31,999</td>\n",
       "      <td>52,273 Ratings &amp; 3,487 Reviews</td>\n",
       "    </tr>\n",
       "    <tr>\n",
       "      <th>7</th>\n",
       "      <td>None</td>\n",
       "      <td>None</td>\n",
       "      <td>None</td>\n",
       "    </tr>\n",
       "    <tr>\n",
       "      <th>8</th>\n",
       "      <td>None</td>\n",
       "      <td>None</td>\n",
       "      <td>None</td>\n",
       "    </tr>\n",
       "  </tbody>\n",
       "</table>\n",
       "</div>"
      ],
      "text/plain": [
       "                                               title    price  \\\n",
       "0                                               None     None   \n",
       "1                                               None     None   \n",
       "2  Motorola Edge 50 Pro 5G with 125W Charger (Can...  ₹31,999   \n",
       "3  Motorola Edge 50 Pro 5G with 125W Charger (Lux...  ₹31,999   \n",
       "4  Motorola Edge 50 Pro 5G with 125W Charger (Moo...  ₹31,999   \n",
       "5  Motorola Edge 50 Pro 5G with 125W Charger (Bla...  ₹31,999   \n",
       "6  Motorola Edge 50 Pro 5G with 125W Charger (Van...  ₹31,999   \n",
       "7                                               None     None   \n",
       "8                                               None     None   \n",
       "\n",
       "                          ratings  \n",
       "0                            None  \n",
       "1                            None  \n",
       "2  52,273 Ratings & 3,487 Reviews  \n",
       "3  52,273 Ratings & 3,487 Reviews  \n",
       "4  52,273 Ratings & 3,487 Reviews  \n",
       "5  52,273 Ratings & 3,487 Reviews  \n",
       "6  52,273 Ratings & 3,487 Reviews  \n",
       "7                            None  \n",
       "8                            None  "
      ]
     },
     "execution_count": 5,
     "metadata": {},
     "output_type": "execute_result"
    }
   ],
   "source": [
    "import pandas as pd\n",
    "pd.DataFrame(results)"
   ]
  },
  {
   "cell_type": "code",
   "execution_count": 6,
   "metadata": {},
   "outputs": [
    {
     "data": {
      "text/html": [
       "<div>\n",
       "<style scoped>\n",
       "    .dataframe tbody tr th:only-of-type {\n",
       "        vertical-align: middle;\n",
       "    }\n",
       "\n",
       "    .dataframe tbody tr th {\n",
       "        vertical-align: top;\n",
       "    }\n",
       "\n",
       "    .dataframe thead th {\n",
       "        text-align: right;\n",
       "    }\n",
       "</style>\n",
       "<table border=\"1\" class=\"dataframe\">\n",
       "  <thead>\n",
       "    <tr style=\"text-align: right;\">\n",
       "      <th></th>\n",
       "    </tr>\n",
       "  </thead>\n",
       "  <tbody>\n",
       "  </tbody>\n",
       "</table>\n",
       "</div>"
      ],
      "text/plain": [
       "Empty DataFrame\n",
       "Columns: []\n",
       "Index: []"
      ]
     },
     "execution_count": 6,
     "metadata": {},
     "output_type": "execute_result"
    }
   ],
   "source": [
    "items = Tag(cls='s-result-item')\n",
    "title = Tag('span', cls='a-size-base-plus a-color-base a-text-normal')\n",
    "url ='https://www.amazon.in/s?k=shoes&crid=2OAOAMZS2EVJY&sprefix=shoe%2Caps%2C306&ref=nb_sb_noss_1'\n",
    "s3 = Scraper(url)\n",
    "results = s3.get_repeating_date_from_page(\n",
    "    target = Tag('body'),\n",
    "    items = items,\n",
    "    title = title,\n",
    "    brand = Tag('h2', cls='a-size-mini s-line-clamp-1')\n",
    ")\n",
    "pd.DataFrame(results).dropna()"
   ]
  },
  {
   "cell_type": "code",
   "execution_count": 7,
   "metadata": {},
   "outputs": [
    {
     "data": {
      "text/html": [
       "<div>\n",
       "<style scoped>\n",
       "    .dataframe tbody tr th:only-of-type {\n",
       "        vertical-align: middle;\n",
       "    }\n",
       "\n",
       "    .dataframe tbody tr th {\n",
       "        vertical-align: top;\n",
       "    }\n",
       "\n",
       "    .dataframe thead th {\n",
       "        text-align: right;\n",
       "    }\n",
       "</style>\n",
       "<table border=\"1\" class=\"dataframe\">\n",
       "  <thead>\n",
       "    <tr style=\"text-align: right;\">\n",
       "      <th></th>\n",
       "    </tr>\n",
       "  </thead>\n",
       "  <tbody>\n",
       "  </tbody>\n",
       "</table>\n",
       "</div>"
      ],
      "text/plain": [
       "Empty DataFrame\n",
       "Columns: []\n",
       "Index: []"
      ]
     },
     "execution_count": 7,
     "metadata": {},
     "output_type": "execute_result"
    }
   ],
   "source": [
    "start = 1\n",
    "term = 'shoes'\n",
    "all_data = []\n",
    "while True:\n",
    "    url = f\"https://www.amazon.in/s?k={term}&page={start}&crid=2OAOAMZS2EVJY&qid=1721544045&sprefix=shoe%2Caps%2C306&ref=sr_pg_2\"\n",
    "    sc = Scraper(url)\n",
    "    results = sc.get_repeating_date_from_page(\n",
    "        target = Tag('body'),\n",
    "        items = items,\n",
    "        title = title,\n",
    "        brand = Tag('h2', cls='a-size-mini s-line-clamp-1')\n",
    "    )\n",
    "    if len(results) == 0:\n",
    "        break\n",
    "    all_data.extend(results)\n",
    "    start += 1\n",
    "\n",
    "df = pd.DataFrame(all_data).dropna()\n",
    "df"
   ]
  },
  {
   "cell_type": "markdown",
   "metadata": {},
   "source": [
    "# sqlalchemy -> ORM(object relational mapping)"
   ]
  },
  {
   "cell_type": "code",
   "execution_count": 8,
   "metadata": {},
   "outputs": [
    {
     "name": "stdout",
     "output_type": "stream",
     "text": [
      "2025-02-02 16:58:07,815 INFO sqlalchemy.engine.Engine BEGIN (implicit)\n",
      "2025-02-02 16:58:07,815 INFO sqlalchemy.engine.Engine PRAGMA main.table_info(\"news\")\n",
      "2025-02-02 16:58:07,815 INFO sqlalchemy.engine.Engine [raw sql] ()\n",
      "2025-02-02 16:58:07,815 INFO sqlalchemy.engine.Engine PRAGMA temp.table_info(\"news\")\n",
      "2025-02-02 16:58:07,815 INFO sqlalchemy.engine.Engine [raw sql] ()\n",
      "2025-02-02 16:58:07,826 INFO sqlalchemy.engine.Engine \n",
      "CREATE TABLE news (\n",
      "\tid INTEGER NOT NULL, \n",
      "\ttitle VARCHAR, \n",
      "\tcontent VARCHAR, \n",
      "\tposted_by VARCHAR, \n",
      "\timage VARCHAR, \n",
      "\tcreated_at DATETIME, \n",
      "\tPRIMARY KEY (id), \n",
      "\tUNIQUE (title)\n",
      ")\n",
      "\n",
      "\n",
      "2025-02-02 16:58:07,826 INFO sqlalchemy.engine.Engine [no key 0.00056s] ()\n",
      "2025-02-02 16:58:07,833 INFO sqlalchemy.engine.Engine COMMIT\n"
     ]
    }
   ],
   "source": [
    "from sqlalchemy import create_engine, Table, Column, Integer, String, DateTime\n",
    "from sqlalchemy.orm import Session, declarative_base\n",
    "from datetime import datetime\n",
    "\n",
    "Base = declarative_base()\n",
    "\n",
    "class News(Base):\n",
    "    __tablename__ = 'news'\n",
    "    id = Column(Integer, primary_key=True)  # auto increment\n",
    "    title = Column(String, unique=True)\n",
    "    content = Column(String)\n",
    "    posted_by = Column(String)\n",
    "    image = Column(String)\n",
    "    created_at = Column(DateTime, default= datetime) # auto timestamp\n",
    "\n",
    "engine = create_engine(\"sqlite:///news.sqlite\", echo = True) \n",
    "Base.metadata.create_all(engine)\n"
   ]
  },
  {
   "cell_type": "code",
   "execution_count": 9,
   "metadata": {},
   "outputs": [],
   "source": [
    "from dputils.scrape import Scraper, Tag\n",
    "url='https://www.ndtv.com/latest/page-2'\n",
    "news_scraper = Scraper(url)\n",
    "items = Tag(cls='news_Itm')\n",
    "img_src = Tag('img', output='src')\n",
    "title = Tag('h2', cls='newsHdng')\n",
    "post = Tag('span', cls='posted-by')\n",
    "content = Tag('p', cls='newsCont')\n",
    "target = Tag('body')\n",
    "out = news_scraper.get_repeating_date_from_page(\n",
    "    target = target, items=items, \n",
    "    image=img_src, title=title, \n",
    "    post=post, content=content\n",
    ")\n",
    "from pprint import pp\n",
    "db = Session(engine)\n",
    "for entry in out:\n",
    "    try:\n",
    "        db.add(\n",
    "            News(\n",
    "                title = entry['title'],\n",
    "                content = entry['content'],\n",
    "                posted_by = entry['post'],\n",
    "                image = entry['image']\n",
    "        ))\n",
    "    except Exception as e:\n",
    "        print(e)\n",
    "\n",
    "db.commit()\n",
    "db.close()"
   ]
  },
  {
   "cell_type": "code",
   "execution_count": 10,
   "metadata": {},
   "outputs": [
    {
     "name": "stdout",
     "output_type": "stream",
     "text": [
      "2025-02-02 16:58:08,375 INFO sqlalchemy.engine.Engine BEGIN (implicit)\n",
      "2025-02-02 16:58:08,379 INFO sqlalchemy.engine.Engine PRAGMA main.table_info(\"news\")\n",
      "2025-02-02 16:58:08,379 INFO sqlalchemy.engine.Engine [raw sql] ()\n",
      "2025-02-02 16:58:08,382 INFO sqlalchemy.engine.Engine SELECT name FROM sqlite_master WHERE type='table' AND name NOT LIKE 'sqlite~_%' ESCAPE '~' ORDER BY name\n",
      "2025-02-02 16:58:08,382 INFO sqlalchemy.engine.Engine [raw sql] ()\n",
      "2025-02-02 16:58:08,388 INFO sqlalchemy.engine.Engine SELECT name FROM sqlite_master WHERE type='view' AND name NOT LIKE 'sqlite~_%' ESCAPE '~' ORDER BY name\n",
      "2025-02-02 16:58:08,389 INFO sqlalchemy.engine.Engine [raw sql] ()\n",
      "2025-02-02 16:58:08,389 INFO sqlalchemy.engine.Engine PRAGMA main.table_xinfo(\"news\")\n",
      "2025-02-02 16:58:08,389 INFO sqlalchemy.engine.Engine [raw sql] ()\n",
      "2025-02-02 16:58:08,392 INFO sqlalchemy.engine.Engine SELECT sql FROM  (SELECT * FROM sqlite_master UNION ALL   SELECT * FROM sqlite_temp_master) WHERE name = ? AND type in ('table', 'view')\n",
      "2025-02-02 16:58:08,392 INFO sqlalchemy.engine.Engine [raw sql] ('news',)\n",
      "2025-02-02 16:58:08,392 INFO sqlalchemy.engine.Engine PRAGMA main.foreign_key_list(\"news\")\n",
      "2025-02-02 16:58:08,397 INFO sqlalchemy.engine.Engine [raw sql] ()\n",
      "2025-02-02 16:58:08,398 INFO sqlalchemy.engine.Engine PRAGMA temp.foreign_key_list(\"news\")\n",
      "2025-02-02 16:58:08,398 INFO sqlalchemy.engine.Engine [raw sql] ()\n",
      "2025-02-02 16:58:08,401 INFO sqlalchemy.engine.Engine SELECT sql FROM  (SELECT * FROM sqlite_master UNION ALL   SELECT * FROM sqlite_temp_master) WHERE name = ? AND type in ('table', 'view')\n",
      "2025-02-02 16:58:08,403 INFO sqlalchemy.engine.Engine [raw sql] ('news',)\n",
      "2025-02-02 16:58:08,405 INFO sqlalchemy.engine.Engine PRAGMA main.index_list(\"news\")\n",
      "2025-02-02 16:58:08,408 INFO sqlalchemy.engine.Engine [raw sql] ()\n",
      "2025-02-02 16:58:08,408 INFO sqlalchemy.engine.Engine PRAGMA main.table_info(\"news\")\n",
      "2025-02-02 16:58:08,408 INFO sqlalchemy.engine.Engine [raw sql] ()\n",
      "2025-02-02 16:58:08,412 INFO sqlalchemy.engine.Engine PRAGMA main.index_list(\"news\")\n",
      "2025-02-02 16:58:08,413 INFO sqlalchemy.engine.Engine [raw sql] ()\n",
      "2025-02-02 16:58:08,415 INFO sqlalchemy.engine.Engine PRAGMA main.index_info(\"sqlite_autoindex_news_1\")\n",
      "2025-02-02 16:58:08,415 INFO sqlalchemy.engine.Engine [raw sql] ()\n",
      "2025-02-02 16:58:08,419 INFO sqlalchemy.engine.Engine SELECT sql FROM  (SELECT * FROM sqlite_master UNION ALL   SELECT * FROM sqlite_temp_master) WHERE name = ? AND type in ('table', 'view')\n",
      "2025-02-02 16:58:08,419 INFO sqlalchemy.engine.Engine [raw sql] ('news',)\n",
      "2025-02-02 16:58:08,419 INFO sqlalchemy.engine.Engine SELECT news.id, news.title, news.content, news.posted_by, news.image, news.created_at \n",
      "FROM news\n",
      "2025-02-02 16:58:08,419 INFO sqlalchemy.engine.Engine [generated in 0.00095s] ()\n",
      "2025-02-02 16:58:08,431 INFO sqlalchemy.engine.Engine ROLLBACK\n"
     ]
    }
   ],
   "source": [
    "import pandas as pd\n",
    "news_df = pd.read_sql('news', engine)"
   ]
  }
 ],
 "metadata": {
  "kernelspec": {
   "display_name": "base",
   "language": "python",
   "name": "python3"
  },
  "language_info": {
   "codemirror_mode": {
    "name": "ipython",
    "version": 3
   },
   "file_extension": ".py",
   "mimetype": "text/x-python",
   "name": "python",
   "nbconvert_exporter": "python",
   "pygments_lexer": "ipython3",
   "version": "3.12.3"
  }
 },
 "nbformat": 4,
 "nbformat_minor": 2
}
