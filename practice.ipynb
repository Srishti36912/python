{
 "cells": [
  {
   "cell_type": "markdown",
   "metadata": {},
   "source": [
    "# Strings\n",
    "- 1-10 done in strings file\n",
    "- 23-25 also done in strings file"
   ]
  },
  {
   "cell_type": "code",
   "execution_count": 1,
   "metadata": {},
   "outputs": [
    {
     "name": "stdout",
     "output_type": "stream",
     "text": [
      "The variable is 15\n"
     ]
    }
   ],
   "source": [
    "# 11\n",
    "a = 15\n",
    "print(f'The variable is {a}')"
   ]
  },
  {
   "cell_type": "code",
   "execution_count": 5,
   "metadata": {},
   "outputs": [
    {
     "name": "stdout",
     "output_type": "stream",
     "text": [
      "python is great.\n"
     ]
    }
   ],
   "source": [
    "# 12\n",
    "s1 = 'python '\n",
    "s2 = 'is '\n",
    "s3 = 'great.'\n",
    "mainstr = s1 + s2 + s3\n",
    "print(mainstr)"
   ]
  },
  {
   "cell_type": "code",
   "execution_count": 7,
   "metadata": {},
   "outputs": [
    {
     "name": "stdout",
     "output_type": "stream",
     "text": [
      "################### \n"
     ]
    }
   ],
   "source": [
    "#13\n",
    "print(\" \".rjust(20,'#'))"
   ]
  },
  {
   "cell_type": "code",
   "execution_count": 9,
   "metadata": {},
   "outputs": [
    {
     "name": "stdout",
     "output_type": "stream",
     "text": [
      "1.\n",
      "2.\n",
      "3.\n",
      "4.\n",
      "5.\n",
      "6.\n",
      "7.\n",
      "8.\n",
      "9.\n",
      "\n"
     ]
    }
   ],
   "source": [
    "#14\n",
    "for num in range(1, 10):\n",
    "    print(f'{num}.')\n",
    "print()"
   ]
  },
  {
   "cell_type": "code",
   "execution_count": 11,
   "metadata": {},
   "outputs": [
    {
     "name": "stdout",
     "output_type": "stream",
     "text": [
      "My\n",
      "name\n",
      "is\n",
      "Srishti\n"
     ]
    }
   ],
   "source": [
    "#15\n",
    "sen = input(\"Enter a sentence: \")\n",
    "word = sen.split()\n",
    "print(\"\\n\".join(word))"
   ]
  },
  {
   "cell_type": "code",
   "execution_count": 23,
   "metadata": {},
   "outputs": [
    {
     "data": {
      "text/plain": [
       "True"
      ]
     },
     "execution_count": 23,
     "metadata": {},
     "output_type": "execute_result"
    }
   ],
   "source": [
    "#16\n",
    "str = input('Enter a sentence: ')\n",
    "str.endswith('?')\n"
   ]
  },
  {
   "cell_type": "code",
   "execution_count": 21,
   "metadata": {},
   "outputs": [
    {
     "name": "stdout",
     "output_type": "stream",
     "text": [
      "2\n"
     ]
    }
   ],
   "source": [
    "#17\n",
    "line = input(\"Enter a line: \")\n",
    "print(line.count('e'))"
   ]
  },
  {
   "cell_type": "code",
   "execution_count": 22,
   "metadata": {},
   "outputs": [
    {
     "data": {
      "text/plain": [
       "True"
      ]
     },
     "execution_count": 22,
     "metadata": {},
     "output_type": "execute_result"
    }
   ],
   "source": [
    "#18\n",
    "num = input(\"Enter something: \")\n",
    "num.isdigit()"
   ]
  },
  {
   "cell_type": "code",
   "execution_count": 24,
   "metadata": {},
   "outputs": [
    {
     "data": {
      "text/plain": [
       "'this is not a good string'"
      ]
     },
     "execution_count": 24,
     "metadata": {},
     "output_type": "execute_result"
    }
   ],
   "source": [
    "#19\n",
    "text = '   this is not a good string           '\n",
    "text.strip()\n"
   ]
  },
  {
   "cell_type": "code",
   "execution_count": 27,
   "metadata": {},
   "outputs": [
    {
     "name": "stdout",
     "output_type": "stream",
     "text": [
      "found\n"
     ]
    }
   ],
   "source": [
    "#20\n",
    "data = input(\"Enter a string: \")\n",
    "for capital in data:\n",
    "    if capital.isupper():\n",
    "        print(\"found\")\n",
    "        break"
   ]
  },
  {
   "cell_type": "code",
   "execution_count": 28,
   "metadata": {},
   "outputs": [
    {
     "data": {
      "text/plain": [
       "['Joe,', 'David,', 'Mark,', 'Tom,', 'Chris,', 'Robert']"
      ]
     },
     "execution_count": 28,
     "metadata": {},
     "output_type": "execute_result"
    }
   ],
   "source": [
    "#21\n",
    "names = 'Joe, David, Mark, Tom, Chris, Robert'\n",
    "names.split()"
   ]
  },
  {
   "cell_type": "code",
   "execution_count": 1,
   "metadata": {},
   "outputs": [
    {
     "name": "stdout",
     "output_type": "stream",
     "text": [
      "thisaye\n",
      "isaye\n",
      "someaye\n",
      "textaye\n"
     ]
    }
   ],
   "source": [
    "#22\n",
    "text = 'this is some text'\n",
    "real = text.split()\n",
    "for i in real:\n",
    "    newtext = i + 'aye'\n",
    "    print(newtext)\n"
   ]
  },
  {
   "cell_type": "markdown",
   "metadata": {},
   "source": [
    "# Loops"
   ]
  },
  {
   "cell_type": "code",
   "execution_count": 33,
   "metadata": {},
   "outputs": [
    {
     "name": "stdout",
     "output_type": "stream",
     "text": [
      "1\n",
      "2\n",
      "3\n",
      "4\n",
      "5\n",
      "6\n",
      "7\n",
      "8\n",
      "9\n",
      "10\n"
     ]
    }
   ],
   "source": [
    "#1\n",
    "for num in range(1, 11):\n",
    "    print(num)"
   ]
  },
  {
   "cell_type": "code",
   "execution_count": 36,
   "metadata": {},
   "outputs": [
    {
     "name": "stdout",
     "output_type": "stream",
     "text": [
      "15 * 1 = 15\n",
      "15 * 2 = 30\n",
      "15 * 3 = 45\n",
      "15 * 4 = 60\n",
      "15 * 5 = 75\n",
      "15 * 6 = 90\n",
      "15 * 7 = 105\n",
      "15 * 8 = 120\n",
      "15 * 9 = 135\n",
      "15 * 10 = 150\n"
     ]
    }
   ],
   "source": [
    "#2\n",
    "n = 15\n",
    "a = 1\n",
    "while(a<11):\n",
    "    print(f'{n} * {a} = {n*a}')\n",
    "    a = a+1"
   ]
  },
  {
   "cell_type": "code",
   "execution_count": 42,
   "metadata": {},
   "outputs": [
    {
     "name": "stdout",
     "output_type": "stream",
     "text": [
      "2550\n"
     ]
    }
   ],
   "source": [
    "#3\n",
    "s = 0\n",
    "for even in range(0,101,2):\n",
    "    s = s + even\n",
    "print(s)"
   ]
  },
  {
   "cell_type": "code",
   "execution_count": 51,
   "metadata": {},
   "outputs": [
    {
     "name": "stdout",
     "output_type": "stream",
     "text": [
      "Not Prime\n"
     ]
    }
   ],
   "source": [
    "#4\n",
    "num = 25\n",
    "i = 25 \n",
    "c = 0\n",
    "while i > 0:\n",
    "    if num % i == 0:\n",
    "        c = c + 1 \n",
    "    i = i - 1\n",
    "if c > 2:\n",
    "    print('Not Prime')\n",
    "else:\n",
    "    print('Prime')"
   ]
  },
  {
   "cell_type": "code",
   "execution_count": 55,
   "metadata": {},
   "outputs": [
    {
     "name": "stdout",
     "output_type": "stream",
     "text": [
      "120\n"
     ]
    }
   ],
   "source": [
    "#5\n",
    "f = 1 \n",
    "for fact in range(1,6):\n",
    "    f = f * fact\n",
    "print(f)"
   ]
  },
  {
   "cell_type": "code",
   "execution_count": 59,
   "metadata": {},
   "outputs": [
    {
     "name": "stdout",
     "output_type": "stream",
     "text": [
      "0\n",
      "1\n",
      "1\n",
      "2\n",
      "3\n",
      "5\n",
      "8\n",
      "13\n",
      "21\n",
      "34\n",
      "55\n"
     ]
    }
   ],
   "source": [
    "#6\n",
    "a = 0\n",
    "b = 1\n",
    "print(a)\n",
    "print(b)\n",
    "for i in range(2,11):\n",
    "    c = a + b \n",
    "    a = b\n",
    "    b = c \n",
    "    print(c)\n",
    "\n"
   ]
  },
  {
   "cell_type": "code",
   "execution_count": 61,
   "metadata": {},
   "outputs": [
    {
     "name": "stdout",
     "output_type": "stream",
     "text": [
      "134\n"
     ]
    }
   ],
   "source": [
    "#7\n",
    "max = 0\n",
    "list = [12, 23, 134, 56, 67, 78, 90, 108]\n",
    "for el in list:\n",
    "    if el > max:\n",
    "        max = el\n",
    "print(max)"
   ]
  },
  {
   "cell_type": "code",
   "execution_count": 67,
   "metadata": {},
   "outputs": [
    {
     "name": "stdout",
     "output_type": "stream",
     "text": [
      "olleH\n"
     ]
    }
   ],
   "source": [
    "#8\n",
    "str = \"Hello\"\n",
    "rev = ''\n",
    "length = len(str)\n",
    "while length > 0:\n",
    "    rev = rev + str[length -1]\n",
    "    length = length - 1\n",
    "print(rev)"
   ]
  },
  {
   "cell_type": "code",
   "execution_count": 73,
   "metadata": {},
   "outputs": [
    {
     "name": "stdout",
     "output_type": "stream",
     "text": [
      "65\n",
      "66\n",
      "67\n",
      "68\n",
      "69\n",
      "70\n",
      "71\n",
      "72\n",
      "73\n",
      "74\n",
      "75\n",
      "76\n",
      "77\n",
      "78\n",
      "79\n",
      "80\n",
      "81\n",
      "82\n",
      "83\n",
      "84\n",
      "85\n",
      "86\n",
      "87\n",
      "88\n",
      "89\n",
      "90\n"
     ]
    }
   ],
   "source": [
    "#9\n",
    "from string import ascii_uppercase\n",
    "for alpha in ascii_uppercase:\n",
    "    value = ord(alpha)\n",
    "    print(value)"
   ]
  },
  {
   "cell_type": "code",
   "execution_count": 84,
   "metadata": {},
   "outputs": [
    {
     "name": "stdout",
     "output_type": "stream",
     "text": [
      "Palindrome\n"
     ]
    }
   ],
   "source": [
    "#10\n",
    "str = 'wow'\n",
    "palin = ''\n",
    "length = len(str)\n",
    "for word in str:\n",
    "    palin = word + palin\n",
    "if(palin == str):\n",
    "    print(\"Palindrome\")\n",
    "else:\n",
    "    print('Non-palindrome')\n"
   ]
  },
  {
   "cell_type": "code",
   "execution_count": 10,
   "metadata": {},
   "outputs": [
    {
     "name": "stdout",
     "output_type": "stream",
     "text": [
      "the average of the list is: 5.50\n"
     ]
    }
   ],
   "source": [
    "#11\n",
    "list_num = [1, 2, 3, 4, 5, 6, 7, 8, 9, 10]\n",
    "total = 0\n",
    "c = 0\n",
    "avg = 0\n",
    "for el in list_num:\n",
    "    total = total + el\n",
    "    c = c + 1\n",
    "avg = total / c\n",
    "print(f'the average of the list is: {avg:.2f}')"
   ]
  },
  {
   "cell_type": "code",
   "execution_count": 19,
   "metadata": {},
   "outputs": [
    {
     "name": "stdout",
     "output_type": "stream",
     "text": [
      "The smallest element is: 2\n"
     ]
    }
   ],
   "source": [
    "#12\n",
    "list_numbers = [12, 34, 56, 78, 90, 23, 45, 9, 2, 100]\n",
    "length = len(list_numbers)\n",
    "count = 1\n",
    "small = list_numbers[0]\n",
    "while count != length:\n",
    "    if list_numbers[count] < small:\n",
    "        small = list_numbers[count]\n",
    "    count = count + 1\n",
    "print(f'The smallest element is: {small}')"
   ]
  },
  {
   "cell_type": "code",
   "execution_count": 4,
   "metadata": {},
   "outputs": [
    {
     "name": "stdout",
     "output_type": "stream",
     "text": [
      "15\n"
     ]
    }
   ],
   "source": [
    "#13\n",
    "number = input('Enter a number: ')\n",
    "s = 0\n",
    "for digit in number:\n",
    "    s = s + int (digit)\n",
    "print(s)\n"
   ]
  },
  {
   "cell_type": "code",
   "execution_count": 23,
   "metadata": {},
   "outputs": [
    {
     "name": "stdout",
     "output_type": "stream",
     "text": [
      "The list have a leap year in it\n"
     ]
    }
   ],
   "source": [
    "#14\n",
    "data = list(range(2001, 2011))\n",
    "size = len(data)\n",
    "part = 0\n",
    "c = 0\n",
    "while  part != size:\n",
    "    if data[part] % 4 == 0:\n",
    "        c = c + 1\n",
    "        break\n",
    "    else:\n",
    "        part = part + 1\n",
    "if c > 0:\n",
    "    print('The list have a leap year in it')\n",
    "else:\n",
    "    print('The list does not have a leap year in it')\n",
    "\n"
   ]
  },
  {
   "cell_type": "code",
   "execution_count": 28,
   "metadata": {},
   "outputs": [
    {
     "name": "stdout",
     "output_type": "stream",
     "text": [
      "1 2 3 4 5 6 7 8 9 10 \n",
      "2 4 6 8 10 12 14 16 18 20 \n",
      "3 6 9 12 15 18 21 24 27 30 \n",
      "4 8 12 16 20 24 28 32 36 40 \n",
      "5 10 15 20 25 30 35 40 45 50 \n",
      "\n"
     ]
    }
   ],
   "source": [
    "#15\n",
    "table_num = [1, 2, 3, 4, 5]\n",
    "for piece in table_num:\n",
    "    for table in range(1,11):\n",
    "        print(table * piece, end=\" \")\n",
    "    print()\n",
    "print()\n"
   ]
  },
  {
   "cell_type": "code",
   "execution_count": 31,
   "metadata": {},
   "outputs": [
    {
     "name": "stdout",
     "output_type": "stream",
     "text": [
      "120\n"
     ]
    }
   ],
   "source": [
    "#16\n",
    "num = int(input(\"Enter a number\"))\n",
    "f = 1\n",
    "for fact in range(1, num+1):\n",
    "    f = f * fact\n",
    "print(f)"
   ]
  },
  {
   "cell_type": "code",
   "execution_count": 32,
   "metadata": {},
   "outputs": [
    {
     "name": "stdout",
     "output_type": "stream",
     "text": [
      "The number of vowels are: 5\n"
     ]
    }
   ],
   "source": [
    "#17\n",
    "str = input(\"Enter a sentence: \")\n",
    "str = str.lower()\n",
    "vowel = 0\n",
    "for alpha in str:\n",
    "    if alpha == 'a' or alpha == 'e' or alpha == 'i' or alpha == 'o' or alpha == 'u':\n",
    "        vowel = vowel + 1\n",
    "print(f'The number of vowels are: {vowel}')"
   ]
  },
  {
   "cell_type": "code",
   "execution_count": 38,
   "metadata": {},
   "outputs": [
    {
     "name": "stdout",
     "output_type": "stream",
     "text": [
      "The largest element of the array is: 100\n",
      "The smallest element of the array is: 1\n"
     ]
    }
   ],
   "source": [
    "#18\n",
    "arr = [16, 27, 38, 45, 90, 100, 1, 35, 67, 98]\n",
    "max = arr[0]\n",
    "min = arr[0]\n",
    "for el in arr:\n",
    "    if el > max:\n",
    "        max = el\n",
    "    if el < min:\n",
    "        min = el\n",
    "print(f'The largest element of the array is: {max}')\n",
    "print(f'The smallest element of the array is: {min}')"
   ]
  },
  {
   "cell_type": "code",
   "execution_count": 44,
   "metadata": {},
   "outputs": [
    {
     "name": "stdout",
     "output_type": "stream",
     "text": [
      "you are how hello \n"
     ]
    }
   ],
   "source": [
    "#19\n",
    "sen = input('Enter a sentence: ')\n",
    "sen = sen + ' '\n",
    "word = ''\n",
    "new_sen = ''\n",
    "for alphabet in sen:\n",
    "    if alphabet != ' ':\n",
    "        word = word + alphabet\n",
    "    else:\n",
    "        new_sen = word + ' ' + new_sen\n",
    "        word = ''\n",
    "print(new_sen)"
   ]
  },
  {
   "cell_type": "markdown",
   "metadata": {},
   "source": [
    "# Lists"
   ]
  },
  {
   "cell_type": "code",
   "execution_count": 3,
   "metadata": {},
   "outputs": [
    {
     "name": "stdout",
     "output_type": "stream",
     "text": [
      "[45, 56, 54, 23, 12, 7, 8, 9, 10, 49]\n"
     ]
    }
   ],
   "source": [
    "#1\n",
    "list = []\n",
    "for i in range(10):\n",
    "    list.append(int(input('Enter a number: ')))\n",
    "print(list)"
   ]
  },
  {
   "cell_type": "code",
   "execution_count": 6,
   "metadata": {},
   "outputs": [
    {
     "name": "stdout",
     "output_type": "stream",
     "text": [
      "The number is in the list\n"
     ]
    }
   ],
   "source": [
    "#2\n",
    "numbers = [12,34,56,21,38,90,67,76,54,1]\n",
    "c = 0\n",
    "search = int(input('Enter a number: '))\n",
    "for i in numbers:\n",
    "    if search == i:\n",
    "        print('The number is in the list')\n",
    "        c = c + 1\n",
    "if c == 0:\n",
    "    print('The number is not in the list')"
   ]
  },
  {
   "cell_type": "code",
   "execution_count": 15,
   "metadata": {},
   "outputs": [
    {
     "name": "stdout",
     "output_type": "stream",
     "text": [
      "['ayush', 'mansi', 'om', 'omi', 'shreya']\n"
     ]
    }
   ],
   "source": [
    "#3\n",
    "names = ['ayush','shreya','mansi','omi','om']\n",
    "names.sort()\n",
    "print(names)"
   ]
  },
  {
   "cell_type": "code",
   "execution_count": 1,
   "metadata": {},
   "outputs": [
    {
     "name": "stdout",
     "output_type": "stream",
     "text": [
      "100\n"
     ]
    }
   ],
   "source": [
    "#4\n",
    "num = [12,34,56,65,40,100,2,5,67,10]\n",
    "num.sort()\n",
    "print(num[-1])\n"
   ]
  },
  {
   "cell_type": "code",
   "execution_count": 1,
   "metadata": {},
   "outputs": [
    {
     "name": "stdout",
     "output_type": "stream",
     "text": [
      "21\n",
      "65\n",
      "90\n",
      "10\n"
     ]
    }
   ],
   "source": [
    "#5\n",
    "list1 = [12,23,34,43,32,21,56,65,90,10]\n",
    "list2 = [10,45,65,78,90,99,37,83,92,21]\n",
    "for el in list1:\n",
    "    for num in list2:\n",
    "        if el == num:\n",
    "            print(el)"
   ]
  },
  {
   "cell_type": "code",
   "execution_count": 9,
   "metadata": {},
   "outputs": [
    {
     "name": "stdout",
     "output_type": "stream",
     "text": [
      "['file1.img', 'file2.img', 'file3.img']\n"
     ]
    }
   ],
   "source": [
    "#6 error\n",
    "filename = ['file1.img', 'file2.img', 'file3.img', 'file4.jpg', 'file5.jpg', 'file6.jpg']\n",
    "f = lambda i: i.endswith('.img')\n",
    "clean_name = list(filter(f,filename))\n",
    "print(clean_name)"
   ]
  },
  {
   "cell_type": "code",
   "execution_count": 1,
   "metadata": {},
   "outputs": [
    {
     "name": "stdout",
     "output_type": "stream",
     "text": [
      "7\n"
     ]
    }
   ],
   "source": [
    "#7\n",
    "nested_list = [[1,2,3],[4,5,6],[7,8,9]]\n",
    "print(nested_list[-1][0])"
   ]
  },
  {
   "cell_type": "code",
   "execution_count": 11,
   "metadata": {},
   "outputs": [
    {
     "name": "stdout",
     "output_type": "stream",
     "text": [
      "[1, 2, 3, 4, 5, 6]\n"
     ]
    }
   ],
   "source": [
    "#8\n",
    "num = [1,2,2,3,4,5,5,5,3,6]\n",
    "num_set = set(num)\n",
    "num_list = list(num_set)\n",
    "print(num_list)"
   ]
  },
  {
   "cell_type": "code",
   "execution_count": 12,
   "metadata": {},
   "outputs": [
    {
     "name": "stdout",
     "output_type": "stream",
     "text": [
      "srishti\n"
     ]
    }
   ],
   "source": [
    "#9\n",
    "name = ['omi','om','shiv','srishti','khushi']\n",
    "long = ''\n",
    "for each in name:\n",
    "    if len(each) > len(long):\n",
    "        long = each\n",
    "print(long)"
   ]
  },
  {
   "cell_type": "code",
   "execution_count": 17,
   "metadata": {},
   "outputs": [
    {
     "name": "stdout",
     "output_type": "stream",
     "text": [
      "184\n"
     ]
    }
   ],
   "source": [
    "#10\n",
    "number = [34,43,5,65,11,90,12,2,46,77]\n",
    "total = 0\n",
    "for every in number:\n",
    "    if every % 2 == 0:\n",
    "        total = total + every\n",
    "print(total)"
   ]
  },
  {
   "cell_type": "code",
   "execution_count": 48,
   "metadata": {},
   "outputs": [
    {
     "name": "stdout",
     "output_type": "stream",
     "text": [
      "[45, 67, 89, 54, 34, 11, 90, 12, 2]\n"
     ]
    }
   ],
   "source": [
    "#11\n",
    "data = [45,67,89,54,42,34,11,90,12,2]\n",
    "item = int(input(\"Enter the position of the number to be removed: \"))\n",
    "data.pop(item)\n",
    "print(data)"
   ]
  },
  {
   "cell_type": "code",
   "execution_count": 21,
   "metadata": {},
   "outputs": [
    {
     "name": "stdout",
     "output_type": "stream",
     "text": [
      "ayushshreyamansiomiom\n"
     ]
    }
   ],
   "source": [
    "#12\n",
    "names = ['ayush','shreya','mansi','omi','om']\n",
    "final_str = ''.join(names)\n",
    "print(final_str)\n"
   ]
  },
  {
   "cell_type": "code",
   "execution_count": 3,
   "metadata": {},
   "outputs": [
    {
     "name": "stdout",
     "output_type": "stream",
     "text": [
      "34\n"
     ]
    }
   ],
   "source": [
    "#13\n",
    "data = [45,67,89,54,42,34,11,90,12,2]\n",
    "if len(data) % 2 == 0:\n",
    "    median = (len(data)+1)//2\n",
    "else:\n",
    "    median = (len(data)//2)+((len(data)//2)+1)\n",
    "print(data[median])"
   ]
  },
  {
   "cell_type": "code",
   "execution_count": 38,
   "metadata": {},
   "outputs": [
    {
     "name": "stdout",
     "output_type": "stream",
     "text": [
      "['om', 'omi', 'mansi', 'shreya', 'ayush']\n"
     ]
    }
   ],
   "source": [
    "#14\n",
    "names.reverse()\n",
    "print(names)"
   ]
  },
  {
   "cell_type": "code",
   "execution_count": 4,
   "metadata": {},
   "outputs": [
    {
     "name": "stdout",
     "output_type": "stream",
     "text": [
      "44.6\n"
     ]
    }
   ],
   "source": [
    "#15\n",
    "list_num = [12,23,45,67,85,66,42,23,45,14]\n",
    "for value in list_num:\n",
    "    avg = sum(data) / len(data)\n",
    "print(avg)"
   ]
  },
  {
   "cell_type": "code",
   "execution_count": 7,
   "metadata": {},
   "outputs": [
    {
     "name": "stdout",
     "output_type": "stream",
     "text": [
      "3\n"
     ]
    }
   ],
   "source": [
    "#16\n",
    "list_num = [12,23,45,67,85,66,42,23,45,14]\n",
    "print(list_num.index(67))"
   ]
  },
  {
   "cell_type": "code",
   "execution_count": 6,
   "metadata": {},
   "outputs": [
    {
     "name": "stdout",
     "output_type": "stream",
     "text": [
      "['ram', 'sita', 'ravaan', 'war of lanka', 'immortals of meluha']\n"
     ]
    }
   ],
   "source": [
    "#17\n",
    "str = [' ram',' sita  ','ravaan','war of lanka ',' immortals of meluha']\n",
    "new_str = []\n",
    "for el in str:\n",
    "    new_str.append(el.strip())\n",
    "print(new_str)"
   ]
  },
  {
   "cell_type": "code",
   "execution_count": 8,
   "metadata": {},
   "outputs": [
    {
     "name": "stdout",
     "output_type": "stream",
     "text": [
      "[85, 67, 66, 45, 45, 42, 23, 23, 14, 12]\n"
     ]
    }
   ],
   "source": [
    "#18\n",
    "list_num.sort(reverse = True)\n",
    "print(list_num)"
   ]
  },
  {
   "cell_type": "code",
   "execution_count": 9,
   "metadata": {},
   "outputs": [
    {
     "name": "stdout",
     "output_type": "stream",
     "text": [
      "[45, 85, 67, 66, 45, 45, 42, 23, 23, 14, 12]\n"
     ]
    }
   ],
   "source": [
    "#19\n",
    "num = int(input(\"Enter a number: \"))\n",
    "list_num.insert(0,num)\n",
    "print(list_num)\n"
   ]
  },
  {
   "cell_type": "code",
   "execution_count": 7,
   "metadata": {},
   "outputs": [
    {
     "name": "stdout",
     "output_type": "stream",
     "text": [
      "[12, 23, 34, 43, 32, 21, 56, 65, 90, 10, 10, 45, 65, 78, 90, 99, 37, 83, 92, 21]\n"
     ]
    }
   ],
   "source": [
    "#20\n",
    "list1 = [12,23,34,43,32,21,56,65,90,10]\n",
    "list2 = [10,45,65,78,90,99,37,83,92,21]\n",
    "list1.extend(list2)\n",
    "print(list1)"
   ]
  },
  {
   "cell_type": "code",
   "execution_count": 13,
   "metadata": {},
   "outputs": [
    {
     "ename": "IndexError",
     "evalue": "list assignment index out of range",
     "output_type": "error",
     "traceback": [
      "\u001b[1;31m---------------------------------------------------------------------------\u001b[0m",
      "\u001b[1;31mIndexError\u001b[0m                                Traceback (most recent call last)",
      "Cell \u001b[1;32mIn[13], line 2\u001b[0m\n\u001b[0;32m      1\u001b[0m \u001b[38;5;66;03m#21\u001b[39;00m\n\u001b[1;32m----> 2\u001b[0m numlist[\u001b[38;5;241m10\u001b[39m] \u001b[38;5;241m=\u001b[39m \u001b[38;5;28mint\u001b[39m(\u001b[38;5;28minput\u001b[39m(\u001b[38;5;124m'\u001b[39m\u001b[38;5;124mEnter a number: \u001b[39m\u001b[38;5;124m'\u001b[39m))\n\u001b[0;32m      3\u001b[0m newlist \u001b[38;5;241m=\u001b[39m \u001b[38;5;28mlist\u001b[39m(\u001b[38;5;28mmap\u001b[39m(\u001b[38;5;28;01mlambda\u001b[39;00m i: i \u001b[38;5;241m*\u001b[39m\u001b[38;5;241m*\u001b[39m \u001b[38;5;241m2\u001b[39m, numlist))\n\u001b[0;32m      4\u001b[0m \u001b[38;5;28mprint\u001b[39m(newlist)\n",
      "\u001b[1;31mIndexError\u001b[0m: list assignment index out of range"
     ]
    }
   ],
   "source": [
    "#21\n",
    "numlist[10] = int(input('Enter a number: '))\n",
    "newlist = list(map(lambda i: i ** 2, numlist))\n",
    "print(newlist)"
   ]
  },
  {
   "cell_type": "code",
   "execution_count": null,
   "metadata": {},
   "outputs": [],
   "source": [
    "2"
   ]
  }
 ],
 "metadata": {
  "kernelspec": {
   "display_name": "base",
   "language": "python",
   "name": "python3"
  },
  "language_info": {
   "codemirror_mode": {
    "name": "ipython",
    "version": 3
   },
   "file_extension": ".py",
   "mimetype": "text/x-python",
   "name": "python",
   "nbconvert_exporter": "python",
   "pygments_lexer": "ipython3",
   "version": "3.12.3"
  }
 },
 "nbformat": 4,
 "nbformat_minor": 2
}
