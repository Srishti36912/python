{
 "cells": [
  {
   "cell_type": "markdown",
   "metadata": {},
   "source": [
    "# Strings\n",
    "- 1-10 done in strings file\n",
    "- 23-25 also done in strings file"
   ]
  },
  {
   "cell_type": "code",
   "execution_count": 1,
   "metadata": {},
   "outputs": [
    {
     "name": "stdout",
     "output_type": "stream",
     "text": [
      "The variable is 15\n"
     ]
    }
   ],
   "source": [
    "# 11\n",
    "a = 15\n",
    "print(f'The variable is {a}')"
   ]
  },
  {
   "cell_type": "code",
   "execution_count": 2,
   "metadata": {},
   "outputs": [
    {
     "name": "stdout",
     "output_type": "stream",
     "text": [
      "python is great.\n"
     ]
    }
   ],
   "source": [
    "# 12\n",
    "s1 = 'python '\n",
    "s2 = 'is '\n",
    "s3 = 'great.'\n",
    "mainstr = s1 + s2 + s3\n",
    "print(mainstr)"
   ]
  },
  {
   "cell_type": "code",
   "execution_count": 3,
   "metadata": {},
   "outputs": [
    {
     "name": "stdout",
     "output_type": "stream",
     "text": [
      "################### \n"
     ]
    }
   ],
   "source": [
    "#13\n",
    "print(\" \".rjust(20,'#'))"
   ]
  },
  {
   "cell_type": "code",
   "execution_count": 4,
   "metadata": {},
   "outputs": [
    {
     "name": "stdout",
     "output_type": "stream",
     "text": [
      "1.\n",
      "2.\n",
      "3.\n",
      "4.\n",
      "5.\n",
      "6.\n",
      "7.\n",
      "8.\n",
      "9.\n",
      "\n"
     ]
    }
   ],
   "source": [
    "#14\n",
    "for num in range(1, 10):\n",
    "    print(f'{num}.')\n",
    "print()"
   ]
  },
  {
   "cell_type": "code",
   "execution_count": 5,
   "metadata": {},
   "outputs": [],
   "source": [
    "#15\n",
    "sen = input(\"Enter a sentence: \")\n",
    "word = sen.split()\n",
    "print(\"\\n\".join(word))"
   ]
  },
  {
   "cell_type": "code",
   "execution_count": 23,
   "metadata": {},
   "outputs": [
    {
     "data": {
      "text/plain": [
       "True"
      ]
     },
     "execution_count": 23,
     "metadata": {},
     "output_type": "execute_result"
    }
   ],
   "source": [
    "#16\n",
    "str = input('Enter a sentence: ')\n",
    "str.endswith('?')\n"
   ]
  },
  {
   "cell_type": "code",
   "execution_count": 21,
   "metadata": {},
   "outputs": [
    {
     "name": "stdout",
     "output_type": "stream",
     "text": [
      "2\n"
     ]
    }
   ],
   "source": [
    "#17\n",
    "line = input(\"Enter a line: \")\n",
    "print(line.count('e'))"
   ]
  },
  {
   "cell_type": "code",
   "execution_count": 22,
   "metadata": {},
   "outputs": [
    {
     "data": {
      "text/plain": [
       "True"
      ]
     },
     "execution_count": 22,
     "metadata": {},
     "output_type": "execute_result"
    }
   ],
   "source": [
    "#18\n",
    "num = input(\"Enter something: \")\n",
    "num.isdigit()"
   ]
  },
  {
   "cell_type": "code",
   "execution_count": 24,
   "metadata": {},
   "outputs": [
    {
     "data": {
      "text/plain": [
       "'this is not a good string'"
      ]
     },
     "execution_count": 24,
     "metadata": {},
     "output_type": "execute_result"
    }
   ],
   "source": [
    "#19\n",
    "text = '   this is not a good string           '\n",
    "text.strip()\n"
   ]
  },
  {
   "cell_type": "code",
   "execution_count": 27,
   "metadata": {},
   "outputs": [
    {
     "name": "stdout",
     "output_type": "stream",
     "text": [
      "found\n"
     ]
    }
   ],
   "source": [
    "#20\n",
    "data = input(\"Enter a string: \")\n",
    "for capital in data:\n",
    "    if capital.isupper():\n",
    "        print(\"found\")\n",
    "        break"
   ]
  },
  {
   "cell_type": "code",
   "execution_count": 28,
   "metadata": {},
   "outputs": [
    {
     "data": {
      "text/plain": [
       "['Joe,', 'David,', 'Mark,', 'Tom,', 'Chris,', 'Robert']"
      ]
     },
     "execution_count": 28,
     "metadata": {},
     "output_type": "execute_result"
    }
   ],
   "source": [
    "#21\n",
    "names = 'Joe, David, Mark, Tom, Chris, Robert'\n",
    "names.split()"
   ]
  },
  {
   "cell_type": "code",
   "execution_count": 1,
   "metadata": {},
   "outputs": [
    {
     "name": "stdout",
     "output_type": "stream",
     "text": [
      "thisaye\n",
      "isaye\n",
      "someaye\n",
      "textaye\n"
     ]
    }
   ],
   "source": [
    "#22\n",
    "text = 'this is some text'\n",
    "real = text.split()\n",
    "for i in real:\n",
    "    newtext = i + 'aye'\n",
    "    print(newtext)\n"
   ]
  },
  {
   "cell_type": "markdown",
   "metadata": {},
   "source": [
    "# Loops"
   ]
  },
  {
   "cell_type": "code",
   "execution_count": 33,
   "metadata": {},
   "outputs": [
    {
     "name": "stdout",
     "output_type": "stream",
     "text": [
      "1\n",
      "2\n",
      "3\n",
      "4\n",
      "5\n",
      "6\n",
      "7\n",
      "8\n",
      "9\n",
      "10\n"
     ]
    }
   ],
   "source": [
    "#1\n",
    "for num in range(1, 11):\n",
    "    print(num)"
   ]
  },
  {
   "cell_type": "code",
   "execution_count": 36,
   "metadata": {},
   "outputs": [
    {
     "name": "stdout",
     "output_type": "stream",
     "text": [
      "15 * 1 = 15\n",
      "15 * 2 = 30\n",
      "15 * 3 = 45\n",
      "15 * 4 = 60\n",
      "15 * 5 = 75\n",
      "15 * 6 = 90\n",
      "15 * 7 = 105\n",
      "15 * 8 = 120\n",
      "15 * 9 = 135\n",
      "15 * 10 = 150\n"
     ]
    }
   ],
   "source": [
    "#2\n",
    "n = 15\n",
    "a = 1\n",
    "while(a<11):\n",
    "    print(f'{n} * {a} = {n*a}')\n",
    "    a = a+1"
   ]
  },
  {
   "cell_type": "code",
   "execution_count": 42,
   "metadata": {},
   "outputs": [
    {
     "name": "stdout",
     "output_type": "stream",
     "text": [
      "2550\n"
     ]
    }
   ],
   "source": [
    "#3\n",
    "s = 0\n",
    "for even in range(0,101,2):\n",
    "    s = s + even\n",
    "print(s)"
   ]
  },
  {
   "cell_type": "code",
   "execution_count": 51,
   "metadata": {},
   "outputs": [
    {
     "name": "stdout",
     "output_type": "stream",
     "text": [
      "Not Prime\n"
     ]
    }
   ],
   "source": [
    "#4\n",
    "num = 25\n",
    "i = 25 \n",
    "c = 0\n",
    "while i > 0:\n",
    "    if num % i == 0:\n",
    "        c = c + 1 \n",
    "    i = i - 1\n",
    "if c > 2:\n",
    "    print('Not Prime')\n",
    "else:\n",
    "    print('Prime')"
   ]
  },
  {
   "cell_type": "code",
   "execution_count": 55,
   "metadata": {},
   "outputs": [
    {
     "name": "stdout",
     "output_type": "stream",
     "text": [
      "120\n"
     ]
    }
   ],
   "source": [
    "#5\n",
    "f = 1 \n",
    "for fact in range(1,6):\n",
    "    f = f * fact\n",
    "print(f)"
   ]
  },
  {
   "cell_type": "code",
   "execution_count": 59,
   "metadata": {},
   "outputs": [
    {
     "name": "stdout",
     "output_type": "stream",
     "text": [
      "0\n",
      "1\n",
      "1\n",
      "2\n",
      "3\n",
      "5\n",
      "8\n",
      "13\n",
      "21\n",
      "34\n",
      "55\n"
     ]
    }
   ],
   "source": [
    "#6\n",
    "a = 0\n",
    "b = 1\n",
    "print(a)\n",
    "print(b)\n",
    "for i in range(2,11):\n",
    "    c = a + b \n",
    "    a = b\n",
    "    b = c \n",
    "    print(c)\n",
    "\n"
   ]
  },
  {
   "cell_type": "code",
   "execution_count": 61,
   "metadata": {},
   "outputs": [
    {
     "name": "stdout",
     "output_type": "stream",
     "text": [
      "134\n"
     ]
    }
   ],
   "source": [
    "#7\n",
    "max = 0\n",
    "list = [12, 23, 134, 56, 67, 78, 90, 108]\n",
    "for el in list:\n",
    "    if el > max:\n",
    "        max = el\n",
    "print(max)"
   ]
  },
  {
   "cell_type": "code",
   "execution_count": 67,
   "metadata": {},
   "outputs": [
    {
     "name": "stdout",
     "output_type": "stream",
     "text": [
      "olleH\n"
     ]
    }
   ],
   "source": [
    "#8\n",
    "str = \"Hello\"\n",
    "rev = ''\n",
    "length = len(str)\n",
    "while length > 0:\n",
    "    rev = rev + str[length -1]\n",
    "    length = length - 1\n",
    "print(rev)"
   ]
  },
  {
   "cell_type": "code",
   "execution_count": 73,
   "metadata": {},
   "outputs": [
    {
     "name": "stdout",
     "output_type": "stream",
     "text": [
      "65\n",
      "66\n",
      "67\n",
      "68\n",
      "69\n",
      "70\n",
      "71\n",
      "72\n",
      "73\n",
      "74\n",
      "75\n",
      "76\n",
      "77\n",
      "78\n",
      "79\n",
      "80\n",
      "81\n",
      "82\n",
      "83\n",
      "84\n",
      "85\n",
      "86\n",
      "87\n",
      "88\n",
      "89\n",
      "90\n"
     ]
    }
   ],
   "source": [
    "#9\n",
    "from string import ascii_uppercase\n",
    "for alpha in ascii_uppercase:\n",
    "    value = ord(alpha)\n",
    "    print(value)"
   ]
  },
  {
   "cell_type": "code",
   "execution_count": 84,
   "metadata": {},
   "outputs": [
    {
     "name": "stdout",
     "output_type": "stream",
     "text": [
      "Palindrome\n"
     ]
    }
   ],
   "source": [
    "#10\n",
    "str = 'wow'\n",
    "palin = ''\n",
    "length = len(str)\n",
    "for word in str:\n",
    "    palin = word + palin\n",
    "if(palin == str):\n",
    "    print(\"Palindrome\")\n",
    "else:\n",
    "    print('Non-palindrome')\n"
   ]
  },
  {
   "cell_type": "code",
   "execution_count": 10,
   "metadata": {},
   "outputs": [
    {
     "name": "stdout",
     "output_type": "stream",
     "text": [
      "the average of the list is: 5.50\n"
     ]
    }
   ],
   "source": [
    "#11\n",
    "list_num = [1, 2, 3, 4, 5, 6, 7, 8, 9, 10]\n",
    "total = 0\n",
    "c = 0\n",
    "avg = 0\n",
    "for el in list_num:\n",
    "    total = total + el\n",
    "    c = c + 1\n",
    "avg = total / c\n",
    "print(f'the average of the list is: {avg:.2f}')"
   ]
  },
  {
   "cell_type": "code",
   "execution_count": 19,
   "metadata": {},
   "outputs": [
    {
     "name": "stdout",
     "output_type": "stream",
     "text": [
      "The smallest element is: 2\n"
     ]
    }
   ],
   "source": [
    "#12\n",
    "list_numbers = [12, 34, 56, 78, 90, 23, 45, 9, 2, 100]\n",
    "length = len(list_numbers)\n",
    "count = 1\n",
    "small = list_numbers[0]\n",
    "while count != length:\n",
    "    if list_numbers[count] < small:\n",
    "        small = list_numbers[count]\n",
    "    count = count + 1\n",
    "print(f'The smallest element is: {small}')"
   ]
  },
  {
   "cell_type": "code",
   "execution_count": 4,
   "metadata": {},
   "outputs": [
    {
     "name": "stdout",
     "output_type": "stream",
     "text": [
      "15\n"
     ]
    }
   ],
   "source": [
    "#13\n",
    "number = input('Enter a number: ')\n",
    "s = 0\n",
    "for digit in number:\n",
    "    s = s + int (digit)\n",
    "print(s)\n"
   ]
  },
  {
   "cell_type": "code",
   "execution_count": 23,
   "metadata": {},
   "outputs": [
    {
     "name": "stdout",
     "output_type": "stream",
     "text": [
      "The list have a leap year in it\n"
     ]
    }
   ],
   "source": [
    "#14\n",
    "data = list(range(2001, 2011))\n",
    "size = len(data)\n",
    "part = 0\n",
    "c = 0\n",
    "while  part != size:\n",
    "    if data[part] % 4 == 0:\n",
    "        c = c + 1\n",
    "        break\n",
    "    else:\n",
    "        part = part + 1\n",
    "if c > 0:\n",
    "    print('The list have a leap year in it')\n",
    "else:\n",
    "    print('The list does not have a leap year in it')\n",
    "\n"
   ]
  },
  {
   "cell_type": "code",
   "execution_count": 28,
   "metadata": {},
   "outputs": [
    {
     "name": "stdout",
     "output_type": "stream",
     "text": [
      "1 2 3 4 5 6 7 8 9 10 \n",
      "2 4 6 8 10 12 14 16 18 20 \n",
      "3 6 9 12 15 18 21 24 27 30 \n",
      "4 8 12 16 20 24 28 32 36 40 \n",
      "5 10 15 20 25 30 35 40 45 50 \n",
      "\n"
     ]
    }
   ],
   "source": [
    "#15\n",
    "table_num = [1, 2, 3, 4, 5]\n",
    "for piece in table_num:\n",
    "    for table in range(1,11):\n",
    "        print(table * piece, end=\" \")\n",
    "    print()\n",
    "print()\n"
   ]
  },
  {
   "cell_type": "code",
   "execution_count": 31,
   "metadata": {},
   "outputs": [
    {
     "name": "stdout",
     "output_type": "stream",
     "text": [
      "120\n"
     ]
    }
   ],
   "source": [
    "#16\n",
    "num = int(input(\"Enter a number\"))\n",
    "f = 1\n",
    "for fact in range(1, num+1):\n",
    "    f = f * fact\n",
    "print(f)"
   ]
  },
  {
   "cell_type": "code",
   "execution_count": 32,
   "metadata": {},
   "outputs": [
    {
     "name": "stdout",
     "output_type": "stream",
     "text": [
      "The number of vowels are: 5\n"
     ]
    }
   ],
   "source": [
    "#17\n",
    "str = input(\"Enter a sentence: \")\n",
    "str = str.lower()\n",
    "vowel = 0\n",
    "for alpha in str:\n",
    "    if alpha == 'a' or alpha == 'e' or alpha == 'i' or alpha == 'o' or alpha == 'u':\n",
    "        vowel = vowel + 1\n",
    "print(f'The number of vowels are: {vowel}')"
   ]
  },
  {
   "cell_type": "code",
   "execution_count": 38,
   "metadata": {},
   "outputs": [
    {
     "name": "stdout",
     "output_type": "stream",
     "text": [
      "The largest element of the array is: 100\n",
      "The smallest element of the array is: 1\n"
     ]
    }
   ],
   "source": [
    "#18\n",
    "arr = [16, 27, 38, 45, 90, 100, 1, 35, 67, 98]\n",
    "max = arr[0]\n",
    "min = arr[0]\n",
    "for el in arr:\n",
    "    if el > max:\n",
    "        max = el\n",
    "    if el < min:\n",
    "        min = el\n",
    "print(f'The largest element of the array is: {max}')\n",
    "print(f'The smallest element of the array is: {min}')"
   ]
  },
  {
   "cell_type": "code",
   "execution_count": 44,
   "metadata": {},
   "outputs": [
    {
     "name": "stdout",
     "output_type": "stream",
     "text": [
      "you are how hello \n"
     ]
    }
   ],
   "source": [
    "#19\n",
    "sen = input('Enter a sentence: ')\n",
    "sen = sen + ' '\n",
    "word = ''\n",
    "new_sen = ''\n",
    "for alphabet in sen:\n",
    "    if alphabet != ' ':\n",
    "        word = word + alphabet\n",
    "    else:\n",
    "        new_sen = word + ' ' + new_sen\n",
    "        word = ''\n",
    "print(new_sen)"
   ]
  },
  {
   "cell_type": "markdown",
   "metadata": {},
   "source": [
    "# Lists"
   ]
  },
  {
   "cell_type": "code",
   "execution_count": 3,
   "metadata": {},
   "outputs": [
    {
     "name": "stdout",
     "output_type": "stream",
     "text": [
      "[45, 56, 54, 23, 12, 7, 8, 9, 10, 49]\n"
     ]
    }
   ],
   "source": [
    "#1\n",
    "list = []\n",
    "for i in range(10):\n",
    "    list.append(int(input('Enter a number: ')))\n",
    "print(list)"
   ]
  },
  {
   "cell_type": "code",
   "execution_count": 6,
   "metadata": {},
   "outputs": [
    {
     "name": "stdout",
     "output_type": "stream",
     "text": [
      "The number is in the list\n"
     ]
    }
   ],
   "source": [
    "#2\n",
    "numbers = [12,34,56,21,38,90,67,76,54,1]\n",
    "c = 0\n",
    "search = int(input('Enter a number: '))\n",
    "for i in numbers:\n",
    "    if search == i:\n",
    "        print('The number is in the list')\n",
    "        c = c + 1\n",
    "if c == 0:\n",
    "    print('The number is not in the list')"
   ]
  },
  {
   "cell_type": "code",
   "execution_count": 15,
   "metadata": {},
   "outputs": [
    {
     "name": "stdout",
     "output_type": "stream",
     "text": [
      "['ayush', 'mansi', 'om', 'omi', 'shreya']\n"
     ]
    }
   ],
   "source": [
    "#3\n",
    "names = ['ayush','shreya','mansi','omi','om']\n",
    "names.sort()\n",
    "print(names)"
   ]
  },
  {
   "cell_type": "code",
   "execution_count": 1,
   "metadata": {},
   "outputs": [
    {
     "name": "stdout",
     "output_type": "stream",
     "text": [
      "100\n"
     ]
    }
   ],
   "source": [
    "#4\n",
    "num = [12,34,56,65,40,100,2,5,67,10]\n",
    "num.sort()\n",
    "print(num[-1])\n"
   ]
  },
  {
   "cell_type": "code",
   "execution_count": 1,
   "metadata": {},
   "outputs": [
    {
     "name": "stdout",
     "output_type": "stream",
     "text": [
      "21\n",
      "65\n",
      "90\n",
      "10\n"
     ]
    }
   ],
   "source": [
    "#5\n",
    "list1 = [12,23,34,43,32,21,56,65,90,10]\n",
    "list2 = [10,45,65,78,90,99,37,83,92,21]\n",
    "for el in list1:\n",
    "    for num in list2:\n",
    "        if el == num:\n",
    "            print(el)"
   ]
  },
  {
   "cell_type": "code",
   "execution_count": 9,
   "metadata": {},
   "outputs": [
    {
     "name": "stdout",
     "output_type": "stream",
     "text": [
      "['file4.jpg', 'file5.jpg', 'file6.jpg']\n"
     ]
    }
   ],
   "source": [
    "#6\n",
    "filename = ['file1.img', 'file2.img', 'file3.img', 'file4.jpg', 'file5.jpg', 'file6.jpg']\n",
    "clean_file = list(filter(lambda i: not i.endswith('.img'),filename))\n",
    "print(clean_file)"
   ]
  },
  {
   "cell_type": "code",
   "execution_count": 1,
   "metadata": {},
   "outputs": [
    {
     "name": "stdout",
     "output_type": "stream",
     "text": [
      "7\n"
     ]
    }
   ],
   "source": [
    "#7\n",
    "nested_list = [[1,2,3],[4,5,6],[7,8,9]]\n",
    "print(nested_list[-1][0])"
   ]
  },
  {
   "cell_type": "code",
   "execution_count": 11,
   "metadata": {},
   "outputs": [
    {
     "name": "stdout",
     "output_type": "stream",
     "text": [
      "[1, 2, 3, 4, 5, 6]\n"
     ]
    }
   ],
   "source": [
    "#8\n",
    "num = [1,2,2,3,4,5,5,5,3,6]\n",
    "num_set = set(num)\n",
    "num_list = list(num_set)\n",
    "print(num_list)"
   ]
  },
  {
   "cell_type": "code",
   "execution_count": 12,
   "metadata": {},
   "outputs": [
    {
     "name": "stdout",
     "output_type": "stream",
     "text": [
      "srishti\n"
     ]
    }
   ],
   "source": [
    "#9\n",
    "name = ['omi','om','shiv','srishti','khushi']\n",
    "long = ''\n",
    "for each in name:\n",
    "    if len(each) > len(long):\n",
    "        long = each\n",
    "print(long)"
   ]
  },
  {
   "cell_type": "code",
   "execution_count": 17,
   "metadata": {},
   "outputs": [
    {
     "name": "stdout",
     "output_type": "stream",
     "text": [
      "184\n"
     ]
    }
   ],
   "source": [
    "#10\n",
    "number = [34,43,5,65,11,90,12,2,46,77]\n",
    "total = 0\n",
    "for every in number:\n",
    "    if every % 2 == 0:\n",
    "        total = total + every\n",
    "print(total)"
   ]
  },
  {
   "cell_type": "code",
   "execution_count": 48,
   "metadata": {},
   "outputs": [
    {
     "name": "stdout",
     "output_type": "stream",
     "text": [
      "[45, 67, 89, 54, 34, 11, 90, 12, 2]\n"
     ]
    }
   ],
   "source": [
    "#11\n",
    "data = [45,67,89,54,42,34,11,90,12,2]\n",
    "item = int(input(\"Enter the position of the number to be removed: \"))\n",
    "data.pop(item)\n",
    "print(data)"
   ]
  },
  {
   "cell_type": "code",
   "execution_count": 21,
   "metadata": {},
   "outputs": [
    {
     "name": "stdout",
     "output_type": "stream",
     "text": [
      "ayushshreyamansiomiom\n"
     ]
    }
   ],
   "source": [
    "#12\n",
    "names = ['ayush','shreya','mansi','omi','om']\n",
    "final_str = ''.join(names)\n",
    "print(final_str)\n"
   ]
  },
  {
   "cell_type": "code",
   "execution_count": 3,
   "metadata": {},
   "outputs": [
    {
     "name": "stdout",
     "output_type": "stream",
     "text": [
      "34\n"
     ]
    }
   ],
   "source": [
    "#13\n",
    "data = [45,67,89,54,42,34,11,90,12,2]\n",
    "if len(data) % 2 == 0:\n",
    "    median = (len(data)+1)//2\n",
    "else:\n",
    "    median = (len(data)//2)+((len(data)//2)+1)\n",
    "print(data[median])"
   ]
  },
  {
   "cell_type": "code",
   "execution_count": 38,
   "metadata": {},
   "outputs": [
    {
     "name": "stdout",
     "output_type": "stream",
     "text": [
      "['om', 'omi', 'mansi', 'shreya', 'ayush']\n"
     ]
    }
   ],
   "source": [
    "#14\n",
    "names.reverse()\n",
    "print(names)"
   ]
  },
  {
   "cell_type": "code",
   "execution_count": 4,
   "metadata": {},
   "outputs": [
    {
     "name": "stdout",
     "output_type": "stream",
     "text": [
      "44.6\n"
     ]
    }
   ],
   "source": [
    "#15\n",
    "list_num = [12,23,45,67,85,66,42,23,45,14]\n",
    "for value in list_num:\n",
    "    avg = sum(data) / len(data)\n",
    "print(avg)"
   ]
  },
  {
   "cell_type": "code",
   "execution_count": 2,
   "metadata": {},
   "outputs": [
    {
     "name": "stdout",
     "output_type": "stream",
     "text": [
      "3\n"
     ]
    }
   ],
   "source": [
    "#16\n",
    "list_num = [12,23,45,67,85,66,42,23,45,14]\n",
    "print(list_num.index(67))"
   ]
  },
  {
   "cell_type": "code",
   "execution_count": 7,
   "metadata": {},
   "outputs": [
    {
     "name": "stdout",
     "output_type": "stream",
     "text": [
      "['ram', 'sita', 'ravaan', 'war of lanka', 'immortals of meluha']\n"
     ]
    }
   ],
   "source": [
    "#17\n",
    "str = [' ram',' sita  ','ravaan','war of lanka ',' immortals of meluha']\n",
    "new_str = []\n",
    "for el in str:\n",
    "    new_str.append(el.strip())\n",
    "print(new_str)"
   ]
  },
  {
   "cell_type": "code",
   "execution_count": 8,
   "metadata": {},
   "outputs": [
    {
     "name": "stdout",
     "output_type": "stream",
     "text": [
      "[85, 67, 66, 45, 45, 42, 23, 23, 14, 12]\n"
     ]
    }
   ],
   "source": [
    "#18\n",
    "list_num.sort(reverse = True)\n",
    "print(list_num)"
   ]
  },
  {
   "cell_type": "code",
   "execution_count": 9,
   "metadata": {},
   "outputs": [
    {
     "name": "stdout",
     "output_type": "stream",
     "text": [
      "[45, 85, 67, 66, 45, 45, 42, 23, 23, 14, 12]\n"
     ]
    }
   ],
   "source": [
    "#19\n",
    "num = int(input(\"Enter a number: \"))\n",
    "list_num.insert(0,num)\n",
    "print(list_num)\n"
   ]
  },
  {
   "cell_type": "code",
   "execution_count": 7,
   "metadata": {},
   "outputs": [
    {
     "name": "stdout",
     "output_type": "stream",
     "text": [
      "[12, 23, 34, 43, 32, 21, 56, 65, 90, 10, 10, 45, 65, 78, 90, 99, 37, 83, 92, 21]\n"
     ]
    }
   ],
   "source": [
    "#20\n",
    "list1 = [12,23,34,43,32,21,56,65,90,10]\n",
    "list2 = [10,45,65,78,90,99,37,83,92,21]\n",
    "list1.extend(list2)\n",
    "print(list1)"
   ]
  },
  {
   "cell_type": "code",
   "execution_count": 6,
   "metadata": {},
   "outputs": [
    {
     "name": "stdout",
     "output_type": "stream",
     "text": [
      "[144, 529, 1156, 484, 5929, 7921, 8100, 5776, 16, 11881]\n"
     ]
    }
   ],
   "source": [
    "#21\n",
    "numlist = [] \n",
    "for i in range(10):\n",
    "    num = int(input('Enter a number: '))\n",
    "    numlist.append(num)\n",
    "newlist = list(map(lambda i: i ** 2, numlist))\n",
    "print(newlist)"
   ]
  },
  {
   "cell_type": "code",
   "execution_count": 1,
   "metadata": {},
   "outputs": [
    {
     "name": "stdout",
     "output_type": "stream",
     "text": [
      "['12', '23', '45', '67', '85', '66', '42', '23', '45', '14']\n"
     ]
    }
   ],
   "source": [
    "#22\n",
    "list_num = [12,23,45,67,85,66,42,23,45,14]\n",
    "new_list = list(map(lambda i: str(i), list_num))\n",
    "print(new_list)"
   ]
  },
  {
   "cell_type": "code",
   "execution_count": 5,
   "metadata": {},
   "outputs": [
    {
     "name": "stdout",
     "output_type": "stream",
     "text": [
      "[22, 33, 55, 77, 95, 76, 52, 33, 55, 24]\n"
     ]
    }
   ],
   "source": [
    "#23\n",
    "list_num = [12,23,45,67,85,66,42,23,45,14]\n",
    "add_list = list(map(lambda i: i + 10, list_num))\n",
    "print(add_list)"
   ]
  },
  {
   "cell_type": "code",
   "execution_count": 1,
   "metadata": {},
   "outputs": [
    {
     "name": "stdout",
     "output_type": "stream",
     "text": [
      "['l', 'o', 'g', 't', 'i']\n"
     ]
    }
   ],
   "source": [
    "#24\n",
    "str = []\n",
    "for i in range(5):\n",
    "    el = input('Enter series name: ')\n",
    "    str.append(el)\n",
    "new_str = list(map(lambda i: i[0], str))\n",
    "print(new_str)"
   ]
  },
  {
   "cell_type": "code",
   "execution_count": 2,
   "metadata": {},
   "outputs": [
    {
     "name": "stdout",
     "output_type": "stream",
     "text": [
      "[307, 296, 323, 338, 285, 278, 283, 330, 373, 315]\n"
     ]
    }
   ],
   "source": [
    "#25\n",
    "temp = [34, 23, 50, 65, 12, 5, 10, 57, 100, 42]\n",
    "fah = list(map(lambda i: i + 273, temp))\n",
    "print(fah)"
   ]
  },
  {
   "cell_type": "code",
   "execution_count": 8,
   "metadata": {},
   "outputs": [
    {
     "name": "stdout",
     "output_type": "stream",
     "text": [
      "[12, 23, 45, 67, 85, 66, 42, 23, 45, 14]\n"
     ]
    }
   ],
   "source": [
    "#26\n",
    "list_num = ['12','23','45','67','85','66','42','23','45','14']\n",
    "int_list = list(map(lambda i: int(i),list_num))\n",
    "print(int_list)"
   ]
  },
  {
   "cell_type": "code",
   "execution_count": 11,
   "metadata": {},
   "outputs": [
    {
     "name": "stdout",
     "output_type": "stream",
     "text": [
      "[3, 2, 4, 7, 6]\n"
     ]
    }
   ],
   "source": [
    "#27\n",
    "name = ['omi','om','shiv','srishti','khushi']\n",
    "length = list(map(lambda i: len(i), name))\n",
    "print(length)"
   ]
  },
  {
   "cell_type": "code",
   "execution_count": 17,
   "metadata": {},
   "outputs": [
    {
     "name": "stdout",
     "output_type": "stream",
     "text": [
      "[1.0, 2.0, 3.0, 4.0, 5.0]\n"
     ]
    }
   ],
   "source": [
    "#28\n",
    "numberlist = [1,4,9,16,25]\n",
    "sqroot = list(map(lambda i: i ** (1/2), numberlist))\n",
    "print(sqroot)"
   ]
  },
  {
   "cell_type": "code",
   "execution_count": 1,
   "metadata": {},
   "outputs": [
    {
     "name": "stdout",
     "output_type": "stream",
     "text": [
      "[5, 4, 3, 7, 5]\n"
     ]
    }
   ],
   "source": [
    "#29\n",
    "neg_list = [-5,4,-3,-7,5]\n",
    "abs = list(map(lambda i: abs(i),neg_list))\n",
    "print(abs)"
   ]
  },
  {
   "cell_type": "code",
   "execution_count": 25,
   "metadata": {},
   "outputs": [
    {
     "name": "stdout",
     "output_type": "stream",
     "text": [
      "['RAM', 'SITA', 'RAAVAN', 'WAR OF LANKA', 'NOVEMBER 9']\n"
     ]
    }
   ],
   "source": [
    "#30\n",
    "books = []\n",
    "for b in range(5):\n",
    "    book = input('Enter a book name: ')\n",
    "    books.append(book)\n",
    "up = list(map(lambda i: i.upper(), books))\n",
    "print(up)"
   ]
  },
  {
   "cell_type": "code",
   "execution_count": 24,
   "metadata": {},
   "outputs": [
    {
     "name": "stdout",
     "output_type": "stream",
     "text": [
      "[34, 12, 56, 66, 66, 78]\n"
     ]
    }
   ],
   "source": [
    "#31\n",
    "user = []\n",
    "for i in range(10):\n",
    "    each = int(input('Enter a number: '))\n",
    "    user.append(each)\n",
    "even = list(filter(lambda i: i%2==0, user))\n",
    "print(even)"
   ]
  },
  {
   "cell_type": "code",
   "execution_count": 7,
   "metadata": {},
   "outputs": [
    {
     "name": "stdout",
     "output_type": "stream",
     "text": [
      "['apple', 'elderberry', 'orange']\n"
     ]
    }
   ],
   "source": [
    "#32\n",
    "fruits = []\n",
    "for i in range(5):\n",
    "    el = input('Enter a fruit name: ')\n",
    "    fruits.append(el.lower())\n",
    "f = lambda i: i.startswith('a') or i.startswith('e') or i.startswith('i') or i.startswith('o') or i.startswith('u') \n",
    "vow_start = list(filter(f,fruits))\n",
    "print(vow_start)"
   ]
  },
  {
   "cell_type": "code",
   "execution_count": 13,
   "metadata": {},
   "outputs": [
    {
     "name": "stdout",
     "output_type": "stream",
     "text": [
      "['lucknow', 'jodhpur', 'kanpur']\n"
     ]
    }
   ],
   "source": [
    "#33\n",
    "places = []\n",
    "for p in range(5):\n",
    "    city = input('Enter a city: ')\n",
    "    places.append(city)\n",
    "new_places = list(filter(lambda i: len(i)>5, places))\n",
    "print(new_places)"
   ]
  },
  {
   "cell_type": "code",
   "execution_count": 12,
   "metadata": {},
   "outputs": [
    {
     "name": "stdout",
     "output_type": "stream",
     "text": [
      "[12, 34, 0, 54, 4, 1]\n"
     ]
    }
   ],
   "source": [
    "#34\n",
    "num = []\n",
    "for i in range(10):\n",
    "    n = int(input('Enter a number: '))\n",
    "    num.append(n)\n",
    "new_num = list(filter(lambda i: i>-1, num))\n",
    "print(new_num)"
   ]
  },
  {
   "cell_type": "code",
   "execution_count": 5,
   "metadata": {},
   "outputs": [
    {
     "name": "stdout",
     "output_type": "stream",
     "text": [
      "['donkey', 'monkey', 'elephant']\n"
     ]
    }
   ],
   "source": [
    "#35\n",
    "animal = []\n",
    "for a in range(5):\n",
    "    ani = input('Enter an animal name: ')\n",
    "    animal.append(ani)\n",
    "new_animal = list(filter(lambda i: i.count('e') > 0, animal))\n",
    "print(new_animal)"
   ]
  },
  {
   "cell_type": "code",
   "execution_count": 6,
   "metadata": {},
   "outputs": [
    {
     "name": "stdout",
     "output_type": "stream",
     "text": [
      "[[1, 4], [2, 5], [3, 6]]\n"
     ]
    }
   ],
   "source": [
    "#36\n",
    "main_list = []\n",
    "list1 = []\n",
    "list2 = []\n",
    "for i in range(3):\n",
    "   a = int(input('Enter a number: '))\n",
    "   list1.append(a)\n",
    "for j in range(3):\n",
    "   b = int(input('Enter a number: '))\n",
    "   list2.append(b)\n",
    "for k in range(3):\n",
    "   ml = [list1[k],list2[k]]\n",
    "   main_list.append(ml)\n",
    "print(main_list)"
   ]
  },
  {
   "cell_type": "code",
   "execution_count": 22,
   "metadata": {},
   "outputs": [
    {
     "name": "stdout",
     "output_type": "stream",
     "text": [
      "[['t', 'o', 'y'], ['c', 'a', 'r'], ['b', 'i', 'k', 'e'], ['p', 'e', 'n'], ['p', 'e', 'n', 'c', 'i', 'l']]\n"
     ]
    }
   ],
   "source": [
    "#37\n",
    "things = []\n",
    "for i in range(5):\n",
    "    el = input('Enter a non-living thing: ')\n",
    "    things.append(list(el))\n",
    "nested_list = list(map(lambda j: list(j), things))\n",
    "print(nested_list)"
   ]
  },
  {
   "cell_type": "code",
   "execution_count": 3,
   "metadata": {},
   "outputs": [
    {
     "name": "stdout",
     "output_type": "stream",
     "text": [
      "[[1, 1], [2, 4], [3, 9], [4, 16], [5, 25]]\n"
     ]
    }
   ],
   "source": [
    "#38\n",
    "num = []\n",
    "for i in range(5):\n",
    "    n = int(input('Enter a number: '))\n",
    "    num.append(n)\n",
    "sq = list(map(lambda i: [i, i**2],num))\n",
    "print(sq)"
   ]
  },
  {
   "cell_type": "code",
   "execution_count": 18,
   "metadata": {},
   "outputs": [
    {
     "name": "stdout",
     "output_type": "stream",
     "text": [
      "[['e', 'p', 'l', 'a'], ['n', 'a', 'b'], ['e', 'h', 'y', 'c', 'r']]\n"
     ]
    }
   ],
   "source": [
    "#39\n",
    "fruit = []\n",
    "for i in range(3):\n",
    "    f = input('Enter a fruit: ')\n",
    "    fruit.append(f)\n",
    "uni = list(map(lambda i: list(set(i)), fruit))\n",
    "print(uni)"
   ]
  },
  {
   "cell_type": "code",
   "execution_count": 9,
   "metadata": {},
   "outputs": [
    {
     "name": "stdout",
     "output_type": "stream",
     "text": [
      "[[1, [1]], [2, [1, 2]], [3, [1, 3]], [4, [1, 2, 4]], [5, [1, 5]]]\n"
     ]
    }
   ],
   "source": [
    "#40\n",
    "number = []\n",
    "fact = []\n",
    "ml = []\n",
    "for i in range(5):\n",
    "    nb = int(input('Enter a number: '))\n",
    "    number.append(nb)\n",
    "for j in number:\n",
    "    for k in range(1,j+1):\n",
    "        if j % k == 0:\n",
    "            fact.append(k)\n",
    "        if j == k:\n",
    "            ml.append([j, fact])\n",
    "            fact = []\n",
    "print(ml)"
   ]
  },
  {
   "cell_type": "code",
   "execution_count": 32,
   "metadata": {},
   "outputs": [],
   "source": [
    "#41\n",
    "def reverse_list(nums):\n",
    "    rev = nums[::-1]\n",
    "    return rev"
   ]
  },
  {
   "cell_type": "code",
   "execution_count": 5,
   "metadata": {},
   "outputs": [
    {
     "name": "stdout",
     "output_type": "stream",
     "text": [
      "[5, 4, 3, 2, 1]\n"
     ]
    }
   ],
   "source": [
    "reverse = reverse_list([1,2,3,4,5])\n",
    "print(reverse)"
   ]
  },
  {
   "cell_type": "markdown",
   "metadata": {},
   "source": [
    "# Dictionary"
   ]
  },
  {
   "cell_type": "code",
   "execution_count": 7,
   "metadata": {},
   "outputs": [
    {
     "name": "stdout",
     "output_type": "stream",
     "text": [
      "{'h': 1, 'e': 1, 'l': 2, 'o': 1}\n"
     ]
    }
   ],
   "source": [
    "#1\n",
    "str = 'hello'\n",
    "d = {}\n",
    "count = 1\n",
    "for i in str:\n",
    "    if i in d:\n",
    "        d[i] = count + 1\n",
    "    else:\n",
    "        d[i] = count\n",
    "print(d)\n",
    "\n"
   ]
  },
  {
   "cell_type": "code",
   "execution_count": 16,
   "metadata": {},
   "outputs": [
    {
     "name": "stdout",
     "output_type": "stream",
     "text": [
      "{'a': 1, 'b': 2, 'c': 3, 'd': 4}\n"
     ]
    }
   ],
   "source": [
    "#2\n",
    "dict1 = {\"a\": 1, \"b\": 2}\n",
    "dict2 = {\"c\": 3, \"d\": 4}\n",
    "dict1.update(dict2)\n",
    "print(dict1)"
   ]
  },
  {
   "cell_type": "code",
   "execution_count": 36,
   "metadata": {},
   "outputs": [
    {
     "data": {
      "text/plain": [
       "10"
      ]
     },
     "execution_count": 36,
     "metadata": {},
     "output_type": "execute_result"
    }
   ],
   "source": [
    "#3\n",
    "data = {\"a\": 10, \"b\": 5, \"c\": 10}\n",
    "max(data.values())"
   ]
  },
  {
   "cell_type": "code",
   "execution_count": 26,
   "metadata": {},
   "outputs": [
    {
     "data": {
      "text/plain": [
       "False"
      ]
     },
     "execution_count": 26,
     "metadata": {},
     "output_type": "execute_result"
    }
   ],
   "source": [
    "#4\n",
    "num = {\"a\": 1, \"b\": 2, \"c\": 3}\n",
    "'d' in num.keys()"
   ]
  },
  {
   "cell_type": "code",
   "execution_count": 27,
   "metadata": {},
   "outputs": [
    {
     "name": "stdout",
     "output_type": "stream",
     "text": [
      "{'a': 1, 'c': 3}\n"
     ]
    }
   ],
   "source": [
    "#5\n",
    "num = {\"a\": 1, \"b\": 2, \"c\": 3}\n",
    "num.pop('b')\n",
    "print(num)"
   ]
  },
  {
   "cell_type": "code",
   "execution_count": 7,
   "metadata": {},
   "outputs": [
    {
     "name": "stdout",
     "output_type": "stream",
     "text": [
      "b\n",
      "c\n"
     ]
    }
   ],
   "source": [
    "#6\n",
    "dict1 = {\"a\": 1, \"b\": 2, \"c\": 3}\n",
    "dict2 = {\"b\": 3, \"c\": 4, \"d\": 5}\n",
    "for k in dict1.keys():\n",
    "    for i in dict2.keys():\n",
    "        if k == i:\n",
    "            print(k)"
   ]
  },
  {
   "cell_type": "code",
   "execution_count": 7,
   "metadata": {},
   "outputs": [
    {
     "data": {
      "text/plain": [
       "3"
      ]
     },
     "execution_count": 7,
     "metadata": {},
     "output_type": "execute_result"
    }
   ],
   "source": [
    "#7\n",
    "n = {\"a\": 1, \"b\": 2, \"c\": 3}\n",
    "len(n)"
   ]
  },
  {
   "cell_type": "code",
   "execution_count": 34,
   "metadata": {},
   "outputs": [
    {
     "name": "stdout",
     "output_type": "stream",
     "text": [
      "[('a', 1), ('b', 2), ('c', 3)]\n"
     ]
    }
   ],
   "source": [
    "#8\n",
    "dic = {\"b\": 2, \"a\": 1, \"c\": 3}\n",
    "print(sorted(dic.items()))"
   ]
  },
  {
   "cell_type": "code",
   "execution_count": 35,
   "metadata": {},
   "outputs": [
    {
     "data": {
      "text/plain": [
       "5"
      ]
     },
     "execution_count": 35,
     "metadata": {},
     "output_type": "execute_result"
    }
   ],
   "source": [
    "#9\n",
    "val = {\"a\": 10, \"b\": 5, \"c\": 15}\n",
    "min(val.values())"
   ]
  },
  {
   "cell_type": "code",
   "execution_count": 39,
   "metadata": {},
   "outputs": [
    {
     "data": {
      "text/plain": [
       "[1, 2, 3]"
      ]
     },
     "execution_count": 39,
     "metadata": {},
     "output_type": "execute_result"
    }
   ],
   "source": [
    "#10\n",
    "n = {\"a\": 1, \"b\": 2, \"c\": 3}\n",
    "list(n.values())"
   ]
  },
  {
   "cell_type": "code",
   "execution_count": 46,
   "metadata": {},
   "outputs": [
    {
     "data": {
      "text/plain": [
       "True"
      ]
     },
     "execution_count": 46,
     "metadata": {},
     "output_type": "execute_result"
    }
   ],
   "source": [
    "#11\n",
    "n = {\"a\": 1, \"b\": 2, \"c\": 3}\n",
    "num = 2\n",
    "num in n.values()"
   ]
  },
  {
   "cell_type": "code",
   "execution_count": 26,
   "metadata": {},
   "outputs": [
    {
     "name": "stdout",
     "output_type": "stream",
     "text": [
      "{1: 1, 2: 4, 3: 9, 4: 16, 5: 25, 6: 36, 7: 49, 8: 64, 9: 81, 10: 100}\n"
     ]
    }
   ],
   "source": [
    "#12\n",
    "key = [1,2,3,4,5,6,7,8,9,10]\n",
    "dict = {}\n",
    "for j in key:\n",
    "    dict[j] = j**2\n",
    "print(dict)"
   ]
  },
  {
   "cell_type": "code",
   "execution_count": 1,
   "metadata": {},
   "outputs": [
    {
     "name": "stdout",
     "output_type": "stream",
     "text": [
      "{('a', 1)}\n",
      "{('d', 4)}\n"
     ]
    }
   ],
   "source": [
    "#13\n",
    "dict1 = {\"a\": 1, \"b\": 2, \"c\": 3}\n",
    "dict2 = {\"b\": 2, \"c\": 3, \"d\": 4}\n",
    "diff1 = dict1.items() - dict2.items()\n",
    "diff2 = dict2.items() - dict1.items()\n",
    "print(diff1)\n",
    "print(diff2)"
   ]
  },
  {
   "cell_type": "code",
   "execution_count": 12,
   "metadata": {},
   "outputs": [
    {
     "name": "stdout",
     "output_type": "stream",
     "text": [
      "{}\n"
     ]
    }
   ],
   "source": [
    "#14\n",
    "data = {\"a\": 1, \"b\": 2, \"c\": 3}\n",
    "data.clear()\n",
    "print(data)"
   ]
  },
  {
   "cell_type": "code",
   "execution_count": 5,
   "metadata": {},
   "outputs": [
    {
     "data": {
      "text/plain": [
       "[('a', 1), ('b', 2), ('c', 3)]"
      ]
     },
     "execution_count": 5,
     "metadata": {},
     "output_type": "execute_result"
    }
   ],
   "source": [
    "#15\n",
    "data = {\"a\": 1, \"b\": 2, \"c\": 3}\n",
    "list(tuple(data.items()))"
   ]
  },
  {
   "cell_type": "code",
   "execution_count": 16,
   "metadata": {},
   "outputs": [
    {
     "name": "stdout",
     "output_type": "stream",
     "text": [
      "The values are unique\n"
     ]
    }
   ],
   "source": [
    "#16\n",
    "data = {\"a\": 1, \"b\": 2, \"c\": 3}\n",
    "data_set = set(data.values())\n",
    "if len(data.values()) == len(data_set):\n",
    "    print('The values are unique')\n",
    "else:\n",
    "    print('The values are not unique')"
   ]
  },
  {
   "cell_type": "code",
   "execution_count": 6,
   "metadata": {},
   "outputs": [
    {
     "name": "stdout",
     "output_type": "stream",
     "text": [
      "[2, 3]\n"
     ]
    }
   ],
   "source": [
    "#17\n",
    "d = {\"a\": 1, \"b\": {\"c\": 2, \"d\": 3}, \"e\": 4}\n",
    "for k,v in d.items():\n",
    "    if isinstance(v,dict):\n",
    "        ans = list(v.values())\n",
    "        print(ans)\n"
   ]
  },
  {
   "cell_type": "code",
   "execution_count": 3,
   "metadata": {},
   "outputs": [
    {
     "name": "stdout",
     "output_type": "stream",
     "text": [
      "a 10\n",
      "c 10\n"
     ]
    }
   ],
   "source": [
    "#18\n",
    "pairs = {\"a\": 10, \"b\": 5, \"c\": 10}\n",
    "for k,v in pairs.items():\n",
    "    if v == max(pairs.values()):\n",
    "        print(k,v)"
   ]
  },
  {
   "cell_type": "code",
   "execution_count": 1,
   "metadata": {},
   "outputs": [
    {
     "name": "stdout",
     "output_type": "stream",
     "text": [
      "{'a': 1, 'b': 2, 'c': 3}\n"
     ]
    }
   ],
   "source": [
    "#19\n",
    "keys = [\"a\", \"b\", \"c\"]\n",
    "values = [1, 2, 3]\n",
    "pair = zip(keys, values)\n",
    "print(dict(pair))\n"
   ]
  },
  {
   "cell_type": "code",
   "execution_count": 34,
   "metadata": {},
   "outputs": [
    {
     "name": "stdout",
     "output_type": "stream",
     "text": [
      "a 1\n",
      "b 2\n",
      "c 3\n"
     ]
    }
   ],
   "source": [
    "#20\n",
    "data = {\"a\": 1, \"b\": 2, \"c\": 3}\n",
    "for k,v in data.items():\n",
    "    print(k,v)"
   ]
  },
  {
   "cell_type": "markdown",
   "metadata": {},
   "source": [
    "# Numpy"
   ]
  },
  {
   "cell_type": "code",
   "execution_count": 1,
   "metadata": {},
   "outputs": [],
   "source": [
    "import numpy as np"
   ]
  },
  {
   "cell_type": "code",
   "execution_count": 2,
   "metadata": {},
   "outputs": [
    {
     "name": "stdout",
     "output_type": "stream",
     "text": [
      "[0 0 0 0 0 0 0 0 0 0]\n"
     ]
    }
   ],
   "source": [
    "#1\n",
    "b = np.zeros(10, dtype = int)\n",
    "print(b)"
   ]
  },
  {
   "cell_type": "code",
   "execution_count": 17,
   "metadata": {},
   "outputs": [
    {
     "name": "stdout",
     "output_type": "stream",
     "text": [
      "[1. 1. 1. 1. 1. 1. 1. 1. 1. 1.]\n"
     ]
    }
   ],
   "source": [
    "#2\n",
    "c = np.ones(10)\n",
    "print(c)"
   ]
  },
  {
   "cell_type": "code",
   "execution_count": 18,
   "metadata": {},
   "outputs": [
    {
     "name": "stdout",
     "output_type": "stream",
     "text": [
      "[[5 3 8]\n",
      " [6 0 2]\n",
      " [2 6 7]]\n"
     ]
    }
   ],
   "source": [
    "#3\n",
    "m = np.random.randint(0,9, (3,3))\n",
    "print(m)"
   ]
  },
  {
   "cell_type": "code",
   "execution_count": 25,
   "metadata": {},
   "outputs": [
    {
     "name": "stdout",
     "output_type": "stream",
     "text": [
      "[9 8 7 6 5 4 3 2 1 0]\n"
     ]
    }
   ],
   "source": [
    "#4\n",
    "arr = np.array([0,1,2,3,4,5,6,7,8,9])\n",
    "print(np.flip(arr))"
   ]
  },
  {
   "cell_type": "code",
   "execution_count": 24,
   "metadata": {},
   "outputs": [
    {
     "data": {
      "text/plain": [
       "array([ 1,  3,  5,  7,  9, 11, 13, 15, 17, 19])"
      ]
     },
     "execution_count": 24,
     "metadata": {},
     "output_type": "execute_result"
    }
   ],
   "source": [
    "#5\n",
    "np.arange(1,20,2)"
   ]
  },
  {
   "cell_type": "code",
   "execution_count": 28,
   "metadata": {},
   "outputs": [
    {
     "name": "stdout",
     "output_type": "stream",
     "text": [
      "45\n",
      "4.5\n",
      "2.87\n"
     ]
    }
   ],
   "source": [
    "#6\n",
    "arr = np.array([0,1,2,3,4,5,6,7,8,9])\n",
    "print(sum(arr))\n",
    "print(arr.mean())\n",
    "print(f'{arr.std():.2f}')"
   ]
  },
  {
   "cell_type": "code",
   "execution_count": 31,
   "metadata": {},
   "outputs": [
    {
     "name": "stdout",
     "output_type": "stream",
     "text": [
      "[[41 80 87 60 67]\n",
      " [62 84  1 28 63]\n",
      " [10  0 21 97 10]\n",
      " [73  7 64 68 17]\n",
      " [48 48 23 54 16]]\n",
      "0\n",
      "97\n"
     ]
    }
   ],
   "source": [
    "#7\n",
    "matrix = np.random.randint(0,100, (5,5))\n",
    "print(matrix)\n",
    "print(matrix.min())\n",
    "print(matrix.max())"
   ]
  },
  {
   "cell_type": "code",
   "execution_count": 15,
   "metadata": {},
   "outputs": [
    {
     "data": {
      "text/plain": [
       "array([[1, 1, 1, 1],\n",
       "       [1, 0, 0, 1],\n",
       "       [1, 0, 0, 1],\n",
       "       [1, 1, 1, 1]])"
      ]
     },
     "execution_count": 15,
     "metadata": {},
     "output_type": "execute_result"
    }
   ],
   "source": [
    "#8\n",
    "x = np.ones((4,4), dtype='int')\n",
    "x[1:-1,1:-1] = 0\n",
    "x"
   ]
  },
  {
   "cell_type": "code",
   "execution_count": 8,
   "metadata": {},
   "outputs": [
    {
     "name": "stdout",
     "output_type": "stream",
     "text": [
      "[[4 6 8]\n",
      " [5 3 9]\n",
      " [7 0 2]]\n",
      "[[4 1 7]\n",
      " [9 6 7]\n",
      " [3 9 7]]\n",
      "[[16  6 56]\n",
      " [45 18 63]\n",
      " [21  0 14]]\n"
     ]
    }
   ],
   "source": [
    "#9\n",
    "m1 = np.random.randint(0,10, (3,3))\n",
    "print(m1)\n",
    "m2 = np.random.randint(0,10, (3,3))\n",
    "print(m2)\n",
    "print(m1*m2)"
   ]
  },
  {
   "cell_type": "code",
   "execution_count": 11,
   "metadata": {},
   "outputs": [
    {
     "name": "stdout",
     "output_type": "stream",
     "text": [
      "[1 3 4 6 7 9]\n"
     ]
    }
   ],
   "source": [
    "#10\n",
    "print(np.unique(m2))"
   ]
  },
  {
   "cell_type": "code",
   "execution_count": 11,
   "metadata": {},
   "outputs": [
    {
     "name": "stdout",
     "output_type": "stream",
     "text": [
      "[[43 76 80 81 39]\n",
      " [24 53 95 52 43]\n",
      " [68 45 54 15 54]\n",
      " [11 15 48 26 86]\n",
      " [ 1 44 59 51 91]]\n",
      "[[43 80 39]\n",
      " [24 95 43]\n",
      " [68 54 54]\n",
      " [11 48 86]\n",
      " [ 1 59 91]]\n"
     ]
    }
   ],
   "source": [
    "#11\n",
    "mtrx = np.random.randint(0,100,(5,5))\n",
    "print(mtrx)\n",
    "print(mtrx[:,0::2])"
   ]
  },
  {
   "cell_type": "code",
   "execution_count": 12,
   "metadata": {},
   "outputs": [
    {
     "name": "stdout",
     "output_type": "stream",
     "text": [
      "[[24 53 95 52 43]\n",
      " [11 15 48 26 86]]\n"
     ]
    }
   ],
   "source": [
    "#12\n",
    "print(mtrx[1::2])"
   ]
  },
  {
   "cell_type": "code",
   "execution_count": 13,
   "metadata": {},
   "outputs": [
    {
     "name": "stdout",
     "output_type": "stream",
     "text": [
      "[[76 80 81 39]\n",
      " [53 95 52 43]\n",
      " [45 54 15 54]]\n"
     ]
    }
   ],
   "source": [
    "#13\n",
    "print(mtrx[:3,1:5])"
   ]
  },
  {
   "cell_type": "code",
   "execution_count": 19,
   "metadata": {},
   "outputs": [
    {
     "name": "stdout",
     "output_type": "stream",
     "text": [
      "[[ 1 44 59 51 91]\n",
      " [11 15 48 26 86]\n",
      " [68 45 54 15 54]\n",
      " [24 53 95 52 43]\n",
      " [43 76 80 81 39]]\n"
     ]
    }
   ],
   "source": [
    "#14\n",
    "print(mtrx[::-1])"
   ]
  },
  {
   "cell_type": "code",
   "execution_count": 9,
   "metadata": {},
   "outputs": [
    {
     "ename": "TypeError",
     "evalue": "'tuple' object cannot be interpreted as an integer",
     "output_type": "error",
     "traceback": [
      "\u001b[1;31m---------------------------------------------------------------------------\u001b[0m",
      "\u001b[1;31mTypeError\u001b[0m                                 Traceback (most recent call last)",
      "Cell \u001b[1;32mIn[9], line 3\u001b[0m\n\u001b[0;32m      1\u001b[0m \u001b[38;5;66;03m#15 error\u001b[39;00m\n\u001b[0;32m      2\u001b[0m a\u001b[38;5;241m=\u001b[39m [\u001b[38;5;241m1\u001b[39m,\u001b[38;5;241m2\u001b[39m,\u001b[38;5;241m3\u001b[39m,\u001b[38;5;241m4\u001b[39m,\u001b[38;5;241m5\u001b[39m]\n\u001b[1;32m----> 3\u001b[0m np\u001b[38;5;241m.\u001b[39mdiagonal(a,(\u001b[38;5;241m5\u001b[39m,\u001b[38;5;241m5\u001b[39m))\n",
      "File \u001b[1;32mc:\\Users\\Public\\miniconda3\\Lib\\site-packages\\numpy\\_core\\fromnumeric.py:1766\u001b[0m, in \u001b[0;36mdiagonal\u001b[1;34m(a, offset, axis1, axis2)\u001b[0m\n\u001b[0;32m   1764\u001b[0m     \u001b[38;5;28;01mreturn\u001b[39;00m asarray(a)\u001b[38;5;241m.\u001b[39mdiagonal(offset\u001b[38;5;241m=\u001b[39moffset, axis1\u001b[38;5;241m=\u001b[39maxis1, axis2\u001b[38;5;241m=\u001b[39maxis2)\n\u001b[0;32m   1765\u001b[0m \u001b[38;5;28;01melse\u001b[39;00m:\n\u001b[1;32m-> 1766\u001b[0m     \u001b[38;5;28;01mreturn\u001b[39;00m asanyarray(a)\u001b[38;5;241m.\u001b[39mdiagonal(offset\u001b[38;5;241m=\u001b[39moffset, axis1\u001b[38;5;241m=\u001b[39maxis1, axis2\u001b[38;5;241m=\u001b[39maxis2)\n",
      "\u001b[1;31mTypeError\u001b[0m: 'tuple' object cannot be interpreted as an integer"
     ]
    }
   ],
   "source": [
    "#15 error\n",
    "a= [1,2,3,4,5]\n",
    "np.diagonal(a,(5,5))"
   ]
  },
  {
   "cell_type": "markdown",
   "metadata": {},
   "source": [
    "# matplotlib"
   ]
  },
  {
   "cell_type": "code",
   "execution_count": 1,
   "metadata": {},
   "outputs": [],
   "source": [
    "import pandas as pd\n",
    "import matplotlib.pyplot as plt"
   ]
  },
  {
   "cell_type": "code",
   "execution_count": 2,
   "metadata": {},
   "outputs": [
    {
     "data": {
      "text/html": [
       "<div>\n",
       "<style scoped>\n",
       "    .dataframe tbody tr th:only-of-type {\n",
       "        vertical-align: middle;\n",
       "    }\n",
       "\n",
       "    .dataframe tbody tr th {\n",
       "        vertical-align: top;\n",
       "    }\n",
       "\n",
       "    .dataframe thead th {\n",
       "        text-align: right;\n",
       "    }\n",
       "</style>\n",
       "<table border=\"1\" class=\"dataframe\">\n",
       "  <thead>\n",
       "    <tr style=\"text-align: right;\">\n",
       "      <th></th>\n",
       "      <th>5.1</th>\n",
       "      <th>3.5</th>\n",
       "      <th>1.4</th>\n",
       "      <th>0.2</th>\n",
       "      <th>Iris-setosa</th>\n",
       "    </tr>\n",
       "  </thead>\n",
       "  <tbody>\n",
       "    <tr>\n",
       "      <th>0</th>\n",
       "      <td>4.9</td>\n",
       "      <td>3.0</td>\n",
       "      <td>1.4</td>\n",
       "      <td>0.2</td>\n",
       "      <td>Iris-setosa</td>\n",
       "    </tr>\n",
       "    <tr>\n",
       "      <th>1</th>\n",
       "      <td>4.7</td>\n",
       "      <td>3.2</td>\n",
       "      <td>1.3</td>\n",
       "      <td>0.2</td>\n",
       "      <td>Iris-setosa</td>\n",
       "    </tr>\n",
       "    <tr>\n",
       "      <th>2</th>\n",
       "      <td>4.6</td>\n",
       "      <td>3.1</td>\n",
       "      <td>1.5</td>\n",
       "      <td>0.2</td>\n",
       "      <td>Iris-setosa</td>\n",
       "    </tr>\n",
       "    <tr>\n",
       "      <th>3</th>\n",
       "      <td>5.0</td>\n",
       "      <td>3.6</td>\n",
       "      <td>1.4</td>\n",
       "      <td>0.2</td>\n",
       "      <td>Iris-setosa</td>\n",
       "    </tr>\n",
       "    <tr>\n",
       "      <th>4</th>\n",
       "      <td>5.4</td>\n",
       "      <td>3.9</td>\n",
       "      <td>1.7</td>\n",
       "      <td>0.4</td>\n",
       "      <td>Iris-setosa</td>\n",
       "    </tr>\n",
       "    <tr>\n",
       "      <th>...</th>\n",
       "      <td>...</td>\n",
       "      <td>...</td>\n",
       "      <td>...</td>\n",
       "      <td>...</td>\n",
       "      <td>...</td>\n",
       "    </tr>\n",
       "    <tr>\n",
       "      <th>144</th>\n",
       "      <td>6.7</td>\n",
       "      <td>3.0</td>\n",
       "      <td>5.2</td>\n",
       "      <td>2.3</td>\n",
       "      <td>Iris-virginica</td>\n",
       "    </tr>\n",
       "    <tr>\n",
       "      <th>145</th>\n",
       "      <td>6.3</td>\n",
       "      <td>2.5</td>\n",
       "      <td>5.0</td>\n",
       "      <td>1.9</td>\n",
       "      <td>Iris-virginica</td>\n",
       "    </tr>\n",
       "    <tr>\n",
       "      <th>146</th>\n",
       "      <td>6.5</td>\n",
       "      <td>3.0</td>\n",
       "      <td>5.2</td>\n",
       "      <td>2.0</td>\n",
       "      <td>Iris-virginica</td>\n",
       "    </tr>\n",
       "    <tr>\n",
       "      <th>147</th>\n",
       "      <td>6.2</td>\n",
       "      <td>3.4</td>\n",
       "      <td>5.4</td>\n",
       "      <td>2.3</td>\n",
       "      <td>Iris-virginica</td>\n",
       "    </tr>\n",
       "    <tr>\n",
       "      <th>148</th>\n",
       "      <td>5.9</td>\n",
       "      <td>3.0</td>\n",
       "      <td>5.1</td>\n",
       "      <td>1.8</td>\n",
       "      <td>Iris-virginica</td>\n",
       "    </tr>\n",
       "  </tbody>\n",
       "</table>\n",
       "<p>149 rows × 5 columns</p>\n",
       "</div>"
      ],
      "text/plain": [
       "     5.1  3.5  1.4  0.2     Iris-setosa\n",
       "0    4.9  3.0  1.4  0.2     Iris-setosa\n",
       "1    4.7  3.2  1.3  0.2     Iris-setosa\n",
       "2    4.6  3.1  1.5  0.2     Iris-setosa\n",
       "3    5.0  3.6  1.4  0.2     Iris-setosa\n",
       "4    5.4  3.9  1.7  0.4     Iris-setosa\n",
       "..   ...  ...  ...  ...             ...\n",
       "144  6.7  3.0  5.2  2.3  Iris-virginica\n",
       "145  6.3  2.5  5.0  1.9  Iris-virginica\n",
       "146  6.5  3.0  5.2  2.0  Iris-virginica\n",
       "147  6.2  3.4  5.4  2.3  Iris-virginica\n",
       "148  5.9  3.0  5.1  1.8  Iris-virginica\n",
       "\n",
       "[149 rows x 5 columns]"
      ]
     },
     "execution_count": 2,
     "metadata": {},
     "output_type": "execute_result"
    }
   ],
   "source": [
    "df = pd.read_csv('iris.data.csv')\n",
    "df"
   ]
  },
  {
   "cell_type": "code",
   "execution_count": 3,
   "metadata": {},
   "outputs": [
    {
     "data": {
      "text/html": [
       "<div>\n",
       "<style scoped>\n",
       "    .dataframe tbody tr th:only-of-type {\n",
       "        vertical-align: middle;\n",
       "    }\n",
       "\n",
       "    .dataframe tbody tr th {\n",
       "        vertical-align: top;\n",
       "    }\n",
       "\n",
       "    .dataframe thead th {\n",
       "        text-align: right;\n",
       "    }\n",
       "</style>\n",
       "<table border=\"1\" class=\"dataframe\">\n",
       "  <thead>\n",
       "    <tr style=\"text-align: right;\">\n",
       "      <th></th>\n",
       "      <th>Sepal length</th>\n",
       "      <th>Sepal width</th>\n",
       "      <th>Petal length</th>\n",
       "      <th>Petal width</th>\n",
       "      <th>Species</th>\n",
       "    </tr>\n",
       "  </thead>\n",
       "  <tbody>\n",
       "    <tr>\n",
       "      <th>0</th>\n",
       "      <td>4.9</td>\n",
       "      <td>3.0</td>\n",
       "      <td>1.4</td>\n",
       "      <td>0.2</td>\n",
       "      <td>Iris-setosa</td>\n",
       "    </tr>\n",
       "    <tr>\n",
       "      <th>1</th>\n",
       "      <td>4.7</td>\n",
       "      <td>3.2</td>\n",
       "      <td>1.3</td>\n",
       "      <td>0.2</td>\n",
       "      <td>Iris-setosa</td>\n",
       "    </tr>\n",
       "    <tr>\n",
       "      <th>2</th>\n",
       "      <td>4.6</td>\n",
       "      <td>3.1</td>\n",
       "      <td>1.5</td>\n",
       "      <td>0.2</td>\n",
       "      <td>Iris-setosa</td>\n",
       "    </tr>\n",
       "    <tr>\n",
       "      <th>3</th>\n",
       "      <td>5.0</td>\n",
       "      <td>3.6</td>\n",
       "      <td>1.4</td>\n",
       "      <td>0.2</td>\n",
       "      <td>Iris-setosa</td>\n",
       "    </tr>\n",
       "    <tr>\n",
       "      <th>4</th>\n",
       "      <td>5.4</td>\n",
       "      <td>3.9</td>\n",
       "      <td>1.7</td>\n",
       "      <td>0.4</td>\n",
       "      <td>Iris-setosa</td>\n",
       "    </tr>\n",
       "  </tbody>\n",
       "</table>\n",
       "</div>"
      ],
      "text/plain": [
       "   Sepal length  Sepal width  Petal length  Petal width      Species\n",
       "0           4.9          3.0           1.4          0.2  Iris-setosa\n",
       "1           4.7          3.2           1.3          0.2  Iris-setosa\n",
       "2           4.6          3.1           1.5          0.2  Iris-setosa\n",
       "3           5.0          3.6           1.4          0.2  Iris-setosa\n",
       "4           5.4          3.9           1.7          0.4  Iris-setosa"
      ]
     },
     "execution_count": 3,
     "metadata": {},
     "output_type": "execute_result"
    }
   ],
   "source": [
    "columns_to_rename = {\n",
    "    '5.1': 'Sepal length',\n",
    "    '3.5': 'Sepal width',\n",
    "    '1.4': 'Petal length',\n",
    "    '0.2': 'Petal width',\n",
    "    'Iris-setosa': 'Species'\n",
    "}\n",
    "df = df.rename(columns=columns_to_rename)\n",
    "df.head()"
   ]
  },
  {
   "cell_type": "code",
   "execution_count": 4,
   "metadata": {},
   "outputs": [
    {
     "data": {
      "text/html": [
       "<div>\n",
       "<style scoped>\n",
       "    .dataframe tbody tr th:only-of-type {\n",
       "        vertical-align: middle;\n",
       "    }\n",
       "\n",
       "    .dataframe tbody tr th {\n",
       "        vertical-align: top;\n",
       "    }\n",
       "\n",
       "    .dataframe thead th {\n",
       "        text-align: right;\n",
       "    }\n",
       "</style>\n",
       "<table border=\"1\" class=\"dataframe\">\n",
       "  <thead>\n",
       "    <tr style=\"text-align: right;\">\n",
       "      <th></th>\n",
       "      <th>Sepal length</th>\n",
       "      <th>Sepal width</th>\n",
       "      <th>Petal length</th>\n",
       "      <th>Petal width</th>\n",
       "      <th>Species</th>\n",
       "    </tr>\n",
       "  </thead>\n",
       "  <tbody>\n",
       "    <tr>\n",
       "      <th>0</th>\n",
       "      <td>4.9</td>\n",
       "      <td>3.0</td>\n",
       "      <td>1.4</td>\n",
       "      <td>0.2</td>\n",
       "      <td>Iris-setosa</td>\n",
       "    </tr>\n",
       "    <tr>\n",
       "      <th>1</th>\n",
       "      <td>4.7</td>\n",
       "      <td>3.2</td>\n",
       "      <td>1.3</td>\n",
       "      <td>0.2</td>\n",
       "      <td>Iris-setosa</td>\n",
       "    </tr>\n",
       "    <tr>\n",
       "      <th>2</th>\n",
       "      <td>4.6</td>\n",
       "      <td>3.1</td>\n",
       "      <td>1.5</td>\n",
       "      <td>0.2</td>\n",
       "      <td>Iris-setosa</td>\n",
       "    </tr>\n",
       "    <tr>\n",
       "      <th>3</th>\n",
       "      <td>5.0</td>\n",
       "      <td>3.6</td>\n",
       "      <td>1.4</td>\n",
       "      <td>0.2</td>\n",
       "      <td>Iris-setosa</td>\n",
       "    </tr>\n",
       "    <tr>\n",
       "      <th>4</th>\n",
       "      <td>5.4</td>\n",
       "      <td>3.9</td>\n",
       "      <td>1.7</td>\n",
       "      <td>0.4</td>\n",
       "      <td>Iris-setosa</td>\n",
       "    </tr>\n",
       "    <tr>\n",
       "      <th>...</th>\n",
       "      <td>...</td>\n",
       "      <td>...</td>\n",
       "      <td>...</td>\n",
       "      <td>...</td>\n",
       "      <td>...</td>\n",
       "    </tr>\n",
       "    <tr>\n",
       "      <th>144</th>\n",
       "      <td>6.7</td>\n",
       "      <td>3.0</td>\n",
       "      <td>5.2</td>\n",
       "      <td>2.3</td>\n",
       "      <td>Iris-virginica</td>\n",
       "    </tr>\n",
       "    <tr>\n",
       "      <th>145</th>\n",
       "      <td>6.3</td>\n",
       "      <td>2.5</td>\n",
       "      <td>5.0</td>\n",
       "      <td>1.9</td>\n",
       "      <td>Iris-virginica</td>\n",
       "    </tr>\n",
       "    <tr>\n",
       "      <th>146</th>\n",
       "      <td>6.5</td>\n",
       "      <td>3.0</td>\n",
       "      <td>5.2</td>\n",
       "      <td>2.0</td>\n",
       "      <td>Iris-virginica</td>\n",
       "    </tr>\n",
       "    <tr>\n",
       "      <th>147</th>\n",
       "      <td>6.2</td>\n",
       "      <td>3.4</td>\n",
       "      <td>5.4</td>\n",
       "      <td>2.3</td>\n",
       "      <td>Iris-virginica</td>\n",
       "    </tr>\n",
       "    <tr>\n",
       "      <th>148</th>\n",
       "      <td>5.9</td>\n",
       "      <td>3.0</td>\n",
       "      <td>5.1</td>\n",
       "      <td>1.8</td>\n",
       "      <td>Iris-virginica</td>\n",
       "    </tr>\n",
       "  </tbody>\n",
       "</table>\n",
       "<p>149 rows × 5 columns</p>\n",
       "</div>"
      ],
      "text/plain": [
       "     Sepal length  Sepal width  Petal length  Petal width         Species\n",
       "0             4.9          3.0           1.4          0.2     Iris-setosa\n",
       "1             4.7          3.2           1.3          0.2     Iris-setosa\n",
       "2             4.6          3.1           1.5          0.2     Iris-setosa\n",
       "3             5.0          3.6           1.4          0.2     Iris-setosa\n",
       "4             5.4          3.9           1.7          0.4     Iris-setosa\n",
       "..            ...          ...           ...          ...             ...\n",
       "144           6.7          3.0           5.2          2.3  Iris-virginica\n",
       "145           6.3          2.5           5.0          1.9  Iris-virginica\n",
       "146           6.5          3.0           5.2          2.0  Iris-virginica\n",
       "147           6.2          3.4           5.4          2.3  Iris-virginica\n",
       "148           5.9          3.0           5.1          1.8  Iris-virginica\n",
       "\n",
       "[149 rows x 5 columns]"
      ]
     },
     "execution_count": 4,
     "metadata": {},
     "output_type": "execute_result"
    }
   ],
   "source": [
    "df.dropna()"
   ]
  },
  {
   "cell_type": "code",
   "execution_count": 5,
   "metadata": {},
   "outputs": [
    {
     "data": {
      "text/plain": [
       "array(['Iris-setosa', 'Iris-versicolor', 'Iris-virginica'], dtype=object)"
      ]
     },
     "execution_count": 5,
     "metadata": {},
     "output_type": "execute_result"
    }
   ],
   "source": [
    "df['Species'].unique()"
   ]
  },
  {
   "cell_type": "code",
   "execution_count": 6,
   "metadata": {},
   "outputs": [],
   "source": [
    "setosa = df[df['Species'] == 'Iris-setosa']\n",
    "versicolor = df[df['Species'] == 'Iris-versicolor']\n",
    "virginica = df[df['Species'] == 'Iris-virginica']"
   ]
  },
  {
   "cell_type": "code",
   "execution_count": 7,
   "metadata": {},
   "outputs": [
    {
     "data": {
      "text/plain": [
       "<matplotlib.legend.Legend at 0x22b6ef7edb0>"
      ]
     },
     "execution_count": 7,
     "metadata": {},
     "output_type": "execute_result"
    },
    {
     "data": {
      "image/png": "[encoded data removed]",
      "text/plain": [
       "<Figure size 1000x500 with 1 Axes>"
      ]
     },
     "metadata": {},
     "output_type": "display_data"
    }
   ],
   "source": [
    "# 1\n",
    "plt.figure(figsize=(10,5)) \n",
    "plt.scatter(x = 'Sepal length',\n",
    "y = 'Sepal width',\n",
    "data = setosa,\n",
    "color = 'red',\n",
    "label = 'Iris-setosa')\n",
    "\n",
    "plt.scatter(x = 'Sepal length',\n",
    "y = 'Sepal width',\n",
    "data = versicolor,\n",
    "color = 'blue',\n",
    "label = 'Iris-versicolor')\n",
    "\n",
    "plt.scatter(x = 'Sepal length',\n",
    "y = 'Sepal width',\n",
    "data = virginica,\n",
    "color = 'green',\n",
    "label = 'Iris-virginica')\n",
    "\n",
    "plt.xlabel('Sepal length')\n",
    "plt.ylabel('Sepal width')\n",
    "plt.legend(title= 'Species')"
   ]
  },
  {
   "cell_type": "code",
   "execution_count": 8,
   "metadata": {},
   "outputs": [
    {
     "data": {
      "text/plain": [
       "Text(0, 0.5, 'Frequency')"
      ]
     },
     "execution_count": 8,
     "metadata": {},
     "output_type": "execute_result"
    },
    {
     "data": {
      "image/png": "[encoded data removed]",
      "text/plain": [
       "<Figure size 800x500 with 1 Axes>"
      ]
     },
     "metadata": {},
     "output_type": "display_data"
    }
   ],
   "source": [
    "#2\n",
    "plt.figure(figsize=(8,5))\n",
    "x = df['Petal length']\n",
    "plt.hist(x, color = 'lightgreen', label = 'Iris-setosa' , bins = 50, edgecolor = 'black')\n",
    "plt.title('Frequency of Petal Length')\n",
    "plt.xlabel('Petal length')\n",
    "plt.ylabel('Frequency')"
   ]
  },
  {
   "cell_type": "code",
   "execution_count": 20,
   "metadata": {},
   "outputs": [
    {
     "data": {
      "text/plain": [
       "{'whiskers': [<matplotlib.lines.Line2D at 0x21c8618deb0>,\n",
       "  <matplotlib.lines.Line2D at 0x21c8618e180>],\n",
       " 'caps': [<matplotlib.lines.Line2D at 0x21c8618e450>,\n",
       "  <matplotlib.lines.Line2D at 0x21c8618e6f0>],\n",
       " 'boxes': [<matplotlib.lines.Line2D at 0x21c8618dc10>],\n",
       " 'medians': [<matplotlib.lines.Line2D at 0x21c8618e9f0>],\n",
       " 'fliers': [<matplotlib.lines.Line2D at 0x21c8618ecc0>],\n",
       " 'means': []}"
      ]
     },
     "execution_count": 20,
     "metadata": {},
     "output_type": "execute_result"
    },
    {
     "data": {
      "image/png": "[encoded data removed]",
      "text/plain": [
       "<Figure size 800x500 with 1 Axes>"
      ]
     },
     "metadata": {},
     "output_type": "display_data"
    }
   ],
   "source": [
    "#3\n",
    "plt.figure(figsize=(8,5))\n",
    "plt.boxplot(x ='Sepal width', data = setosa, label = 'Iris-setosa')\n",
    "plt.boxplot(x = 'Sepal width', data = versicolor, label = 'Iris-versicolor')\n",
    "plt.boxplot(x = 'Sepal width', data = virginica, label = 'Iris-virginica')"
   ]
  },
  {
   "cell_type": "code",
   "execution_count": 15,
   "metadata": {},
   "outputs": [
    {
     "ename": "TypeError",
     "evalue": "'str' object is not callable",
     "output_type": "error",
     "traceback": [
      "\u001b[1;31m---------------------------------------------------------------------------\u001b[0m",
      "\u001b[1;31mTypeError\u001b[0m                                 Traceback (most recent call last)",
      "Cell \u001b[1;32mIn[15], line 6\u001b[0m\n\u001b[0;32m      4\u001b[0m plt\u001b[38;5;241m.\u001b[39mplot(\u001b[38;5;124m'\u001b[39m\u001b[38;5;124mSepal length\u001b[39m\u001b[38;5;124m'\u001b[39m, \u001b[38;5;124m'\u001b[39m\u001b[38;5;124mPetal length\u001b[39m\u001b[38;5;124m'\u001b[39m, data\u001b[38;5;241m=\u001b[39m versicolor, color\u001b[38;5;241m=\u001b[39m\u001b[38;5;124m'\u001b[39m\u001b[38;5;124mgreen\u001b[39m\u001b[38;5;124m'\u001b[39m, label\u001b[38;5;241m=\u001b[39m\u001b[38;5;124m'\u001b[39m\u001b[38;5;124mIris-versicolor\u001b[39m\u001b[38;5;124m'\u001b[39m, linestyle\u001b[38;5;241m=\u001b[39m\u001b[38;5;124m'\u001b[39m\u001b[38;5;124m'\u001b[39m, marker\u001b[38;5;241m=\u001b[39m\u001b[38;5;124m'\u001b[39m\u001b[38;5;124mx\u001b[39m\u001b[38;5;124m'\u001b[39m)\n\u001b[0;32m      5\u001b[0m plt\u001b[38;5;241m.\u001b[39mplot(\u001b[38;5;124m'\u001b[39m\u001b[38;5;124mSepal length\u001b[39m\u001b[38;5;124m'\u001b[39m, \u001b[38;5;124m'\u001b[39m\u001b[38;5;124mPetal length\u001b[39m\u001b[38;5;124m'\u001b[39m,data\u001b[38;5;241m=\u001b[39m virginica, color\u001b[38;5;241m=\u001b[39m\u001b[38;5;124m'\u001b[39m\u001b[38;5;124mblue\u001b[39m\u001b[38;5;124m'\u001b[39m, label\u001b[38;5;241m=\u001b[39m\u001b[38;5;124m'\u001b[39m\u001b[38;5;124mIris-virginica\u001b[39m\u001b[38;5;124m'\u001b[39m, linestyle\u001b[38;5;241m=\u001b[39m\u001b[38;5;124m'\u001b[39m\u001b[38;5;124m'\u001b[39m, marker\u001b[38;5;241m=\u001b[39m\u001b[38;5;124m'\u001b[39m\u001b[38;5;124mx\u001b[39m\u001b[38;5;124m'\u001b[39m)\n\u001b[1;32m----> 6\u001b[0m plt\u001b[38;5;241m.\u001b[39mxlabel(\u001b[38;5;124m'\u001b[39m\u001b[38;5;124mSepal length\u001b[39m\u001b[38;5;124m'\u001b[39m)\n\u001b[0;32m      7\u001b[0m plt\u001b[38;5;241m.\u001b[39mylabel(\u001b[38;5;124m'\u001b[39m\u001b[38;5;124mPetal length\u001b[39m\u001b[38;5;124m'\u001b[39m)\n\u001b[0;32m      8\u001b[0m plt\u001b[38;5;241m.\u001b[39mlegend(title\u001b[38;5;241m=\u001b[39m\u001b[38;5;124m'\u001b[39m\u001b[38;5;124mSpecies\u001b[39m\u001b[38;5;124m'\u001b[39m)\n",
      "\u001b[1;31mTypeError\u001b[0m: 'str' object is not callable"
     ]
    },
    {
     "data": {
      "image/png": "[encoded data removed]",
      "text/plain": [
       "<Figure size 1000x500 with 1 Axes>"
      ]
     },
     "metadata": {},
     "output_type": "display_data"
    }
   ],
   "source": [
    "#4\n",
    "plt.figure(figsize=(10,5))\n",
    "plt.plot('Sepal length', 'Petal length', data= setosa, color='red', label='Iris-setosa', linestyle='', marker='x')\n",
    "plt.plot('Sepal length', 'Petal length', data= versicolor, color='green', label='Iris-versicolor', linestyle='', marker='x')\n",
    "plt.plot('Sepal length', 'Petal length',data= virginica, color='blue', label='Iris-virginica', linestyle='', marker='x')\n",
    "plt.xlabel('Sepal length')\n",
    "plt.ylabel('Petal length')\n",
    "plt.legend(title='Species')"
   ]
  },
  {
   "cell_type": "code",
   "execution_count": 22,
   "metadata": {},
   "outputs": [],
   "source": [
    "scount = setosa.count()\n",
    "versicount = versicolor.count()\n",
    "vir = virginica.count()"
   ]
  },
  {
   "cell_type": "code",
   "execution_count": 28,
   "metadata": {},
   "outputs": [
    {
     "ename": "ValueError",
     "evalue": "shape mismatch: objects cannot be broadcast to a single shape.  Mismatch is between arg 0 with shape (149,) and arg 1 with shape (5,).",
     "output_type": "error",
     "traceback": [
      "\u001b[1;31m---------------------------------------------------------------------------\u001b[0m",
      "\u001b[1;31mValueError\u001b[0m                                Traceback (most recent call last)",
      "Cell \u001b[1;32mIn[28], line 4\u001b[0m\n\u001b[0;32m      2\u001b[0m plt\u001b[38;5;241m.\u001b[39mfigure(figsize\u001b[38;5;241m=\u001b[39m(\u001b[38;5;241m10\u001b[39m,\u001b[38;5;241m5\u001b[39m))\n\u001b[0;32m      3\u001b[0m a \u001b[38;5;241m=\u001b[39m df[\u001b[38;5;124m'\u001b[39m\u001b[38;5;124mSpecies\u001b[39m\u001b[38;5;124m'\u001b[39m]\n\u001b[1;32m----> 4\u001b[0m plt\u001b[38;5;241m.\u001b[39mbar(a, height\u001b[38;5;241m=\u001b[39m scount, data\u001b[38;5;241m=\u001b[39msetosa,color\u001b[38;5;241m=\u001b[39m \u001b[38;5;124m'\u001b[39m\u001b[38;5;124mred\u001b[39m\u001b[38;5;124m'\u001b[39m)\n",
      "File \u001b[1;32mc:\\Users\\Public\\miniconda3\\Lib\\site-packages\\matplotlib\\pyplot.py:2870\u001b[0m, in \u001b[0;36mbar\u001b[1;34m(x, height, width, bottom, align, data, **kwargs)\u001b[0m\n\u001b[0;32m   2859\u001b[0m \u001b[38;5;129m@_copy_docstring_and_deprecators\u001b[39m(Axes\u001b[38;5;241m.\u001b[39mbar)\n\u001b[0;32m   2860\u001b[0m \u001b[38;5;28;01mdef\u001b[39;00m \u001b[38;5;21mbar\u001b[39m(\n\u001b[0;32m   2861\u001b[0m     x: \u001b[38;5;28mfloat\u001b[39m \u001b[38;5;241m|\u001b[39m ArrayLike,\n\u001b[1;32m   (...)\u001b[0m\n\u001b[0;32m   2868\u001b[0m     \u001b[38;5;241m*\u001b[39m\u001b[38;5;241m*\u001b[39mkwargs,\n\u001b[0;32m   2869\u001b[0m ) \u001b[38;5;241m-\u001b[39m\u001b[38;5;241m>\u001b[39m BarContainer:\n\u001b[1;32m-> 2870\u001b[0m     \u001b[38;5;28;01mreturn\u001b[39;00m gca()\u001b[38;5;241m.\u001b[39mbar(\n\u001b[0;32m   2871\u001b[0m         x,\n\u001b[0;32m   2872\u001b[0m         height,\n\u001b[0;32m   2873\u001b[0m         width\u001b[38;5;241m=\u001b[39mwidth,\n\u001b[0;32m   2874\u001b[0m         bottom\u001b[38;5;241m=\u001b[39mbottom,\n\u001b[0;32m   2875\u001b[0m         align\u001b[38;5;241m=\u001b[39malign,\n\u001b[0;32m   2876\u001b[0m         \u001b[38;5;241m*\u001b[39m\u001b[38;5;241m*\u001b[39m({\u001b[38;5;124m\"\u001b[39m\u001b[38;5;124mdata\u001b[39m\u001b[38;5;124m\"\u001b[39m: data} \u001b[38;5;28;01mif\u001b[39;00m data \u001b[38;5;129;01mis\u001b[39;00m \u001b[38;5;129;01mnot\u001b[39;00m \u001b[38;5;28;01mNone\u001b[39;00m \u001b[38;5;28;01melse\u001b[39;00m {}),\n\u001b[0;32m   2877\u001b[0m         \u001b[38;5;241m*\u001b[39m\u001b[38;5;241m*\u001b[39mkwargs,\n\u001b[0;32m   2878\u001b[0m     )\n",
      "File \u001b[1;32mc:\\Users\\Public\\miniconda3\\Lib\\site-packages\\matplotlib\\__init__.py:1515\u001b[0m, in \u001b[0;36m_preprocess_data.<locals>.inner\u001b[1;34m(ax, data, *args, **kwargs)\u001b[0m\n\u001b[0;32m   1511\u001b[0m \u001b[38;5;28;01mif\u001b[39;00m label_namer \u001b[38;5;129;01mand\u001b[39;00m \u001b[38;5;124m\"\u001b[39m\u001b[38;5;124mlabel\u001b[39m\u001b[38;5;124m\"\u001b[39m \u001b[38;5;129;01mnot\u001b[39;00m \u001b[38;5;129;01min\u001b[39;00m args_and_kwargs:\n\u001b[0;32m   1512\u001b[0m     new_kwargs[\u001b[38;5;124m\"\u001b[39m\u001b[38;5;124mlabel\u001b[39m\u001b[38;5;124m\"\u001b[39m] \u001b[38;5;241m=\u001b[39m _label_from_arg(\n\u001b[0;32m   1513\u001b[0m         args_and_kwargs\u001b[38;5;241m.\u001b[39mget(label_namer), auto_label)\n\u001b[1;32m-> 1515\u001b[0m \u001b[38;5;28;01mreturn\u001b[39;00m func(\u001b[38;5;241m*\u001b[39mnew_args, \u001b[38;5;241m*\u001b[39m\u001b[38;5;241m*\u001b[39mnew_kwargs)\n",
      "File \u001b[1;32mc:\\Users\\Public\\miniconda3\\Lib\\site-packages\\matplotlib\\axes\\_axes.py:2520\u001b[0m, in \u001b[0;36mAxes.bar\u001b[1;34m(self, x, height, width, bottom, align, **kwargs)\u001b[0m\n\u001b[0;32m   2517\u001b[0m     \u001b[38;5;28;01mif\u001b[39;00m yerr \u001b[38;5;129;01mis\u001b[39;00m \u001b[38;5;129;01mnot\u001b[39;00m \u001b[38;5;28;01mNone\u001b[39;00m:\n\u001b[0;32m   2518\u001b[0m         yerr \u001b[38;5;241m=\u001b[39m \u001b[38;5;28mself\u001b[39m\u001b[38;5;241m.\u001b[39m_convert_dx(yerr, y0, y, \u001b[38;5;28mself\u001b[39m\u001b[38;5;241m.\u001b[39mconvert_yunits)\n\u001b[1;32m-> 2520\u001b[0m x, height, width, y, linewidth, hatch \u001b[38;5;241m=\u001b[39m np\u001b[38;5;241m.\u001b[39mbroadcast_arrays(\n\u001b[0;32m   2521\u001b[0m     \u001b[38;5;66;03m# Make args iterable too.\u001b[39;00m\n\u001b[0;32m   2522\u001b[0m     np\u001b[38;5;241m.\u001b[39matleast_1d(x), height, width, y, linewidth, hatch)\n\u001b[0;32m   2524\u001b[0m \u001b[38;5;66;03m# Now that units have been converted, set the tick locations.\u001b[39;00m\n\u001b[0;32m   2525\u001b[0m \u001b[38;5;28;01mif\u001b[39;00m orientation \u001b[38;5;241m==\u001b[39m \u001b[38;5;124m'\u001b[39m\u001b[38;5;124mvertical\u001b[39m\u001b[38;5;124m'\u001b[39m:\n",
      "File \u001b[1;32mc:\\Users\\Public\\miniconda3\\Lib\\site-packages\\numpy\\lib\\_stride_tricks_impl.py:551\u001b[0m, in \u001b[0;36mbroadcast_arrays\u001b[1;34m(subok, *args)\u001b[0m\n\u001b[0;32m    544\u001b[0m \u001b[38;5;66;03m# nditer is not used here to avoid the limit of 32 arrays.\u001b[39;00m\n\u001b[0;32m    545\u001b[0m \u001b[38;5;66;03m# Otherwise, something like the following one-liner would suffice:\u001b[39;00m\n\u001b[0;32m    546\u001b[0m \u001b[38;5;66;03m# return np.nditer(args, flags=['multi_index', 'zerosize_ok'],\u001b[39;00m\n\u001b[0;32m    547\u001b[0m \u001b[38;5;66;03m#                  order='C').itviews\u001b[39;00m\n\u001b[0;32m    549\u001b[0m args \u001b[38;5;241m=\u001b[39m \u001b[38;5;28mtuple\u001b[39m(np\u001b[38;5;241m.\u001b[39marray(_m, copy\u001b[38;5;241m=\u001b[39m\u001b[38;5;28;01mNone\u001b[39;00m, subok\u001b[38;5;241m=\u001b[39msubok) \u001b[38;5;28;01mfor\u001b[39;00m _m \u001b[38;5;129;01min\u001b[39;00m args)\n\u001b[1;32m--> 551\u001b[0m shape \u001b[38;5;241m=\u001b[39m _broadcast_shape(\u001b[38;5;241m*\u001b[39margs)\n\u001b[0;32m    553\u001b[0m \u001b[38;5;28;01mif\u001b[39;00m \u001b[38;5;28mall\u001b[39m(array\u001b[38;5;241m.\u001b[39mshape \u001b[38;5;241m==\u001b[39m shape \u001b[38;5;28;01mfor\u001b[39;00m array \u001b[38;5;129;01min\u001b[39;00m args):\n\u001b[0;32m    554\u001b[0m     \u001b[38;5;66;03m# Common case where nothing needs to be broadcasted.\u001b[39;00m\n\u001b[0;32m    555\u001b[0m     \u001b[38;5;28;01mreturn\u001b[39;00m args\n",
      "File \u001b[1;32mc:\\Users\\Public\\miniconda3\\Lib\\site-packages\\numpy\\lib\\_stride_tricks_impl.py:431\u001b[0m, in \u001b[0;36m_broadcast_shape\u001b[1;34m(*args)\u001b[0m\n\u001b[0;32m    426\u001b[0m \u001b[38;5;250m\u001b[39m\u001b[38;5;124;03m\"\"\"Returns the shape of the arrays that would result from broadcasting the\u001b[39;00m\n\u001b[0;32m    427\u001b[0m \u001b[38;5;124;03msupplied arrays against each other.\u001b[39;00m\n\u001b[0;32m    428\u001b[0m \u001b[38;5;124;03m\"\"\"\u001b[39;00m\n\u001b[0;32m    429\u001b[0m \u001b[38;5;66;03m# use the old-iterator because np.nditer does not handle size 0 arrays\u001b[39;00m\n\u001b[0;32m    430\u001b[0m \u001b[38;5;66;03m# consistently\u001b[39;00m\n\u001b[1;32m--> 431\u001b[0m b \u001b[38;5;241m=\u001b[39m np\u001b[38;5;241m.\u001b[39mbroadcast(\u001b[38;5;241m*\u001b[39margs[:\u001b[38;5;241m32\u001b[39m])\n\u001b[0;32m    432\u001b[0m \u001b[38;5;66;03m# unfortunately, it cannot handle 32 or more arguments directly\u001b[39;00m\n\u001b[0;32m    433\u001b[0m \u001b[38;5;28;01mfor\u001b[39;00m pos \u001b[38;5;129;01min\u001b[39;00m \u001b[38;5;28mrange\u001b[39m(\u001b[38;5;241m32\u001b[39m, \u001b[38;5;28mlen\u001b[39m(args), \u001b[38;5;241m31\u001b[39m):\n\u001b[0;32m    434\u001b[0m     \u001b[38;5;66;03m# ironically, np.broadcast does not properly handle np.broadcast\u001b[39;00m\n\u001b[0;32m    435\u001b[0m     \u001b[38;5;66;03m# objects (it treats them as scalars)\u001b[39;00m\n\u001b[0;32m    436\u001b[0m     \u001b[38;5;66;03m# use broadcasting to avoid allocating the full array\u001b[39;00m\n",
      "\u001b[1;31mValueError\u001b[0m: shape mismatch: objects cannot be broadcast to a single shape.  Mismatch is between arg 0 with shape (149,) and arg 1 with shape (5,)."
     ]
    },
    {
     "data": {
      "image/png": "[encoded data removed]",
      "text/plain": [
       "<Figure size 1000x500 with 1 Axes>"
      ]
     },
     "metadata": {},
     "output_type": "display_data"
    }
   ],
   "source": [
    "#5\n",
    "plt.figure(figsize=(10,5))\n",
    "a = df['Species']\n",
    "plt.bar(a, height= scount, data=setosa,color= 'red')"
   ]
  },
  {
   "cell_type": "code",
   "execution_count": null,
   "metadata": {},
   "outputs": [],
   "source": []
  },
  {
   "cell_type": "code",
   "execution_count": null,
   "metadata": {},
   "outputs": [],
   "source": []
  }
 ],
 "metadata": {
  "kernelspec": {
   "display_name": "base",
   "language": "python",
   "name": "python3"
  },
  "language_info": {
   "codemirror_mode": {
    "name": "ipython",
    "version": 3
   },
   "file_extension": ".py",
   "mimetype": "text/x-python",
   "name": "python",
   "nbconvert_exporter": "python",
   "pygments_lexer": "ipython3",
   "version": "3.12.3"
  }
 },
 "nbformat": 4,
 "nbformat_minor": 2
}
