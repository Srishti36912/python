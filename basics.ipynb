{
 "cells": [
  {
   "cell_type": "markdown",
   "metadata": {},
   "source": [
    "# Basics\n",
    "- variable\n",
    "- input\n",
    "- output"
   ]
  },
  {
   "cell_type": "code",
   "execution_count": 1,
   "metadata": {},
   "outputs": [],
   "source": [
    "x = 1.90\n",
    "y = \"lucknow\""
   ]
  },
  {
   "cell_type": "code",
   "execution_count": 4,
   "metadata": {},
   "outputs": [],
   "source": [
    "a = [1, 2, 3, 4]\n",
    "b = {'name': 'Raju', 'age': 12}"
   ]
  },
  {
   "cell_type": "code",
   "execution_count": 2,
   "metadata": {},
   "outputs": [
    {
     "data": {
      "text/plain": [
       "1.9"
      ]
     },
     "execution_count": 2,
     "metadata": {},
     "output_type": "execute_result"
    }
   ],
   "source": [
    "x"
   ]
  },
  {
   "cell_type": "code",
   "execution_count": 3,
   "metadata": {},
   "outputs": [
    {
     "data": {
      "text/plain": [
       "'Srishti'"
      ]
     },
     "execution_count": 3,
     "metadata": {},
     "output_type": "execute_result"
    }
   ],
   "source": [
    "input()"
   ]
  },
  {
   "cell_type": "code",
   "execution_count": 4,
   "metadata": {},
   "outputs": [],
   "source": [
    "name = input(\"Enter your name:\")"
   ]
  },
  {
   "cell_type": "code",
   "execution_count": 5,
   "metadata": {},
   "outputs": [],
   "source": [
    "city = input(\"Enter your city\")\n",
    "fav_movie = input(\"Enter your fav movie\")\n",
    "fav_color = input(\"Enter your fav color\")"
   ]
  },
  {
   "cell_type": "code",
   "execution_count": 6,
   "metadata": {},
   "outputs": [],
   "source": [
    "num1 = input(\"Enter a number A\")\n",
    "num2 = input(\"Enter a number B\")"
   ]
  },
  {
   "cell_type": "markdown",
   "metadata": {},
   "source": [
    "## Displaying Data"
   ]
  },
  {
   "cell_type": "code",
   "execution_count": 2,
   "metadata": {},
   "outputs": [
    {
     "name": "stdout",
     "output_type": "stream",
     "text": [
      "Welcome to Displaying Data\n"
     ]
    }
   ],
   "source": [
    "print('Welcome to Displaying Data') # static message to display"
   ]
  },
  {
   "cell_type": "code",
   "execution_count": 3,
   "metadata": {},
   "outputs": [
    {
     "name": "stdout",
     "output_type": "stream",
     "text": [
      "Alex\n",
      "Baron\n"
     ]
    }
   ],
   "source": [
    "a = 'Alex'\n",
    "b = 'Baron'\n",
    "print(a) # display the value of a\n",
    "print(b) # display the value of b "
   ]
  },
  {
   "cell_type": "code",
   "execution_count": 4,
   "metadata": {},
   "outputs": [
    {
     "name": "stdout",
     "output_type": "stream",
     "text": [
      "Alex Baron\n",
      "Alex Alex Alex Alex\n"
     ]
    }
   ],
   "source": [
    "print(a, b)\n",
    "print(a, a, a, a)"
   ]
  },
  {
   "cell_type": "code",
   "execution_count": 6,
   "metadata": {},
   "outputs": [
    {
     "name": "stdout",
     "output_type": "stream",
     "text": [
      "Your name is Srishti\n"
     ]
    }
   ],
   "source": [
    "name = input('Enter your name')\n",
    "print('Your name is', name)"
   ]
  },
  {
   "cell_type": "code",
   "execution_count": 9,
   "metadata": {},
   "outputs": [
    {
     "name": "stdout",
     "output_type": "stream",
     "text": [
      "You entered 45 and 67\n"
     ]
    }
   ],
   "source": [
    "num1 = input('Enter a number')\n",
    "num2 = input('Enter a number')\n",
    "print('You entered', num1 ,'and', num2)\n"
   ]
  },
  {
   "cell_type": "code",
   "execution_count": 10,
   "metadata": {},
   "outputs": [
    {
     "name": "stdout",
     "output_type": "stream",
     "text": [
      "The first num is 45\n",
      "\n",
      "The second num is 67\n"
     ]
    }
   ],
   "source": [
    "print('The first num is', num1)\n",
    "print()\n",
    "print('The second num is', num2)"
   ]
  },
  {
   "cell_type": "markdown",
   "metadata": {},
   "source": [
    "'displaying data with messages'\n",
    "\n",
    "1. comma separated\n",
    "2. format string\n",
    "3. format function\n",
    "4. string concatenation\n",
    "5. f-string"
   ]
  },
  {
   "cell_type": "code",
   "execution_count": 13,
   "metadata": {},
   "outputs": [
    {
     "name": "stdout",
     "output_type": "stream",
     "text": [
      "The values are 5, 3.200000, Hello\n",
      "The values are Hello, 5, 3.200000\n",
      "The values are Hello, 5, 3.2\n"
     ]
    }
   ],
   "source": [
    "# format string\n",
    "a, b, c = 5, 3.2, \"Hello\" # multiple assignment\n",
    "print(\"The values are %d, %f, %s\" % (a, b, c)) # %d = int, %f = float, %s = string\n",
    "print(\"The values are %s, %d, %f\" % (c, a, b))\n",
    "print(\"The values are %s, %s, %s\" % (c, a, b))\n"
   ]
  },
  {
   "cell_type": "code",
   "execution_count": 14,
   "metadata": {},
   "outputs": [
    {
     "name": "stdout",
     "output_type": "stream",
     "text": [
      "The value of a =>5, b =>3.2, c =>Hello\n"
     ]
    }
   ],
   "source": [
    "# format method\n",
    "print('The value of a =>{}, b =>{}, c =>{}'.format(a, b, c))"
   ]
  },
  {
   "cell_type": "code",
   "execution_count": 17,
   "metadata": {},
   "outputs": [
    {
     "name": "stdout",
     "output_type": "stream",
     "text": [
      "Hello World\n",
      "The value of a =5\n",
      "The value of c =Hello\n",
      "The value of b =3.2\n",
      "The value of a = 5, b = 3.2, c = Hello\n"
     ]
    }
   ],
   "source": [
    "# string concatenation\n",
    "print('Hello ' + 'World')\n",
    "print('The value of a =' +str(a))\n",
    "print('The value of c =' +c)\n",
    "print('The value of b =' +str(b))\n",
    "print('The value of a = '+str(a) + ', b = '+str(b) + ', c = ' +c)"
   ]
  },
  {
   "cell_type": "code",
   "execution_count": 18,
   "metadata": {},
   "outputs": [
    {
     "name": "stdout",
     "output_type": "stream",
     "text": [
      "The value of a =>5, b =>3.2, c =>Hello\n"
     ]
    }
   ],
   "source": [
    "# f-string\n",
    "print(f'The value of a =>{a}, b =>{b}, c =>{c}')"
   ]
  },
  {
   "cell_type": "markdown",
   "metadata": {},
   "source": [
    "### f-string setting"
   ]
  },
  {
   "cell_type": "code",
   "execution_count": 21,
   "metadata": {},
   "outputs": [
    {
     "name": "stdout",
     "output_type": "stream",
     "text": [
      "10/3 = 3.3333333333333335\n",
      "10/3 = 3.33\n"
     ]
    }
   ],
   "source": [
    "# formatting values\n",
    "a,b = 10,3\n",
    "print(f'{a}/{b} = {a/b}')\n",
    "print(f'{a}/{b} = {a/b:.2f}') # .2f = 2 decimal places"
   ]
  },
  {
   "cell_type": "code",
   "execution_count": 22,
   "metadata": {},
   "outputs": [
    {
     "name": "stdout",
     "output_type": "stream",
     "text": [
      "You are Alex\n",
      "You are Alex      \n",
      "You are       Alex\n",
      "You are                        Alex                       \n"
     ]
    }
   ],
   "source": [
    "# alignment\n",
    "name = 'Alex'\n",
    "print(f'You are {name}')\n",
    "print(f'You are {name:10}') # 10 here is number of characters for display\n",
    "print(f'You are {name:>10}') # right alignment\n",
    "print(f'You are {name:^50}') # center alignment"
   ]
  },
  {
   "cell_type": "code",
   "execution_count": 24,
   "metadata": {},
   "outputs": [
    {
     "name": "stdout",
     "output_type": "stream",
     "text": [
      "🍎 fruit 1:       Apple\n",
      "🍇 fruit 2:   Blueberry\n",
      "🍒 fruit 3:      Cherry\n",
      "🍉 fruit 4: Dragonfruit\n"
     ]
    }
   ],
   "source": [
    "a,b,c,d ='Apple', 'Blueberry', 'Cherry', 'Dragonfruit'\n",
    "print(f'🍎 fruit 1: {a:>11}') \n",
    "print(f'🍇 fruit 2: {b:>11}') \n",
    "print(f'🍒 fruit 3: {c:>11}') \n",
    "print(f'🍉 fruit 4: {d:>11}') "
   ]
  },
  {
   "cell_type": "code",
   "execution_count": null,
   "metadata": {},
   "outputs": [],
   "source": []
  }
 ],
 "metadata": {
  "kernelspec": {
   "display_name": "base",
   "language": "python",
   "name": "python3"
  },
  "language_info": {
   "codemirror_mode": {
    "name": "ipython",
    "version": 3
   },
   "file_extension": ".py",
   "mimetype": "text/x-python",
   "name": "python",
   "nbconvert_exporter": "python",
   "pygments_lexer": "ipython3",
   "version": "3.12.3"
  }
 },
 "nbformat": 4,
 "nbformat_minor": 2
}
