{
 "cells": [
  {
   "cell_type": "code",
   "execution_count": 1,
   "metadata": {},
   "outputs": [
    {
     "name": "stdout",
     "output_type": "stream",
     "text": [
      "Requirement already satisfied: numpy in c:\\users\\public\\miniconda3\\lib\\site-packages (2.0.0)\n",
      "Note: you may need to restart the kernel to use updated packages.\n"
     ]
    }
   ],
   "source": [
    "pip install numpy"
   ]
  },
  {
   "cell_type": "code",
   "execution_count": 1,
   "metadata": {},
   "outputs": [],
   "source": [
    "import numpy as np"
   ]
  },
  {
   "cell_type": "code",
   "execution_count": 4,
   "metadata": {},
   "outputs": [
    {
     "name": "stdout",
     "output_type": "stream",
     "text": [
      "[1 2 3 4 5] [ 6  7  8  9 10]\n",
      "<class 'numpy.ndarray'>\n",
      "<class 'numpy.ndarray'>\n"
     ]
    }
   ],
   "source": [
    "# Create a 1D numpy array\n",
    "a = np.array([1,2,3,4,5])\n",
    "b = np.array([6,7,8,9,10])\n",
    "print(a,b)\n",
    "print(type(a))\n",
    "print(type(b))"
   ]
  },
  {
   "cell_type": "code",
   "execution_count": 5,
   "metadata": {},
   "outputs": [
    {
     "name": "stdout",
     "output_type": "stream",
     "text": [
      "[ 7  9 11 13 15]\n",
      "[ 6 14 24 36 50]\n",
      "[-5 -5 -5 -5 -5]\n"
     ]
    }
   ],
   "source": [
    "print(a+b)\n",
    "print(a*b)\n",
    "print(a-b)"
   ]
  },
  {
   "cell_type": "markdown",
   "metadata": {},
   "source": [
    "np.array([[],[],[]])"
   ]
  },
  {
   "cell_type": "code",
   "execution_count": 4,
   "metadata": {},
   "outputs": [
    {
     "name": "stdout",
     "output_type": "stream",
     "text": [
      "[[1 2]\n",
      " [2 3]]\n"
     ]
    }
   ],
   "source": [
    "n2 = np.array([[1,2],[2,3]])\n",
    "print(n2)"
   ]
  },
  {
   "cell_type": "code",
   "execution_count": 5,
   "metadata": {},
   "outputs": [
    {
     "name": "stdout",
     "output_type": "stream",
     "text": [
      "[[1 2]\n",
      " [3 4]\n",
      " [5 6]]\n"
     ]
    }
   ],
   "source": [
    "n3 = np.array([[1,2],[3,4],[5,6]])\n",
    "print(n3)"
   ]
  },
  {
   "cell_type": "code",
   "execution_count": 6,
   "metadata": {},
   "outputs": [
    {
     "name": "stdout",
     "output_type": "stream",
     "text": [
      "(2, 2)\n",
      "2\n",
      "int64\n"
     ]
    }
   ],
   "source": [
    "print(n2.shape) # no of rows and columns\n",
    "print(n2.ndim) # gives the dimension\n",
    "print(n3.dtype) # gives the type of the matrix\n"
   ]
  },
  {
   "cell_type": "code",
   "execution_count": 10,
   "metadata": {},
   "outputs": [
    {
     "data": {
      "text/plain": [
       "array([ 1,  6, 11, 16, 21, 26, 31, 36, 41, 46, 51, 56, 61, 66, 71, 76, 81,\n",
       "       86, 91, 96])"
      ]
     },
     "execution_count": 10,
     "metadata": {},
     "output_type": "execute_result"
    }
   ],
   "source": [
    "np.arange(1,100,5)"
   ]
  },
  {
   "cell_type": "code",
   "execution_count": 11,
   "metadata": {},
   "outputs": [
    {
     "data": {
      "text/plain": [
       "array([[98, 85, 18],\n",
       "       [84, 98, 60]], dtype=int32)"
      ]
     },
     "execution_count": 11,
     "metadata": {},
     "output_type": "execute_result"
    }
   ],
   "source": [
    "np.random.randint(1,100, size =(2,3))"
   ]
  },
  {
   "cell_type": "code",
   "execution_count": 6,
   "metadata": {},
   "outputs": [
    {
     "name": "stdout",
     "output_type": "stream",
     "text": [
      "[[1 2 3]\n",
      " [4 5 6]\n",
      " [7 8 9]]\n",
      "[[1 2 3]\n",
      " [2 3 4]\n",
      " [3 4 5]]\n"
     ]
    }
   ],
   "source": [
    "x = np.array([[1,2,3],[4,5,6],[7,8,9]])\n",
    "print(x)\n",
    "y = np.array([[1,2,3],[2,3,4],[3,4,5]])\n",
    "print(y)\n"
   ]
  },
  {
   "cell_type": "code",
   "execution_count": 15,
   "metadata": {},
   "outputs": [
    {
     "name": "stdout",
     "output_type": "stream",
     "text": [
      "[[ 2  4  6]\n",
      " [ 6  8 10]\n",
      " [10 12 14]]\n",
      "[[0 0 0]\n",
      " [2 2 2]\n",
      " [4 4 4]]\n",
      "[[ 1  4  9]\n",
      " [ 8 15 24]\n",
      " [21 32 45]]\n"
     ]
    }
   ],
   "source": [
    "print(x+y)\n",
    "print(x-y)\n",
    "print(x*y)"
   ]
  },
  {
   "cell_type": "code",
   "execution_count": 16,
   "metadata": {},
   "outputs": [
    {
     "name": "stdout",
     "output_type": "stream",
     "text": [
      "[[14 20 26]\n",
      " [32 47 62]\n",
      " [50 74 98]]\n"
     ]
    }
   ],
   "source": [
    "print(x@y) # or np.dot(x,y)"
   ]
  },
  {
   "cell_type": "code",
   "execution_count": 17,
   "metadata": {},
   "outputs": [
    {
     "data": {
      "text/plain": [
       "np.int64(362880)"
      ]
     },
     "execution_count": 17,
     "metadata": {},
     "output_type": "execute_result"
    }
   ],
   "source": [
    "x.prod()"
   ]
  },
  {
   "cell_type": "code",
   "execution_count": 4,
   "metadata": {},
   "outputs": [
    {
     "data": {
      "text/plain": [
       "np.float64(5.0)"
      ]
     },
     "execution_count": 4,
     "metadata": {},
     "output_type": "execute_result"
    }
   ],
   "source": [
    "x.mean()"
   ]
  },
  {
   "cell_type": "code",
   "execution_count": 5,
   "metadata": {},
   "outputs": [
    {
     "data": {
      "text/plain": [
       "array([4., 5., 6.])"
      ]
     },
     "execution_count": 5,
     "metadata": {},
     "output_type": "execute_result"
    }
   ],
   "source": [
    "x.mean(axis = 0)"
   ]
  },
  {
   "cell_type": "code",
   "execution_count": 7,
   "metadata": {},
   "outputs": [
    {
     "name": "stdout",
     "output_type": "stream",
     "text": [
      "[1 2 3]\n"
     ]
    }
   ],
   "source": [
    "print(x.min(axis = 0))"
   ]
  },
  {
   "cell_type": "code",
   "execution_count": 8,
   "metadata": {},
   "outputs": [
    {
     "name": "stdout",
     "output_type": "stream",
     "text": [
      "[1 4 7]\n"
     ]
    }
   ],
   "source": [
    "print(x.min(axis = 1))"
   ]
  },
  {
   "cell_type": "code",
   "execution_count": 8,
   "metadata": {},
   "outputs": [
    {
     "name": "stdout",
     "output_type": "stream",
     "text": [
      "45\n",
      "2.581988897471611\n",
      "6.666666666666667\n"
     ]
    }
   ],
   "source": [
    "print(x.sum())\n",
    "print(x.std())\n",
    "print(x.var())"
   ]
  },
  {
   "cell_type": "code",
   "execution_count": 9,
   "metadata": {},
   "outputs": [
    {
     "name": "stdout",
     "output_type": "stream",
     "text": [
      "5.0\n",
      "3.0\n",
      "7.0\n"
     ]
    }
   ],
   "source": [
    "a = np.array([1,2,3,4,5,6,7,8,9])\n",
    "print(np.percentile(a,50)) # median\n",
    "print(np.percentile(a,25)) # 1st quartile\n",
    "print(np.percentile(a,75)) # 3rd quartile"
   ]
  },
  {
   "cell_type": "code",
   "execution_count": 12,
   "metadata": {},
   "outputs": [
    {
     "name": "stdout",
     "output_type": "stream",
     "text": [
      "[1 2 3 4 5 6 7 8 9]\n"
     ]
    }
   ],
   "source": [
    "print(np.unique(x)) # returns uniques values"
   ]
  },
  {
   "cell_type": "code",
   "execution_count": 13,
   "metadata": {},
   "outputs": [
    {
     "name": "stdout",
     "output_type": "stream",
     "text": [
      "[[64 54 37 66]\n",
      " [73 77 21 74]\n",
      " [48 74 19 38]\n",
      " [22 55 80 25]]\n",
      "2x8\n",
      "[[64 54 37 66 73 77 21 74]\n",
      " [48 74 19 38 22 55 80 25]]\n",
      "8x2\n",
      "[[64 54]\n",
      " [37 66]\n",
      " [73 77]\n",
      " [21 74]\n",
      " [48 74]\n",
      " [19 38]\n",
      " [22 55]\n",
      " [80 25]]\n",
      "2x2x4\n",
      "[[[64 54 37 66]\n",
      "  [73 77 21 74]]\n",
      "\n",
      " [[48 74 19 38]\n",
      "  [22 55 80 25]]]\n"
     ]
    }
   ],
   "source": [
    "# reshape the array\n",
    "a = np.random.randint(11,100, (4,4))\n",
    "print(a)\n",
    "print('2x8')\n",
    "print(a.reshape(2,8))\n",
    "print('8x2')\n",
    "print(a.reshape(8,2))\n",
    "print('2x2x4')\n",
    "print(a.reshape(2,2,4))"
   ]
  },
  {
   "cell_type": "markdown",
   "metadata": {},
   "source": [
    "slicing in 2D matrix\n",
    "\n",
    "```\n",
    "\n",
    "var[start: stop: step] #1D\n",
    "\n",
    "var[rstart:rstop:rstep, cstart: cstop: cstep] #2D\n",
    "```"
   ]
  },
  {
   "cell_type": "code",
   "execution_count": 2,
   "metadata": {},
   "outputs": [
    {
     "name": "stdout",
     "output_type": "stream",
     "text": [
      "[[5 6 3 4 9]\n",
      " [3 8 8 7 7]\n",
      " [5 8 2 4 3]\n",
      " [3 5 5 5 7]\n",
      " [8 9 8 5 1]]\n"
     ]
    }
   ],
   "source": [
    "x = np.random.randint(1,10, (5,5)) # 5X5 matrix\n",
    "print(x)"
   ]
  },
  {
   "cell_type": "code",
   "execution_count": 6,
   "metadata": {},
   "outputs": [
    {
     "name": "stdout",
     "output_type": "stream",
     "text": [
      "[5 6 3 4 9]\n",
      "6\n",
      "[8 9 8 5 1]\n",
      "[[5 6 3 4 9]\n",
      " [3 8 8 7 7]\n",
      " [5 8 2 4 3]]\n",
      "[[3 5 5 5 7]\n",
      " [8 9 8 5 1]]\n"
     ]
    }
   ],
   "source": [
    "#row first (index 0)\n",
    "print(x[0])\n",
    "#row first col second\n",
    "print(x[0,1])\n",
    "print(x[-1]) # last row\n",
    "print(x[:3]) # first 3 rows\n",
    "print(x[3:]) # all rows after 3rd row"
   ]
  },
  {
   "cell_type": "code",
   "execution_count": 9,
   "metadata": {},
   "outputs": [
    {
     "name": "stdout",
     "output_type": "stream",
     "text": [
      "[5 3 5 3 8]\n"
     ]
    }
   ],
   "source": [
    "print(x[:,0])"
   ]
  },
  {
   "cell_type": "code",
   "execution_count": 10,
   "metadata": {},
   "outputs": [
    {
     "name": "stdout",
     "output_type": "stream",
     "text": [
      "[9 7 3 7 1]\n"
     ]
    }
   ],
   "source": [
    "print(x[:,-1])"
   ]
  },
  {
   "cell_type": "code",
   "execution_count": 12,
   "metadata": {},
   "outputs": [
    {
     "name": "stdout",
     "output_type": "stream",
     "text": [
      "[[5 6]\n",
      " [3 8]\n",
      " [5 8]\n",
      " [3 5]\n",
      " [8 9]]\n"
     ]
    }
   ],
   "source": [
    "print(x[:,:2])"
   ]
  },
  {
   "cell_type": "code",
   "execution_count": 14,
   "metadata": {},
   "outputs": [
    {
     "name": "stdout",
     "output_type": "stream",
     "text": [
      "[[5 6 9]\n",
      " [3 8 7]\n",
      " [5 8 3]\n",
      " [3 5 7]\n",
      " [8 9 1]]\n"
     ]
    }
   ],
   "source": [
    "print(x[:,[0,1,-1]]) # selective column index"
   ]
  },
  {
   "cell_type": "code",
   "execution_count": 16,
   "metadata": {},
   "outputs": [
    {
     "name": "stdout",
     "output_type": "stream",
     "text": [
      "[[8 8 7]\n",
      " [8 2 4]\n",
      " [5 5 5]]\n"
     ]
    }
   ],
   "source": [
    "print(x[1:-1,1:-1]) # middle elements"
   ]
  },
  {
   "cell_type": "markdown",
   "metadata": {},
   "source": [
    "boolean filtering\n",
    "\n",
    "extract data from matrix based on condition "
   ]
  },
  {
   "cell_type": "code",
   "execution_count": 18,
   "metadata": {},
   "outputs": [
    {
     "data": {
      "text/plain": [
       "array([6, 9, 8, 8, 7, 7, 8, 7, 8, 9, 8], dtype=int32)"
      ]
     },
     "execution_count": 18,
     "metadata": {},
     "output_type": "execute_result"
    }
   ],
   "source": [
    "x[x > 5] # boolean filtering"
   ]
  },
  {
   "cell_type": "code",
   "execution_count": 23,
   "metadata": {},
   "outputs": [
    {
     "name": "stdout",
     "output_type": "stream",
     "text": [
      "(14,)\n",
      "[[5 3 4 3 5 2 4]\n",
      " [3 3 5 5 5 5 1]]\n"
     ]
    }
   ],
   "source": [
    "y = x[x <= 5]\n",
    "print(y.shape)\n",
    "z = y.reshape(2,7)\n",
    "print(z)"
   ]
  },
  {
   "cell_type": "markdown",
   "metadata": {},
   "source": [
    "visualizing numerical data"
   ]
  },
  {
   "cell_type": "code",
   "execution_count": 24,
   "metadata": {},
   "outputs": [
    {
     "name": "stderr",
     "output_type": "stream",
     "text": [
      "WARNING: Package(s) not found: matplotlib\n"
     ]
    }
   ],
   "source": [
    "!pip show matplotlib"
   ]
  },
  {
   "cell_type": "code",
   "execution_count": 25,
   "metadata": {},
   "outputs": [
    {
     "name": "stderr",
     "output_type": "stream",
     "text": [
      "Matplotlib is building the font cache; this may take a moment.\n"
     ]
    }
   ],
   "source": [
    "import matplotlib.pyplot as plt"
   ]
  },
  {
   "cell_type": "code",
   "execution_count": 51,
   "metadata": {},
   "outputs": [
    {
     "data": {
      "image/png": "[encoded data removed]",
      "text/plain": [
       "<Figure size 500x500 with 1 Axes>"
      ]
     },
     "metadata": {},
     "output_type": "display_data"
    }
   ],
   "source": [
    "plt.figure(figsize=(5,5))\n",
    "plt.plot([1,2,3],[4,5,6],linewidth = 10, color='silver', linestyle = 'dashed',marker = 'o', markersize=20)\n",
    "plt.plot([1,2,3],[6,5,4],linewidth = 10, color='pink', linestyle = 'dashed',marker = 'o', markersize=20)\n",
    "plt.xticks([1,2,3],['one','two','three'], rotation=90)\n",
    "plt.yticks([4,5,6],['four','five','six'], rotation=90)\n",
    "plt.title('My first plot')\n",
    "plt.xlabel('X-axis')\n",
    "plt.ylabel('Y-axis')\n",
    "plt.text(x =2,y=5.35, s=\"Crossing\\n point\",fontsize=12, color = 'red',horizontalalignment='center')\n",
    "plt.show()"
   ]
  },
  {
   "cell_type": "code",
   "execution_count": null,
   "metadata": {},
   "outputs": [],
   "source": []
  }
 ],
 "metadata": {
  "kernelspec": {
   "display_name": "base",
   "language": "python",
   "name": "python3"
  },
  "language_info": {
   "codemirror_mode": {
    "name": "ipython",
    "version": 3
   },
   "file_extension": ".py",
   "mimetype": "text/x-python",
   "name": "python",
   "nbconvert_exporter": "python",
   "pygments_lexer": "ipython3",
   "version": "3.12.3"
  }
 },
 "nbformat": 4,
 "nbformat_minor": 2
}
